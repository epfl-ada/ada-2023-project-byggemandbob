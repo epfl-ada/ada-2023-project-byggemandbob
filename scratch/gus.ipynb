{
 "cells": [
  {
   "cell_type": "code",
   "execution_count": 4,
   "id": "initial_id",
   "metadata": {
    "collapsed": true,
    "ExecuteTime": {
     "end_time": "2023-11-01T12:10:31.075445800Z",
     "start_time": "2023-11-01T12:10:29.695448200Z"
    }
   },
   "outputs": [],
   "source": [
    "import pandas as pd\n",
    "\n",
    "datapath = \"data/\"\n"
   ]
  },
  {
   "cell_type": "code",
   "execution_count": 17,
   "outputs": [
    {
     "data": {
      "text/plain": "       Wikipedia Movie ID Freebase Movie ID  \\\n10833            32884821        /m/0hzp8lf   \n54217             8526364        /m/0276mk2   \n4709              8949632        /m/027qw6h   \n6041             13295969        /m/03c0z2m   \n38175            24694574        /m/080683y   \n48076            22657030        /m/05zpsj5   \n64297             3507995         /m/09h95g   \n7547             13181736        /m/02zbhwr   \n23354            23238530        /m/065yy42   \n66315            31377570        /m/0gk_vnp   \n\n                                           Movie name Movie release date  \\\n10833                                       Bodyguard         2012-01-14   \n54217                                       The Event               2003   \n4709                                    The Virginian               1923   \n6041                                 Any Mother's Son         1997-08-11   \n38175                    Le Cirque: A Table In Heaven               2007   \n48076                                  Art Of Revenge               2003   \n64297             Elevation 2001: U2 Live from Boston         2001-11-26   \n7547                                       Whose Zoo?         1918-05-22   \n23354       Miss Peach: Peachy Sweetness Huge Breasts         2005-09-23   \n66315  Why Men Don't Listen and Women Can't Read Maps         2007-11-29   \n\n       Movie box office revenue  Movie runtime  \\\n10833                       NaN            NaN   \n54217                       NaN          104.0   \n4709                        NaN            NaN   \n6041                        NaN           90.0   \n38175                       NaN           78.0   \n48076                       NaN           87.0   \n64297                       NaN          108.0   \n7547                        NaN            NaN   \n23354                       NaN           60.0   \n66315                15026914.0          103.0   \n\n                                         Movie languages  \\\n10833                                                 {}   \n54217                 {\"/m/02h40lc\": \"English Language\"}   \n4709   {\"/m/06ppq\": \"Silent film\", \"/m/02h40lc\": \"Eng...   \n6041                  {\"/m/02h40lc\": \"English Language\"}   \n38175                 {\"/m/02h40lc\": \"English Language\"}   \n48076                                                 {}   \n64297                                                 {}   \n7547                  {\"/m/02h40lc\": \"English Language\"}   \n23354                  {\"/m/03_9r\": \"Japanese Language\"}   \n66315                                                 {}   \n\n                                         Movie countries  \\\n10833                                                 {}   \n54217  {\"/m/09c7w0\": \"United States of America\", \"/m/...   \n4709           {\"/m/09c7w0\": \"United States of America\"}   \n6041           {\"/m/09c7w0\": \"United States of America\"}   \n38175          {\"/m/09c7w0\": \"United States of America\"}   \n48076          {\"/m/09c7w0\": \"United States of America\"}   \n64297          {\"/m/09c7w0\": \"United States of America\"}   \n7547           {\"/m/09c7w0\": \"United States of America\"}   \n23354                              {\"/m/03_3d\": \"Japan\"}   \n66315                                                 {}   \n\n                                            Movie genres  \n10833  {\"/m/05p553\": \"Comedy film\", \"/m/02kdv5l\": \"Ac...  \n54217  {\"/m/0hn10\": \"LGBT\", \"/m/0hj3n0w\": \"Ensemble F...  \n4709   {\"/m/06ppq\": \"Silent film\", \"/m/0219x_\": \"Indi...  \n6041                             {\"/m/07s9rl0\": \"Drama\"}  \n38175  {\"/m/07s9rl0\": \"Drama\", \"/m/0jtdp\": \"Documenta...  \n48076  {\"/m/01jfsb\": \"Thriller\", \"/m/02n4kr\": \"Myster...  \n64297                      {\"/m/0d2rhq\": \"Concert film\"}  \n7547   {\"/m/02hmvc\": \"Short Film\", \"/m/06ppq\": \"Silen...  \n23354  {\"/m/0gw5n2f\": \"Japanese Movies\", \"/m/02js9\": ...  \n66315  {\"/m/02l7c8\": \"Romance Film\", \"/m/01z4y\": \"Com...  ",
      "text/html": "<div>\n<style scoped>\n    .dataframe tbody tr th:only-of-type {\n        vertical-align: middle;\n    }\n\n    .dataframe tbody tr th {\n        vertical-align: top;\n    }\n\n    .dataframe thead th {\n        text-align: right;\n    }\n</style>\n<table border=\"1\" class=\"dataframe\">\n  <thead>\n    <tr style=\"text-align: right;\">\n      <th></th>\n      <th>Wikipedia Movie ID</th>\n      <th>Freebase Movie ID</th>\n      <th>Movie name</th>\n      <th>Movie release date</th>\n      <th>Movie box office revenue</th>\n      <th>Movie runtime</th>\n      <th>Movie languages</th>\n      <th>Movie countries</th>\n      <th>Movie genres</th>\n    </tr>\n  </thead>\n  <tbody>\n    <tr>\n      <th>10833</th>\n      <td>32884821</td>\n      <td>/m/0hzp8lf</td>\n      <td>Bodyguard</td>\n      <td>2012-01-14</td>\n      <td>NaN</td>\n      <td>NaN</td>\n      <td>{}</td>\n      <td>{}</td>\n      <td>{\"/m/05p553\": \"Comedy film\", \"/m/02kdv5l\": \"Ac...</td>\n    </tr>\n    <tr>\n      <th>54217</th>\n      <td>8526364</td>\n      <td>/m/0276mk2</td>\n      <td>The Event</td>\n      <td>2003</td>\n      <td>NaN</td>\n      <td>104.0</td>\n      <td>{\"/m/02h40lc\": \"English Language\"}</td>\n      <td>{\"/m/09c7w0\": \"United States of America\", \"/m/...</td>\n      <td>{\"/m/0hn10\": \"LGBT\", \"/m/0hj3n0w\": \"Ensemble F...</td>\n    </tr>\n    <tr>\n      <th>4709</th>\n      <td>8949632</td>\n      <td>/m/027qw6h</td>\n      <td>The Virginian</td>\n      <td>1923</td>\n      <td>NaN</td>\n      <td>NaN</td>\n      <td>{\"/m/06ppq\": \"Silent film\", \"/m/02h40lc\": \"Eng...</td>\n      <td>{\"/m/09c7w0\": \"United States of America\"}</td>\n      <td>{\"/m/06ppq\": \"Silent film\", \"/m/0219x_\": \"Indi...</td>\n    </tr>\n    <tr>\n      <th>6041</th>\n      <td>13295969</td>\n      <td>/m/03c0z2m</td>\n      <td>Any Mother's Son</td>\n      <td>1997-08-11</td>\n      <td>NaN</td>\n      <td>90.0</td>\n      <td>{\"/m/02h40lc\": \"English Language\"}</td>\n      <td>{\"/m/09c7w0\": \"United States of America\"}</td>\n      <td>{\"/m/07s9rl0\": \"Drama\"}</td>\n    </tr>\n    <tr>\n      <th>38175</th>\n      <td>24694574</td>\n      <td>/m/080683y</td>\n      <td>Le Cirque: A Table In Heaven</td>\n      <td>2007</td>\n      <td>NaN</td>\n      <td>78.0</td>\n      <td>{\"/m/02h40lc\": \"English Language\"}</td>\n      <td>{\"/m/09c7w0\": \"United States of America\"}</td>\n      <td>{\"/m/07s9rl0\": \"Drama\", \"/m/0jtdp\": \"Documenta...</td>\n    </tr>\n    <tr>\n      <th>48076</th>\n      <td>22657030</td>\n      <td>/m/05zpsj5</td>\n      <td>Art Of Revenge</td>\n      <td>2003</td>\n      <td>NaN</td>\n      <td>87.0</td>\n      <td>{}</td>\n      <td>{\"/m/09c7w0\": \"United States of America\"}</td>\n      <td>{\"/m/01jfsb\": \"Thriller\", \"/m/02n4kr\": \"Myster...</td>\n    </tr>\n    <tr>\n      <th>64297</th>\n      <td>3507995</td>\n      <td>/m/09h95g</td>\n      <td>Elevation 2001: U2 Live from Boston</td>\n      <td>2001-11-26</td>\n      <td>NaN</td>\n      <td>108.0</td>\n      <td>{}</td>\n      <td>{\"/m/09c7w0\": \"United States of America\"}</td>\n      <td>{\"/m/0d2rhq\": \"Concert film\"}</td>\n    </tr>\n    <tr>\n      <th>7547</th>\n      <td>13181736</td>\n      <td>/m/02zbhwr</td>\n      <td>Whose Zoo?</td>\n      <td>1918-05-22</td>\n      <td>NaN</td>\n      <td>NaN</td>\n      <td>{\"/m/02h40lc\": \"English Language\"}</td>\n      <td>{\"/m/09c7w0\": \"United States of America\"}</td>\n      <td>{\"/m/02hmvc\": \"Short Film\", \"/m/06ppq\": \"Silen...</td>\n    </tr>\n    <tr>\n      <th>23354</th>\n      <td>23238530</td>\n      <td>/m/065yy42</td>\n      <td>Miss Peach: Peachy Sweetness Huge Breasts</td>\n      <td>2005-09-23</td>\n      <td>NaN</td>\n      <td>60.0</td>\n      <td>{\"/m/03_9r\": \"Japanese Language\"}</td>\n      <td>{\"/m/03_3d\": \"Japan\"}</td>\n      <td>{\"/m/0gw5n2f\": \"Japanese Movies\", \"/m/02js9\": ...</td>\n    </tr>\n    <tr>\n      <th>66315</th>\n      <td>31377570</td>\n      <td>/m/0gk_vnp</td>\n      <td>Why Men Don't Listen and Women Can't Read Maps</td>\n      <td>2007-11-29</td>\n      <td>15026914.0</td>\n      <td>103.0</td>\n      <td>{}</td>\n      <td>{}</td>\n      <td>{\"/m/02l7c8\": \"Romance Film\", \"/m/01z4y\": \"Com...</td>\n    </tr>\n  </tbody>\n</table>\n</div>"
     },
     "execution_count": 17,
     "metadata": {},
     "output_type": "execute_result"
    }
   ],
   "source": [
    "#MOVIE METADATA\n",
    "\n",
    "headers_movie_metadata = [\"Wikipedia Movie ID\", \"Freebase Movie ID\", \"Movie name\", \"Movie release date\",\n",
    "                          \"Movie box office revenue\", \"Movie runtime\", \"Movie languages\", \"Movie countries\",\n",
    "                          \"Movie genres\"]\n",
    "\n",
    "movie_metadata = pd.read_csv('../data/movie.metadata.tsv', sep=\"\\t\", names=headers_movie_metadata)\n",
    "\n",
    "#[\"Wikipedia Movie ID\", \"Freebase Movie ID\", \"Character Name\",\tActor DOB\tActor gender\tActor height\tActor ethnicity\tActor Name\tActor age at movie release\tFreebase character map\n",
    "\n",
    "#movie_metadata.count()\n",
    "movie_metadata.sample(10)\n",
    "#movie_metadata[movie_metadata[\"Movie release date\"]]"
   ],
   "metadata": {
    "collapsed": false,
    "ExecuteTime": {
     "end_time": "2023-11-01T12:14:10.980388100Z",
     "start_time": "2023-11-01T12:14:10.753385700Z"
    }
   },
   "id": "8b39f70fd31168a9"
  },
  {
   "cell_type": "code",
   "execution_count": 19,
   "outputs": [
    {
     "data": {
      "text/plain": "73340"
     },
     "execution_count": 19,
     "metadata": {},
     "output_type": "execute_result"
    }
   ],
   "source": [
    "# use TVDB to populate missing revenue data : \"Movie box office revenue\n",
    "movie_metadata['Movie box office revenue'].isna().sum()\n",
    "\n"
   ],
   "metadata": {
    "collapsed": false,
    "ExecuteTime": {
     "end_time": "2023-11-01T12:15:49.595034500Z",
     "start_time": "2023-11-01T12:15:49.591051500Z"
    }
   },
   "id": "6fff769b54006b11"
  }
 ],
 "metadata": {
  "kernelspec": {
   "display_name": "Python 3",
   "language": "python",
   "name": "python3"
  },
  "language_info": {
   "codemirror_mode": {
    "name": "ipython",
    "version": 2
   },
   "file_extension": ".py",
   "mimetype": "text/x-python",
   "name": "python",
   "nbconvert_exporter": "python",
   "pygments_lexer": "ipython2",
   "version": "2.7.6"
  }
 },
 "nbformat": 4,
 "nbformat_minor": 5
}
