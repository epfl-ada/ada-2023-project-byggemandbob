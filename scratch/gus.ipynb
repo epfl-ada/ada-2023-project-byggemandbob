{
 "cells": [
  {
   "cell_type": "code",
   "execution_count": 2,
   "id": "initial_id",
   "metadata": {
    "collapsed": true,
    "ExecuteTime": {
     "end_time": "2023-11-01T14:49:21.860609200Z",
     "start_time": "2023-11-01T14:49:21.291677400Z"
    }
   },
   "outputs": [],
   "source": [
    "# pip install tmdbsimple\n",
    "# pip install python-dotenv\n",
    "\n",
    "import pandas as pd\n",
    "\n",
    "datapath = \"data/\"\n"
   ]
  },
  {
   "cell_type": "code",
   "execution_count": 4,
   "outputs": [
    {
     "data": {
      "text/plain": "     Wikipedia Movie ID Freebase Movie ID  \\\n0                975900         /m/03vyhn   \n1               3196793         /m/08yl5d   \n2              28463795        /m/0crgdbh   \n3               9363483        /m/0285_cd   \n4                261236         /m/01mrr1   \n..                  ...               ...   \n140             3550323         /m/09kzfd   \n141             1072373         /m/043j2x   \n142             1765938         /m/05v5ws   \n143             7460227         /m/0kv80y   \n144            19095614        /m/04yc5nd   \n\n                                            Movie name Movie release date  \\\n0                                       Ghosts of Mars         2001-08-24   \n1    Getting Away with Murder: The JonBenét Ramsey ...         2000-02-16   \n2                                          Brun bitter               1988   \n3                                     White Of The Eye               1987   \n4                                    A Woman in Flames               1983   \n..                                                 ...                ...   \n140            Things to Do in Denver When You're Dead            1995-10   \n141                                    Minsaara Kanavu         1997-01-14   \n142                                             Convoy               1978   \n143                                         The Bridge         2006-09-01   \n144                                         The Castle               1968   \n\n     Movie box office revenue  Movie runtime  \\\n0                  14010832.0           98.0   \n1                         NaN           95.0   \n2                         NaN           83.0   \n3                         NaN          110.0   \n4                         NaN          106.0   \n..                        ...            ...   \n140                  529677.0          115.0   \n141                       NaN          148.0   \n142                45000000.0          111.0   \n143                       NaN           69.0   \n144                       NaN           88.0   \n\n                        Movie languages  \\\n0    {\"/m/02h40lc\": \"English Language\"}   \n1    {\"/m/02h40lc\": \"English Language\"}   \n2    {\"/m/05f_3\": \"Norwegian Language\"}   \n3    {\"/m/02h40lc\": \"English Language\"}   \n4     {\"/m/04306rv\": \"German Language\"}   \n..                                  ...   \n140  {\"/m/02h40lc\": \"English Language\"}   \n141      {\"/m/07c9s\": \"Tamil Language\"}   \n142  {\"/m/02h40lc\": \"English Language\"}   \n143  {\"/m/02h40lc\": \"English Language\"}   \n144   {\"/m/04306rv\": \"German Language\"}   \n\n                               Movie countries  \\\n0    {\"/m/09c7w0\": \"United States of America\"}   \n1    {\"/m/09c7w0\": \"United States of America\"}   \n2                       {\"/m/05b4w\": \"Norway\"}   \n3               {\"/m/07ssc\": \"United Kingdom\"}   \n4                      {\"/m/0345h\": \"Germany\"}   \n..                                         ...   \n140  {\"/m/09c7w0\": \"United States of America\"}   \n141                      {\"/m/03rk0\": \"India\"}   \n142  {\"/m/09c7w0\": \"United States of America\"}   \n143  {\"/m/09c7w0\": \"United States of America\"}   \n144               {\"/m/082fr\": \"West Germany\"}   \n\n                                          Movie genres  \n0    {\"/m/01jfsb\": \"Thriller\", \"/m/06n90\": \"Science...  \n1    {\"/m/02n4kr\": \"Mystery\", \"/m/03bxz7\": \"Biograp...  \n2    {\"/m/0lsxr\": \"Crime Fiction\", \"/m/07s9rl0\": \"D...  \n3    {\"/m/01jfsb\": \"Thriller\", \"/m/0glj9q\": \"Erotic...  \n4                              {\"/m/07s9rl0\": \"Drama\"}  \n..                                                 ...  \n140  {\"/m/01jfsb\": \"Thriller\", \"/m/0lsxr\": \"Crime F...  \n141  {\"/m/03q4nz\": \"World cinema\", \"/m/04t36\": \"Mus...  \n142  {\"/m/03btsm8\": \"Action/Adventure\", \"/m/02kdv5l...  \n143                            {\"/m/07s9rl0\": \"Drama\"}  \n144    {\"/m/02n4kr\": \"Mystery\", \"/m/07s9rl0\": \"Drama\"}  \n\n[145 rows x 9 columns]",
      "text/html": "<div>\n<style scoped>\n    .dataframe tbody tr th:only-of-type {\n        vertical-align: middle;\n    }\n\n    .dataframe tbody tr th {\n        vertical-align: top;\n    }\n\n    .dataframe thead th {\n        text-align: right;\n    }\n</style>\n<table border=\"1\" class=\"dataframe\">\n  <thead>\n    <tr style=\"text-align: right;\">\n      <th></th>\n      <th>Wikipedia Movie ID</th>\n      <th>Freebase Movie ID</th>\n      <th>Movie name</th>\n      <th>Movie release date</th>\n      <th>Movie box office revenue</th>\n      <th>Movie runtime</th>\n      <th>Movie languages</th>\n      <th>Movie countries</th>\n      <th>Movie genres</th>\n    </tr>\n  </thead>\n  <tbody>\n    <tr>\n      <th>0</th>\n      <td>975900</td>\n      <td>/m/03vyhn</td>\n      <td>Ghosts of Mars</td>\n      <td>2001-08-24</td>\n      <td>14010832.0</td>\n      <td>98.0</td>\n      <td>{\"/m/02h40lc\": \"English Language\"}</td>\n      <td>{\"/m/09c7w0\": \"United States of America\"}</td>\n      <td>{\"/m/01jfsb\": \"Thriller\", \"/m/06n90\": \"Science...</td>\n    </tr>\n    <tr>\n      <th>1</th>\n      <td>3196793</td>\n      <td>/m/08yl5d</td>\n      <td>Getting Away with Murder: The JonBenét Ramsey ...</td>\n      <td>2000-02-16</td>\n      <td>NaN</td>\n      <td>95.0</td>\n      <td>{\"/m/02h40lc\": \"English Language\"}</td>\n      <td>{\"/m/09c7w0\": \"United States of America\"}</td>\n      <td>{\"/m/02n4kr\": \"Mystery\", \"/m/03bxz7\": \"Biograp...</td>\n    </tr>\n    <tr>\n      <th>2</th>\n      <td>28463795</td>\n      <td>/m/0crgdbh</td>\n      <td>Brun bitter</td>\n      <td>1988</td>\n      <td>NaN</td>\n      <td>83.0</td>\n      <td>{\"/m/05f_3\": \"Norwegian Language\"}</td>\n      <td>{\"/m/05b4w\": \"Norway\"}</td>\n      <td>{\"/m/0lsxr\": \"Crime Fiction\", \"/m/07s9rl0\": \"D...</td>\n    </tr>\n    <tr>\n      <th>3</th>\n      <td>9363483</td>\n      <td>/m/0285_cd</td>\n      <td>White Of The Eye</td>\n      <td>1987</td>\n      <td>NaN</td>\n      <td>110.0</td>\n      <td>{\"/m/02h40lc\": \"English Language\"}</td>\n      <td>{\"/m/07ssc\": \"United Kingdom\"}</td>\n      <td>{\"/m/01jfsb\": \"Thriller\", \"/m/0glj9q\": \"Erotic...</td>\n    </tr>\n    <tr>\n      <th>4</th>\n      <td>261236</td>\n      <td>/m/01mrr1</td>\n      <td>A Woman in Flames</td>\n      <td>1983</td>\n      <td>NaN</td>\n      <td>106.0</td>\n      <td>{\"/m/04306rv\": \"German Language\"}</td>\n      <td>{\"/m/0345h\": \"Germany\"}</td>\n      <td>{\"/m/07s9rl0\": \"Drama\"}</td>\n    </tr>\n    <tr>\n      <th>...</th>\n      <td>...</td>\n      <td>...</td>\n      <td>...</td>\n      <td>...</td>\n      <td>...</td>\n      <td>...</td>\n      <td>...</td>\n      <td>...</td>\n      <td>...</td>\n    </tr>\n    <tr>\n      <th>140</th>\n      <td>3550323</td>\n      <td>/m/09kzfd</td>\n      <td>Things to Do in Denver When You're Dead</td>\n      <td>1995-10</td>\n      <td>529677.0</td>\n      <td>115.0</td>\n      <td>{\"/m/02h40lc\": \"English Language\"}</td>\n      <td>{\"/m/09c7w0\": \"United States of America\"}</td>\n      <td>{\"/m/01jfsb\": \"Thriller\", \"/m/0lsxr\": \"Crime F...</td>\n    </tr>\n    <tr>\n      <th>141</th>\n      <td>1072373</td>\n      <td>/m/043j2x</td>\n      <td>Minsaara Kanavu</td>\n      <td>1997-01-14</td>\n      <td>NaN</td>\n      <td>148.0</td>\n      <td>{\"/m/07c9s\": \"Tamil Language\"}</td>\n      <td>{\"/m/03rk0\": \"India\"}</td>\n      <td>{\"/m/03q4nz\": \"World cinema\", \"/m/04t36\": \"Mus...</td>\n    </tr>\n    <tr>\n      <th>142</th>\n      <td>1765938</td>\n      <td>/m/05v5ws</td>\n      <td>Convoy</td>\n      <td>1978</td>\n      <td>45000000.0</td>\n      <td>111.0</td>\n      <td>{\"/m/02h40lc\": \"English Language\"}</td>\n      <td>{\"/m/09c7w0\": \"United States of America\"}</td>\n      <td>{\"/m/03btsm8\": \"Action/Adventure\", \"/m/02kdv5l...</td>\n    </tr>\n    <tr>\n      <th>143</th>\n      <td>7460227</td>\n      <td>/m/0kv80y</td>\n      <td>The Bridge</td>\n      <td>2006-09-01</td>\n      <td>NaN</td>\n      <td>69.0</td>\n      <td>{\"/m/02h40lc\": \"English Language\"}</td>\n      <td>{\"/m/09c7w0\": \"United States of America\"}</td>\n      <td>{\"/m/07s9rl0\": \"Drama\"}</td>\n    </tr>\n    <tr>\n      <th>144</th>\n      <td>19095614</td>\n      <td>/m/04yc5nd</td>\n      <td>The Castle</td>\n      <td>1968</td>\n      <td>NaN</td>\n      <td>88.0</td>\n      <td>{\"/m/04306rv\": \"German Language\"}</td>\n      <td>{\"/m/082fr\": \"West Germany\"}</td>\n      <td>{\"/m/02n4kr\": \"Mystery\", \"/m/07s9rl0\": \"Drama\"}</td>\n    </tr>\n  </tbody>\n</table>\n<p>145 rows × 9 columns</p>\n</div>"
     },
     "execution_count": 4,
     "metadata": {},
     "output_type": "execute_result"
    }
   ],
   "source": [
    "#MOVIE METADATA\n",
    "\n",
    "headers_movie_metadata = [\"Wikipedia Movie ID\", \"Freebase Movie ID\", \"Movie name\", \"Movie release date\",\n",
    "                          \"Movie box office revenue\", \"Movie runtime\", \"Movie languages\", \"Movie countries\",\n",
    "                          \"Movie genres\"]\n",
    "\n",
    "movie_metadata = pd.read_csv('../data/movie.metadata.tsv', sep=\"\\t\", names=headers_movie_metadata)\n",
    "\n",
    "#movie_metadata.count()\n",
    "movie_metadata.head(145)\n",
    "#movie_metadata[movie_metadata[\"Movie release date\"]]"
   ],
   "metadata": {
    "collapsed": false,
    "ExecuteTime": {
     "end_time": "2023-11-01T14:53:42.425859600Z",
     "start_time": "2023-11-01T14:53:42.104116Z"
    }
   },
   "id": "8b39f70fd31168a9"
  },
  {
   "cell_type": "code",
   "execution_count": 12,
   "outputs": [
    {
     "data": {
      "text/plain": "'1913-05-29'"
     },
     "execution_count": 12,
     "metadata": {},
     "output_type": "execute_result"
    }
   ],
   "source": [
    "movie_metadata[movie_metadata['Movie name'] == \"The Gangsters\"][\"Movie release date\"][5]"
   ],
   "metadata": {
    "collapsed": false,
    "ExecuteTime": {
     "end_time": "2023-11-01T15:22:43.383464200Z",
     "start_time": "2023-11-01T15:22:43.380026700Z"
    }
   },
   "id": "537d8d5d8fa9c9ad"
  },
  {
   "cell_type": "code",
   "execution_count": 7,
   "outputs": [
    {
     "name": "stdout",
     "output_type": "stream",
     "text": [
      "The dotenv extension is already loaded. To reload it, use:\n",
      "  %reload_ext dotenv\n"
     ]
    }
   ],
   "source": [
    "\n",
    "#from dotenv import load_dotenv\n",
    "#load_dotenv()\n",
    "import os\n",
    "\n",
    "%load_ext dotenv\n",
    "%dotenv\n",
    "TMDB_API_KEY = os.environ.get(\"TMDB_API_KEY\")\n",
    "\n"
   ],
   "metadata": {
    "collapsed": false,
    "ExecuteTime": {
     "end_time": "2023-11-01T12:51:04.451851300Z",
     "start_time": "2023-11-01T12:51:04.444258800Z"
    }
   },
   "id": "164cad90c84b608a"
  },
  {
   "cell_type": "code",
   "execution_count": 45,
   "outputs": [
    {
     "name": "stdout",
     "output_type": "stream",
     "text": [
      "0\n",
      "Wikipedia Movie ID                                                     975900\n",
      "Freebase Movie ID                                                   /m/03vyhn\n",
      "Movie name                                                     Ghosts of Mars\n",
      "Movie release date                                                 2001-08-24\n",
      "Movie box office revenue                                           14010832.0\n",
      "Movie runtime                                                            98.0\n",
      "Movie languages                            {\"/m/02h40lc\": \"English Language\"}\n",
      "Movie countries                     {\"/m/09c7w0\": \"United States of America\"}\n",
      "Movie genres                {\"/m/01jfsb\": \"Thriller\", \"/m/06n90\": \"Science...\n",
      "Name: 0, dtype: object\n"
     ]
    },
    {
     "data": {
      "text/plain": "       Wikipedia Movie ID Freebase Movie ID  \\\n0                  975900         /m/03vyhn   \n1                 3196793         /m/08yl5d   \n2                28463795        /m/0crgdbh   \n3                 9363483        /m/0285_cd   \n4                  261236         /m/01mrr1   \n...                   ...               ...   \n81736            35228177        /m/0j7hxnt   \n81737            34980460        /m/0g4pl34   \n81738             9971909        /m/02pygw1   \n81739              913762         /m/03pcrp   \n81740            12476867        /m/02w7zz8   \n\n                                              Movie name Movie release date  \\\n0                                         Ghosts of Mars         2001-08-24   \n1      Getting Away with Murder: The JonBenét Ramsey ...         2000-02-16   \n2                                            Brun bitter               1988   \n3                                       White Of The Eye               1987   \n4                                      A Woman in Flames               1983   \n...                                                  ...                ...   \n81736                           Mermaids: The Body Found         2011-03-19   \n81737                                            Knuckle         2011-01-21   \n81738                                  Another Nice Mess         1972-09-22   \n81739  The Super Dimension Fortress Macross II: Lover...         1992-05-21   \n81740                                            Spliced               2002   \n\n       Movie box office revenue  Movie runtime  \\\n0                    14010832.0           98.0   \n1                           NaN           95.0   \n2                           NaN           83.0   \n3                           NaN          110.0   \n4                           NaN          106.0   \n...                         ...            ...   \n81736                       NaN          120.0   \n81737                       NaN           96.0   \n81738                       NaN           66.0   \n81739                       NaN          150.0   \n81740                       NaN           86.0   \n\n                          Movie languages  \\\n0      {\"/m/02h40lc\": \"English Language\"}   \n1      {\"/m/02h40lc\": \"English Language\"}   \n2      {\"/m/05f_3\": \"Norwegian Language\"}   \n3      {\"/m/02h40lc\": \"English Language\"}   \n4       {\"/m/04306rv\": \"German Language\"}   \n...                                   ...   \n81736  {\"/m/02h40lc\": \"English Language\"}   \n81737  {\"/m/02h40lc\": \"English Language\"}   \n81738  {\"/m/02h40lc\": \"English Language\"}   \n81739   {\"/m/03_9r\": \"Japanese Language\"}   \n81740  {\"/m/02h40lc\": \"English Language\"}   \n\n                                         Movie countries  \\\n0              {\"/m/09c7w0\": \"United States of America\"}   \n1              {\"/m/09c7w0\": \"United States of America\"}   \n2                                 {\"/m/05b4w\": \"Norway\"}   \n3                         {\"/m/07ssc\": \"United Kingdom\"}   \n4                                {\"/m/0345h\": \"Germany\"}   \n...                                                  ...   \n81736          {\"/m/09c7w0\": \"United States of America\"}   \n81737  {\"/m/03rt9\": \"Ireland\", \"/m/07ssc\": \"United Ki...   \n81738          {\"/m/09c7w0\": \"United States of America\"}   \n81739                              {\"/m/03_3d\": \"Japan\"}   \n81740                            {\"/m/0d060g\": \"Canada\"}   \n\n                                            Movie genres  TMDB_id  \\\n0      {\"/m/01jfsb\": \"Thriller\", \"/m/06n90\": \"Science...  10016.0   \n1      {\"/m/02n4kr\": \"Mystery\", \"/m/03bxz7\": \"Biograp...      NaN   \n2      {\"/m/0lsxr\": \"Crime Fiction\", \"/m/07s9rl0\": \"D...      NaN   \n3      {\"/m/01jfsb\": \"Thriller\", \"/m/0glj9q\": \"Erotic...      NaN   \n4                                {\"/m/07s9rl0\": \"Drama\"}      NaN   \n...                                                  ...      ...   \n81736                            {\"/m/07s9rl0\": \"Drama\"}      NaN   \n81737  {\"/m/03bxz7\": \"Biographical film\", \"/m/07s9rl0...      NaN   \n81738       {\"/m/06nbt\": \"Satire\", \"/m/01z4y\": \"Comedy\"}      NaN   \n81739  {\"/m/06n90\": \"Science Fiction\", \"/m/0gw5n2f\": ...      NaN   \n81740  {\"/m/01jfsb\": \"Thriller\", \"/m/03npn\": \"Horror\"...      NaN   \n\n      TMDB_original_language TMDB_original_title  \\\n0                         en      Ghosts of Mars   \n1                        NaN                 NaN   \n2                        NaN                 NaN   \n3                        NaN                 NaN   \n4                        NaN                 NaN   \n...                      ...                 ...   \n81736                    NaN                 NaN   \n81737                    NaN                 NaN   \n81738                    NaN                 NaN   \n81739                    NaN                 NaN   \n81740                    NaN                 NaN   \n\n                                           TMDB_overview  TMDB_popularity  \\\n0      In 2176, a Martian police unit is sent to pick...            17.28   \n1                                                    NaN              NaN   \n2                                                    NaN              NaN   \n3                                                    NaN              NaN   \n4                                                    NaN              NaN   \n...                                                  ...              ...   \n81736                                                NaN              NaN   \n81737                                                NaN              NaN   \n81738                                                NaN              NaN   \n81739                                                NaN              NaN   \n81740                                                NaN              NaN   \n\n      TMDB_release_date      TMDB_title  TMDB_vote_average  TMDB_vote_count  \n0            2001-08-24  Ghosts of Mars              5.123            980.0  \n1                   NaN             NaN                NaN              NaN  \n2                   NaN             NaN                NaN              NaN  \n3                   NaN             NaN                NaN              NaN  \n4                   NaN             NaN                NaN              NaN  \n...                 ...             ...                ...              ...  \n81736               NaN             NaN                NaN              NaN  \n81737               NaN             NaN                NaN              NaN  \n81738               NaN             NaN                NaN              NaN  \n81739               NaN             NaN                NaN              NaN  \n81740               NaN             NaN                NaN              NaN  \n\n[81741 rows x 18 columns]",
      "text/html": "<div>\n<style scoped>\n    .dataframe tbody tr th:only-of-type {\n        vertical-align: middle;\n    }\n\n    .dataframe tbody tr th {\n        vertical-align: top;\n    }\n\n    .dataframe thead th {\n        text-align: right;\n    }\n</style>\n<table border=\"1\" class=\"dataframe\">\n  <thead>\n    <tr style=\"text-align: right;\">\n      <th></th>\n      <th>Wikipedia Movie ID</th>\n      <th>Freebase Movie ID</th>\n      <th>Movie name</th>\n      <th>Movie release date</th>\n      <th>Movie box office revenue</th>\n      <th>Movie runtime</th>\n      <th>Movie languages</th>\n      <th>Movie countries</th>\n      <th>Movie genres</th>\n      <th>TMDB_id</th>\n      <th>TMDB_original_language</th>\n      <th>TMDB_original_title</th>\n      <th>TMDB_overview</th>\n      <th>TMDB_popularity</th>\n      <th>TMDB_release_date</th>\n      <th>TMDB_title</th>\n      <th>TMDB_vote_average</th>\n      <th>TMDB_vote_count</th>\n    </tr>\n  </thead>\n  <tbody>\n    <tr>\n      <th>0</th>\n      <td>975900</td>\n      <td>/m/03vyhn</td>\n      <td>Ghosts of Mars</td>\n      <td>2001-08-24</td>\n      <td>14010832.0</td>\n      <td>98.0</td>\n      <td>{\"/m/02h40lc\": \"English Language\"}</td>\n      <td>{\"/m/09c7w0\": \"United States of America\"}</td>\n      <td>{\"/m/01jfsb\": \"Thriller\", \"/m/06n90\": \"Science...</td>\n      <td>10016.0</td>\n      <td>en</td>\n      <td>Ghosts of Mars</td>\n      <td>In 2176, a Martian police unit is sent to pick...</td>\n      <td>17.28</td>\n      <td>2001-08-24</td>\n      <td>Ghosts of Mars</td>\n      <td>5.123</td>\n      <td>980.0</td>\n    </tr>\n    <tr>\n      <th>1</th>\n      <td>3196793</td>\n      <td>/m/08yl5d</td>\n      <td>Getting Away with Murder: The JonBenét Ramsey ...</td>\n      <td>2000-02-16</td>\n      <td>NaN</td>\n      <td>95.0</td>\n      <td>{\"/m/02h40lc\": \"English Language\"}</td>\n      <td>{\"/m/09c7w0\": \"United States of America\"}</td>\n      <td>{\"/m/02n4kr\": \"Mystery\", \"/m/03bxz7\": \"Biograp...</td>\n      <td>NaN</td>\n      <td>NaN</td>\n      <td>NaN</td>\n      <td>NaN</td>\n      <td>NaN</td>\n      <td>NaN</td>\n      <td>NaN</td>\n      <td>NaN</td>\n      <td>NaN</td>\n    </tr>\n    <tr>\n      <th>2</th>\n      <td>28463795</td>\n      <td>/m/0crgdbh</td>\n      <td>Brun bitter</td>\n      <td>1988</td>\n      <td>NaN</td>\n      <td>83.0</td>\n      <td>{\"/m/05f_3\": \"Norwegian Language\"}</td>\n      <td>{\"/m/05b4w\": \"Norway\"}</td>\n      <td>{\"/m/0lsxr\": \"Crime Fiction\", \"/m/07s9rl0\": \"D...</td>\n      <td>NaN</td>\n      <td>NaN</td>\n      <td>NaN</td>\n      <td>NaN</td>\n      <td>NaN</td>\n      <td>NaN</td>\n      <td>NaN</td>\n      <td>NaN</td>\n      <td>NaN</td>\n    </tr>\n    <tr>\n      <th>3</th>\n      <td>9363483</td>\n      <td>/m/0285_cd</td>\n      <td>White Of The Eye</td>\n      <td>1987</td>\n      <td>NaN</td>\n      <td>110.0</td>\n      <td>{\"/m/02h40lc\": \"English Language\"}</td>\n      <td>{\"/m/07ssc\": \"United Kingdom\"}</td>\n      <td>{\"/m/01jfsb\": \"Thriller\", \"/m/0glj9q\": \"Erotic...</td>\n      <td>NaN</td>\n      <td>NaN</td>\n      <td>NaN</td>\n      <td>NaN</td>\n      <td>NaN</td>\n      <td>NaN</td>\n      <td>NaN</td>\n      <td>NaN</td>\n      <td>NaN</td>\n    </tr>\n    <tr>\n      <th>4</th>\n      <td>261236</td>\n      <td>/m/01mrr1</td>\n      <td>A Woman in Flames</td>\n      <td>1983</td>\n      <td>NaN</td>\n      <td>106.0</td>\n      <td>{\"/m/04306rv\": \"German Language\"}</td>\n      <td>{\"/m/0345h\": \"Germany\"}</td>\n      <td>{\"/m/07s9rl0\": \"Drama\"}</td>\n      <td>NaN</td>\n      <td>NaN</td>\n      <td>NaN</td>\n      <td>NaN</td>\n      <td>NaN</td>\n      <td>NaN</td>\n      <td>NaN</td>\n      <td>NaN</td>\n      <td>NaN</td>\n    </tr>\n    <tr>\n      <th>...</th>\n      <td>...</td>\n      <td>...</td>\n      <td>...</td>\n      <td>...</td>\n      <td>...</td>\n      <td>...</td>\n      <td>...</td>\n      <td>...</td>\n      <td>...</td>\n      <td>...</td>\n      <td>...</td>\n      <td>...</td>\n      <td>...</td>\n      <td>...</td>\n      <td>...</td>\n      <td>...</td>\n      <td>...</td>\n      <td>...</td>\n    </tr>\n    <tr>\n      <th>81736</th>\n      <td>35228177</td>\n      <td>/m/0j7hxnt</td>\n      <td>Mermaids: The Body Found</td>\n      <td>2011-03-19</td>\n      <td>NaN</td>\n      <td>120.0</td>\n      <td>{\"/m/02h40lc\": \"English Language\"}</td>\n      <td>{\"/m/09c7w0\": \"United States of America\"}</td>\n      <td>{\"/m/07s9rl0\": \"Drama\"}</td>\n      <td>NaN</td>\n      <td>NaN</td>\n      <td>NaN</td>\n      <td>NaN</td>\n      <td>NaN</td>\n      <td>NaN</td>\n      <td>NaN</td>\n      <td>NaN</td>\n      <td>NaN</td>\n    </tr>\n    <tr>\n      <th>81737</th>\n      <td>34980460</td>\n      <td>/m/0g4pl34</td>\n      <td>Knuckle</td>\n      <td>2011-01-21</td>\n      <td>NaN</td>\n      <td>96.0</td>\n      <td>{\"/m/02h40lc\": \"English Language\"}</td>\n      <td>{\"/m/03rt9\": \"Ireland\", \"/m/07ssc\": \"United Ki...</td>\n      <td>{\"/m/03bxz7\": \"Biographical film\", \"/m/07s9rl0...</td>\n      <td>NaN</td>\n      <td>NaN</td>\n      <td>NaN</td>\n      <td>NaN</td>\n      <td>NaN</td>\n      <td>NaN</td>\n      <td>NaN</td>\n      <td>NaN</td>\n      <td>NaN</td>\n    </tr>\n    <tr>\n      <th>81738</th>\n      <td>9971909</td>\n      <td>/m/02pygw1</td>\n      <td>Another Nice Mess</td>\n      <td>1972-09-22</td>\n      <td>NaN</td>\n      <td>66.0</td>\n      <td>{\"/m/02h40lc\": \"English Language\"}</td>\n      <td>{\"/m/09c7w0\": \"United States of America\"}</td>\n      <td>{\"/m/06nbt\": \"Satire\", \"/m/01z4y\": \"Comedy\"}</td>\n      <td>NaN</td>\n      <td>NaN</td>\n      <td>NaN</td>\n      <td>NaN</td>\n      <td>NaN</td>\n      <td>NaN</td>\n      <td>NaN</td>\n      <td>NaN</td>\n      <td>NaN</td>\n    </tr>\n    <tr>\n      <th>81739</th>\n      <td>913762</td>\n      <td>/m/03pcrp</td>\n      <td>The Super Dimension Fortress Macross II: Lover...</td>\n      <td>1992-05-21</td>\n      <td>NaN</td>\n      <td>150.0</td>\n      <td>{\"/m/03_9r\": \"Japanese Language\"}</td>\n      <td>{\"/m/03_3d\": \"Japan\"}</td>\n      <td>{\"/m/06n90\": \"Science Fiction\", \"/m/0gw5n2f\": ...</td>\n      <td>NaN</td>\n      <td>NaN</td>\n      <td>NaN</td>\n      <td>NaN</td>\n      <td>NaN</td>\n      <td>NaN</td>\n      <td>NaN</td>\n      <td>NaN</td>\n      <td>NaN</td>\n    </tr>\n    <tr>\n      <th>81740</th>\n      <td>12476867</td>\n      <td>/m/02w7zz8</td>\n      <td>Spliced</td>\n      <td>2002</td>\n      <td>NaN</td>\n      <td>86.0</td>\n      <td>{\"/m/02h40lc\": \"English Language\"}</td>\n      <td>{\"/m/0d060g\": \"Canada\"}</td>\n      <td>{\"/m/01jfsb\": \"Thriller\", \"/m/03npn\": \"Horror\"...</td>\n      <td>NaN</td>\n      <td>NaN</td>\n      <td>NaN</td>\n      <td>NaN</td>\n      <td>NaN</td>\n      <td>NaN</td>\n      <td>NaN</td>\n      <td>NaN</td>\n      <td>NaN</td>\n    </tr>\n  </tbody>\n</table>\n<p>81741 rows × 18 columns</p>\n</div>"
     },
     "execution_count": 45,
     "metadata": {},
     "output_type": "execute_result"
    }
   ],
   "source": [
    "# use TVDB to populate missing revenue data : \"Movie box office revenue\n",
    "missing_revenue_data_count = movie_metadata['Movie box office revenue'].isna().sum()\n",
    "\n",
    "import tmdbsimple as tmdb\n",
    "\n",
    "# load API key\n",
    "tmdb.API_KEY=TMDB_API_KEY\n",
    "tmdb.REQUESTS_TIMEOUT = 0.3  # seconds, for both connect and read\n",
    "\n",
    "#movie = tmdb.Find(4273140)\n",
    "#response = movie.info()\n",
    "\n",
    "movie_metadata_TMDB = movie_metadata.copy()\n",
    "\n",
    "import re\n",
    "from datetime import datetime\n",
    "\n",
    "for index, row in movie_metadata_TMDB.iterrows():\n",
    "    print(index)\n",
    "    print(row)\n",
    "    \n",
    "    search = tmdb.Search()\n",
    "    response = search.movie(query=row[\"Movie name\"])\n",
    "    \n",
    "    # convert dataframe release to datetime\n",
    "    movie_release_date = datetime.strptime(row[\"Movie release date\"],\"%Y-%m-%d\").date()\n",
    "    \n",
    "    # convert query elements to datetime\n",
    "    date_list_converted = [datetime.strptime(each_date['release_date'], \"%Y-%m-%d\").date() for each_date in search.results]\n",
    "    \n",
    "    # create list of differences in time\n",
    "    differences = [abs(movie_release_date - each_date) for each_date in date_list_converted]\n",
    "    minimum_index = differences.index(min(differences))  # Index of the closest match\n",
    "    match = search.results[minimum_index]\n",
    "    #print(f\"Closest match: {match['title']} (Release Date: {match['release_date']})\")\n",
    "    \n",
    "    # add info in dataframe about the movie\n",
    "\n",
    "    movie_metadata_TMDB.loc[index,'TMDB_id'] = match['id']\n",
    "    movie_metadata_TMDB.loc[index,'TMDB_original_language'] = match['original_language']\n",
    "    movie_metadata_TMDB.loc[index,'TMDB_original_title'] = match['original_title']\n",
    "    movie_metadata_TMDB.loc[index,'TMDB_overview'] = match['overview']\n",
    "    movie_metadata_TMDB.loc[index,'TMDB_popularity'] = match['popularity']\n",
    "    movie_metadata_TMDB.loc[index,'TMDB_release_date'] = match['release_date']\n",
    "    movie_metadata_TMDB.loc[index,'TMDB_title'] = match['title']\n",
    "    movie_metadata_TMDB.loc[index,'TMDB_vote_average'] = match['vote_average']\n",
    "    movie_metadata_TMDB.loc[index,'TMDB_vote_count'] = match['vote_count']\n",
    "    \n",
    "    \n",
    "movie_metadata_TMDB    \n",
    "#df.loc[index,'d'] = np.random.randint(0, 10)\n",
    "    \n"
   ],
   "metadata": {
    "collapsed": false,
    "ExecuteTime": {
     "end_time": "2023-11-01T14:21:02.563687400Z",
     "start_time": "2023-11-01T14:21:01.392228600Z"
    }
   },
   "id": "6fff769b54006b11"
  },
  {
   "cell_type": "code",
   "execution_count": null,
   "outputs": [
    {
     "name": "stderr",
     "output_type": "stream",
     "text": [
      "Processing:   0%|          | 4/81741 [00:00<3:48:23,  5.96it/s]"
     ]
    },
    {
     "name": "stdout",
     "output_type": "stream",
     "text": [
      "Error at index 2: time data '1988' does not match format '%Y-%m-%d'\n",
      "Error at index 3: time data '1987' does not match format '%Y-%m-%d'\n"
     ]
    },
    {
     "name": "stderr",
     "output_type": "stream",
     "text": [
      "Processing:   0%|          | 6/81741 [00:00<3:48:04,  5.97it/s]"
     ]
    },
    {
     "name": "stdout",
     "output_type": "stream",
     "text": [
      "Error at index 4: time data '1983' does not match format '%Y-%m-%d'\n",
      "Error at index 5: time data '' does not match format '%Y-%m-%d'\n"
     ]
    },
    {
     "name": "stderr",
     "output_type": "stream",
     "text": [
      "Processing:   0%|          | 8/81741 [00:01<3:47:03,  6.00it/s]"
     ]
    },
    {
     "name": "stdout",
     "output_type": "stream",
     "text": [
      "Error at index 6: time data '2002' does not match format '%Y-%m-%d'\n"
     ]
    },
    {
     "name": "stderr",
     "output_type": "stream",
     "text": [
      "Processing:   0%|          | 10/81741 [00:01<3:56:37,  5.76it/s]"
     ]
    },
    {
     "name": "stdout",
     "output_type": "stream",
     "text": [
      "Error at index 8: time data '1974' does not match format '%Y-%m-%d'\n",
      "Error at index 9: time data '1960' does not match format '%Y-%m-%d'\n"
     ]
    },
    {
     "name": "stderr",
     "output_type": "stream",
     "text": [
      "Processing:   0%|          | 12/81741 [00:02<3:58:24,  5.71it/s]"
     ]
    },
    {
     "name": "stdout",
     "output_type": "stream",
     "text": [
      "Error at index 10: time data '1930' does not match format '%Y-%m-%d'\n",
      "Error at index 11: time data '1974' does not match format '%Y-%m-%d'\n"
     ]
    },
    {
     "name": "stderr",
     "output_type": "stream",
     "text": [
      "Processing:   0%|          | 16/81741 [00:02<3:47:06,  6.00it/s]"
     ]
    },
    {
     "name": "stdout",
     "output_type": "stream",
     "text": [
      "Error at index 14: time data '1986' does not match format '%Y-%m-%d'\n",
      "Error at index 15: strptime() argument 1 must be str, not float\n"
     ]
    },
    {
     "name": "stderr",
     "output_type": "stream",
     "text": [
      "Processing:   0%|          | 18/81741 [00:03<3:48:11,  5.97it/s]"
     ]
    },
    {
     "name": "stdout",
     "output_type": "stream",
     "text": [
      "Error at index 16: time data '1984' does not match format '%Y-%m-%d'\n"
     ]
    },
    {
     "name": "stderr",
     "output_type": "stream",
     "text": [
      "Processing:   0%|          | 20/81741 [00:03<4:06:02,  5.54it/s]"
     ]
    },
    {
     "name": "stdout",
     "output_type": "stream",
     "text": [
      "Error at index 18: time data '1967' does not match format '%Y-%m-%d'\n",
      "Error at index 19: time data '1992' does not match format '%Y-%m-%d'\n"
     ]
    },
    {
     "name": "stderr",
     "output_type": "stream",
     "text": [
      "Processing:   0%|          | 22/81741 [00:03<3:53:23,  5.84it/s]"
     ]
    },
    {
     "name": "stdout",
     "output_type": "stream",
     "text": [
      "Error at index 20: time data '1930' does not match format '%Y-%m-%d'\n"
     ]
    },
    {
     "name": "stderr",
     "output_type": "stream",
     "text": [
      "Processing:   0%|          | 24/81741 [00:04<3:52:20,  5.86it/s]"
     ]
    },
    {
     "name": "stdout",
     "output_type": "stream",
     "text": [
      "Error at index 22: time data '2009' does not match format '%Y-%m-%d'\n",
      "Error at index 23: min() arg is an empty sequence\n"
     ]
    },
    {
     "name": "stderr",
     "output_type": "stream",
     "text": [
      "Processing:   0%|          | 27/81741 [00:04<3:53:23,  5.84it/s]"
     ]
    }
   ],
   "source": [],
   "metadata": {
    "collapsed": false,
    "ExecuteTime": {
     "start_time": "2023-11-01T14:31:02.373088700Z"
    }
   },
   "id": "d737a230baf1647f"
  },
  {
   "cell_type": "code",
   "execution_count": null,
   "outputs": [],
   "source": [
    "\n",
    "\n",
    "\n",
    "\n",
    "\n",
    "search = tmdb.Search()\n",
    "response = search.movie(query='Harry Potter and the Deathly Hallows – Part 2')\n",
    "for s in search.results:\n",
    "    print(s['title'], s['id'], s['release_date'], s['popularity'])\n",
    "\n",
    "print(search.results)\n"
   ],
   "metadata": {
    "collapsed": false
   },
   "id": "2ddb3e7001a13a2c"
  },
  {
   "cell_type": "code",
   "execution_count": 34,
   "outputs": [
    {
     "data": {
      "text/plain": "   Wikipedia Movie ID Freebase Movie ID  \\\n0              975900         /m/03vyhn   \n1             3196793         /m/08yl5d   \n2            28463795        /m/0crgdbh   \n3             9363483        /m/0285_cd   \n4              261236         /m/01mrr1   \n5            13696889        /m/03cfc81   \n6            18998739        /m/04jcqvw   \n7            10408933        /m/02qc0j7   \n8             9997961        /m/06_y2j7   \n9             2345652         /m/075f66   \n\n                                          Movie name Movie release date  \\\n0                                     Ghosts of Mars         2001-08-24   \n1  Getting Away with Murder: The JonBenét Ramsey ...         2000-02-16   \n2                                        Brun bitter               1988   \n3                                   White Of The Eye               1987   \n4                                  A Woman in Flames               1983   \n5                                      The Gangsters         1913-05-29   \n6                          The Sorcerer's Apprentice               2002   \n7                           Alexander's Ragtime Band         1938-08-16   \n8                                     Contigo y aquí               1974   \n9                                   City of the Dead               1960   \n\n   Movie box office revenue  Movie runtime  \\\n0                14010832.0           98.0   \n1                       NaN           95.0   \n2                       NaN           83.0   \n3                       NaN          110.0   \n4                       NaN          106.0   \n5                       NaN           35.0   \n6                       NaN           86.0   \n7                 3600000.0          106.0   \n8                       NaN            NaN   \n9                       NaN           76.0   \n\n                                     Movie languages  \\\n0                 {\"/m/02h40lc\": \"English Language\"}   \n1                 {\"/m/02h40lc\": \"English Language\"}   \n2                 {\"/m/05f_3\": \"Norwegian Language\"}   \n3                 {\"/m/02h40lc\": \"English Language\"}   \n4                  {\"/m/04306rv\": \"German Language\"}   \n5  {\"/m/06ppq\": \"Silent film\", \"/m/02h40lc\": \"Eng...   \n6                 {\"/m/02h40lc\": \"English Language\"}   \n7                 {\"/m/02h40lc\": \"English Language\"}   \n8                   {\"/m/06nm1\": \"Spanish Language\"}   \n9                 {\"/m/02h40lc\": \"English Language\"}   \n\n                             Movie countries  \\\n0  {\"/m/09c7w0\": \"United States of America\"}   \n1  {\"/m/09c7w0\": \"United States of America\"}   \n2                     {\"/m/05b4w\": \"Norway\"}   \n3             {\"/m/07ssc\": \"United Kingdom\"}   \n4                    {\"/m/0345h\": \"Germany\"}   \n5  {\"/m/09c7w0\": \"United States of America\"}   \n6               {\"/m/0hzlz\": \"South Africa\"}   \n7  {\"/m/09c7w0\": \"United States of America\"}   \n8                   {\"/m/0jgd\": \"Argentina\"}   \n9             {\"/m/07ssc\": \"United Kingdom\"}   \n\n                                        Movie genres  TMDB_id  \\\n0  {\"/m/01jfsb\": \"Thriller\", \"/m/06n90\": \"Science...      NaN   \n1  {\"/m/02n4kr\": \"Mystery\", \"/m/03bxz7\": \"Biograp...      NaN   \n2  {\"/m/0lsxr\": \"Crime Fiction\", \"/m/07s9rl0\": \"D...      NaN   \n3  {\"/m/01jfsb\": \"Thriller\", \"/m/0glj9q\": \"Erotic...      NaN   \n4                            {\"/m/07s9rl0\": \"Drama\"}      NaN   \n5  {\"/m/02hmvc\": \"Short Film\", \"/m/06ppq\": \"Silen...      NaN   \n6  {\"/m/0hqxf\": \"Family Film\", \"/m/01hmnh\": \"Fant...      NaN   \n7  {\"/m/04t36\": \"Musical\", \"/m/01z4y\": \"Comedy\", ...      NaN   \n8  {\"/m/04t36\": \"Musical\", \"/m/07s9rl0\": \"Drama\",...      NaN   \n9  {\"/m/03npn\": \"Horror\", \"/m/0fdjb\": \"Supernatur...      NaN   \n\n  TMDB_original_language TMDB_original_title TMDB_overview  TMDB_popularity  \\\n0                    NaN                 NaN           NaN              NaN   \n1                    NaN                 NaN           NaN              NaN   \n2                    NaN                 NaN           NaN              NaN   \n3                    NaN                 NaN           NaN              NaN   \n4                    NaN                 NaN           NaN              NaN   \n5                    NaN                 NaN           NaN              NaN   \n6                    NaN                 NaN           NaN              NaN   \n7                    NaN                 NaN           NaN              NaN   \n8                    NaN                 NaN           NaN              NaN   \n9                    NaN                 NaN           NaN              NaN   \n\n  TMDB_release_date TMDB_title  TMDB_vote_average  TMDB_vote_count  \n0               NaN        NaN                NaN              NaN  \n1               NaN        NaN                NaN              NaN  \n2               NaN        NaN                NaN              NaN  \n3               NaN        NaN                NaN              NaN  \n4               NaN        NaN                NaN              NaN  \n5               NaN        NaN                NaN              NaN  \n6               NaN        NaN                NaN              NaN  \n7               NaN        NaN                NaN              NaN  \n8               NaN        NaN                NaN              NaN  \n9               NaN        NaN                NaN              NaN  ",
      "text/html": "<div>\n<style scoped>\n    .dataframe tbody tr th:only-of-type {\n        vertical-align: middle;\n    }\n\n    .dataframe tbody tr th {\n        vertical-align: top;\n    }\n\n    .dataframe thead th {\n        text-align: right;\n    }\n</style>\n<table border=\"1\" class=\"dataframe\">\n  <thead>\n    <tr style=\"text-align: right;\">\n      <th></th>\n      <th>Wikipedia Movie ID</th>\n      <th>Freebase Movie ID</th>\n      <th>Movie name</th>\n      <th>Movie release date</th>\n      <th>Movie box office revenue</th>\n      <th>Movie runtime</th>\n      <th>Movie languages</th>\n      <th>Movie countries</th>\n      <th>Movie genres</th>\n      <th>TMDB_id</th>\n      <th>TMDB_original_language</th>\n      <th>TMDB_original_title</th>\n      <th>TMDB_overview</th>\n      <th>TMDB_popularity</th>\n      <th>TMDB_release_date</th>\n      <th>TMDB_title</th>\n      <th>TMDB_vote_average</th>\n      <th>TMDB_vote_count</th>\n    </tr>\n  </thead>\n  <tbody>\n    <tr>\n      <th>0</th>\n      <td>975900</td>\n      <td>/m/03vyhn</td>\n      <td>Ghosts of Mars</td>\n      <td>2001-08-24</td>\n      <td>14010832.0</td>\n      <td>98.0</td>\n      <td>{\"/m/02h40lc\": \"English Language\"}</td>\n      <td>{\"/m/09c7w0\": \"United States of America\"}</td>\n      <td>{\"/m/01jfsb\": \"Thriller\", \"/m/06n90\": \"Science...</td>\n      <td>NaN</td>\n      <td>NaN</td>\n      <td>NaN</td>\n      <td>NaN</td>\n      <td>NaN</td>\n      <td>NaN</td>\n      <td>NaN</td>\n      <td>NaN</td>\n      <td>NaN</td>\n    </tr>\n    <tr>\n      <th>1</th>\n      <td>3196793</td>\n      <td>/m/08yl5d</td>\n      <td>Getting Away with Murder: The JonBenét Ramsey ...</td>\n      <td>2000-02-16</td>\n      <td>NaN</td>\n      <td>95.0</td>\n      <td>{\"/m/02h40lc\": \"English Language\"}</td>\n      <td>{\"/m/09c7w0\": \"United States of America\"}</td>\n      <td>{\"/m/02n4kr\": \"Mystery\", \"/m/03bxz7\": \"Biograp...</td>\n      <td>NaN</td>\n      <td>NaN</td>\n      <td>NaN</td>\n      <td>NaN</td>\n      <td>NaN</td>\n      <td>NaN</td>\n      <td>NaN</td>\n      <td>NaN</td>\n      <td>NaN</td>\n    </tr>\n    <tr>\n      <th>2</th>\n      <td>28463795</td>\n      <td>/m/0crgdbh</td>\n      <td>Brun bitter</td>\n      <td>1988</td>\n      <td>NaN</td>\n      <td>83.0</td>\n      <td>{\"/m/05f_3\": \"Norwegian Language\"}</td>\n      <td>{\"/m/05b4w\": \"Norway\"}</td>\n      <td>{\"/m/0lsxr\": \"Crime Fiction\", \"/m/07s9rl0\": \"D...</td>\n      <td>NaN</td>\n      <td>NaN</td>\n      <td>NaN</td>\n      <td>NaN</td>\n      <td>NaN</td>\n      <td>NaN</td>\n      <td>NaN</td>\n      <td>NaN</td>\n      <td>NaN</td>\n    </tr>\n    <tr>\n      <th>3</th>\n      <td>9363483</td>\n      <td>/m/0285_cd</td>\n      <td>White Of The Eye</td>\n      <td>1987</td>\n      <td>NaN</td>\n      <td>110.0</td>\n      <td>{\"/m/02h40lc\": \"English Language\"}</td>\n      <td>{\"/m/07ssc\": \"United Kingdom\"}</td>\n      <td>{\"/m/01jfsb\": \"Thriller\", \"/m/0glj9q\": \"Erotic...</td>\n      <td>NaN</td>\n      <td>NaN</td>\n      <td>NaN</td>\n      <td>NaN</td>\n      <td>NaN</td>\n      <td>NaN</td>\n      <td>NaN</td>\n      <td>NaN</td>\n      <td>NaN</td>\n    </tr>\n    <tr>\n      <th>4</th>\n      <td>261236</td>\n      <td>/m/01mrr1</td>\n      <td>A Woman in Flames</td>\n      <td>1983</td>\n      <td>NaN</td>\n      <td>106.0</td>\n      <td>{\"/m/04306rv\": \"German Language\"}</td>\n      <td>{\"/m/0345h\": \"Germany\"}</td>\n      <td>{\"/m/07s9rl0\": \"Drama\"}</td>\n      <td>NaN</td>\n      <td>NaN</td>\n      <td>NaN</td>\n      <td>NaN</td>\n      <td>NaN</td>\n      <td>NaN</td>\n      <td>NaN</td>\n      <td>NaN</td>\n      <td>NaN</td>\n    </tr>\n    <tr>\n      <th>5</th>\n      <td>13696889</td>\n      <td>/m/03cfc81</td>\n      <td>The Gangsters</td>\n      <td>1913-05-29</td>\n      <td>NaN</td>\n      <td>35.0</td>\n      <td>{\"/m/06ppq\": \"Silent film\", \"/m/02h40lc\": \"Eng...</td>\n      <td>{\"/m/09c7w0\": \"United States of America\"}</td>\n      <td>{\"/m/02hmvc\": \"Short Film\", \"/m/06ppq\": \"Silen...</td>\n      <td>NaN</td>\n      <td>NaN</td>\n      <td>NaN</td>\n      <td>NaN</td>\n      <td>NaN</td>\n      <td>NaN</td>\n      <td>NaN</td>\n      <td>NaN</td>\n      <td>NaN</td>\n    </tr>\n    <tr>\n      <th>6</th>\n      <td>18998739</td>\n      <td>/m/04jcqvw</td>\n      <td>The Sorcerer's Apprentice</td>\n      <td>2002</td>\n      <td>NaN</td>\n      <td>86.0</td>\n      <td>{\"/m/02h40lc\": \"English Language\"}</td>\n      <td>{\"/m/0hzlz\": \"South Africa\"}</td>\n      <td>{\"/m/0hqxf\": \"Family Film\", \"/m/01hmnh\": \"Fant...</td>\n      <td>NaN</td>\n      <td>NaN</td>\n      <td>NaN</td>\n      <td>NaN</td>\n      <td>NaN</td>\n      <td>NaN</td>\n      <td>NaN</td>\n      <td>NaN</td>\n      <td>NaN</td>\n    </tr>\n    <tr>\n      <th>7</th>\n      <td>10408933</td>\n      <td>/m/02qc0j7</td>\n      <td>Alexander's Ragtime Band</td>\n      <td>1938-08-16</td>\n      <td>3600000.0</td>\n      <td>106.0</td>\n      <td>{\"/m/02h40lc\": \"English Language\"}</td>\n      <td>{\"/m/09c7w0\": \"United States of America\"}</td>\n      <td>{\"/m/04t36\": \"Musical\", \"/m/01z4y\": \"Comedy\", ...</td>\n      <td>NaN</td>\n      <td>NaN</td>\n      <td>NaN</td>\n      <td>NaN</td>\n      <td>NaN</td>\n      <td>NaN</td>\n      <td>NaN</td>\n      <td>NaN</td>\n      <td>NaN</td>\n    </tr>\n    <tr>\n      <th>8</th>\n      <td>9997961</td>\n      <td>/m/06_y2j7</td>\n      <td>Contigo y aquí</td>\n      <td>1974</td>\n      <td>NaN</td>\n      <td>NaN</td>\n      <td>{\"/m/06nm1\": \"Spanish Language\"}</td>\n      <td>{\"/m/0jgd\": \"Argentina\"}</td>\n      <td>{\"/m/04t36\": \"Musical\", \"/m/07s9rl0\": \"Drama\",...</td>\n      <td>NaN</td>\n      <td>NaN</td>\n      <td>NaN</td>\n      <td>NaN</td>\n      <td>NaN</td>\n      <td>NaN</td>\n      <td>NaN</td>\n      <td>NaN</td>\n      <td>NaN</td>\n    </tr>\n    <tr>\n      <th>9</th>\n      <td>2345652</td>\n      <td>/m/075f66</td>\n      <td>City of the Dead</td>\n      <td>1960</td>\n      <td>NaN</td>\n      <td>76.0</td>\n      <td>{\"/m/02h40lc\": \"English Language\"}</td>\n      <td>{\"/m/07ssc\": \"United Kingdom\"}</td>\n      <td>{\"/m/03npn\": \"Horror\", \"/m/0fdjb\": \"Supernatur...</td>\n      <td>NaN</td>\n      <td>NaN</td>\n      <td>NaN</td>\n      <td>NaN</td>\n      <td>NaN</td>\n      <td>NaN</td>\n      <td>NaN</td>\n      <td>NaN</td>\n      <td>NaN</td>\n    </tr>\n  </tbody>\n</table>\n</div>"
     },
     "execution_count": 34,
     "metadata": {},
     "output_type": "execute_result"
    }
   ],
   "source": [
    "# Read new file created in other script \"add_TMDB_movie_metadata\"\n",
    "\n",
    "\n",
    "movie_metadata_TMDB = pd.read_csv('movie_metadata_TMDB.csv',header=0) \n",
    "\n",
    "#movie_metadata.count()\n",
    "#movie_metadata_TMDB.head(500).sample(25)\n",
    "movie_metadata_TMDB.head(10)"
   ],
   "metadata": {
    "collapsed": false,
    "ExecuteTime": {
     "end_time": "2023-11-01T15:57:29.701541100Z",
     "start_time": "2023-11-01T15:57:29.418868900Z"
    }
   },
   "id": "2c1f5f375c6c753d"
  },
  {
   "cell_type": "code",
   "execution_count": 10,
   "outputs": [
    {
     "name": "stderr",
     "output_type": "stream",
     "text": [
      "C:\\Users\\gusta\\AppData\\Local\\Temp\\ipykernel_58440\\2788347056.py:4: DtypeWarning: Columns (10,11,12,14,15) have mixed types. Specify dtype option on import or set low_memory=False.\n",
      "  md_28000 = pd.read_csv('movie_metadata_TMDB28000.csv')\n",
      "C:\\Users\\gusta\\AppData\\Local\\Temp\\ipykernel_58440\\2788347056.py:5: DtypeWarning: Columns (10,11,12,14,15) have mixed types. Specify dtype option on import or set low_memory=False.\n",
      "  md_11000 = pd.read_csv('movie_metadata_TMDB11407.csv')\n"
     ]
    }
   ],
   "source": [
    "# merge CSV files\n",
    "import pandas as pd\n",
    "md_rest = pd.read_csv('movie_metadata_TMDBrest.csv')\n",
    "md_28000 = pd.read_csv('movie_metadata_TMDB28000.csv')\n",
    "md_11000 = pd.read_csv('movie_metadata_TMDB11407.csv')\n",
    "\n"
   ],
   "metadata": {
    "collapsed": false,
    "ExecuteTime": {
     "end_time": "2023-11-06T15:02:28.591594400Z",
     "start_time": "2023-11-06T15:02:27.115769200Z"
    }
   },
   "id": "879e2c01e488fd7f"
  },
  {
   "cell_type": "code",
   "execution_count": 40,
   "outputs": [
    {
     "name": "stdout",
     "output_type": "stream",
     "text": [
      "Added TMDB ID to 68944 movies. Total movies before 81741. \n",
      " Percentage populated: 84.34%\n"
     ]
    }
   ],
   "source": [
    "big = md_rest['TMDB_original_language'].isna().sum()\n",
    "med = md_28000['TMDB_original_language'].isna().sum()\n",
    "small = md_11000['TMDB_original_language'].isna().sum()\n",
    "\n",
    "\n",
    "# test join\n",
    "partone = md_28000.combine_first(md_11000)\n",
    "df = partone.combine_first(md_rest).copy()\n",
    "df['TMDB_original_language'].isna().sum()\n",
    "\n",
    "df['Wikipedia Movie ID'].count()\n",
    "\n",
    "print(f\"Added TMDB ID to {df['TMDB_id'].count()} movies. Total movies before {df['Wikipedia Movie ID'].count()}. \\n Percentage populated: {round(df['TMDB_id'].count()/df['Wikipedia Movie ID'].count()*100,2)}%\")\n",
    "\n",
    "df.to_csv('movie_metadata_TMDBid.csv')\n",
    "\n"
   ],
   "metadata": {
    "collapsed": false,
    "ExecuteTime": {
     "end_time": "2023-11-06T15:18:06.687378400Z",
     "start_time": "2023-11-06T15:18:05.077662300Z"
    }
   },
   "id": "997dc69d57c6835b"
  },
  {
   "cell_type": "code",
   "execution_count": 33,
   "outputs": [],
   "source": [],
   "metadata": {
    "collapsed": false,
    "ExecuteTime": {
     "end_time": "2023-11-06T15:14:32.160996Z",
     "start_time": "2023-11-06T15:14:32.152588200Z"
    }
   },
   "id": "3bec3988f03275e9"
  },
  {
   "cell_type": "code",
   "execution_count": null,
   "outputs": [],
   "source": [],
   "metadata": {
    "collapsed": false
   },
   "id": "c51ab19191c963b6"
  }
 ],
 "metadata": {
  "kernelspec": {
   "display_name": "Python 3",
   "language": "python",
   "name": "python3"
  },
  "language_info": {
   "codemirror_mode": {
    "name": "ipython",
    "version": 2
   },
   "file_extension": ".py",
   "mimetype": "text/x-python",
   "name": "python",
   "nbconvert_exporter": "python",
   "pygments_lexer": "ipython2",
   "version": "2.7.6"
  }
 },
 "nbformat": 4,
 "nbformat_minor": 5
}
