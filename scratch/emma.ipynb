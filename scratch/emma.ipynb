{
 "cells": [
  {
   "cell_type": "markdown",
   "metadata": {},
   "source": [
    "# Initial data analysis"
   ]
  },
  {
   "cell_type": "code",
   "execution_count": 93,
   "metadata": {},
   "outputs": [],
   "source": [
    "# Packages\n",
    "import pandas as pd\n",
    "import numpy as np\n",
    "import matplotlib as plt\n",
    "import seaborn as sns\n",
    "%matplotlib inline\n"
   ]
  },
  {
   "cell_type": "code",
   "execution_count": 94,
   "metadata": {},
   "outputs": [],
   "source": [
    "# Define column names for movie.metadata.tsv\n",
    "movie_metadata_columns = [\"Wikipedia Movie ID\", \"Freebase Movie ID\", \"Movie name\", \"Movie release date\",\n",
    "                          \"Movie box office revenue\", \"Movie runtime\", \"Movie languages\", \"Movie countries\", \"Movie genres\"]\n",
    "\n",
    "# Read movie.metadata.tsv into a DataFrame\n",
    "movie_metadata_df = pd.read_csv(\"../data/movie.metadata.tsv\", sep='\\t', header=None, names=movie_metadata_columns)\n",
    "\n",
    "# Define column names for name.clusters.txt\n",
    "name_clusters_columns = [\"Movie name\", \"Freebase Movie ID\"]\n",
    "\n",
    "# Read name.clusters.txt into a DataFrame\n",
    "name_clusters_df = pd.read_csv(\"../data/name.clusters.txt\", sep='\\t', header=None, names=name_clusters_columns)\n",
    "\n",
    "# Define column names for character.metadata.tsv\n",
    "character_metadata_columns = [\"Wikipedia Movie ID\", \"Freebase Movie ID\", \"Movie release date\", \"Character name\",\n",
    "                              \"Actor DOB\", \"Actor gender\", \"Actor height\", \"Actor ethnicity\",\"Actor name\",\n",
    "                              \"Actor age at movie release\", \"x\", \"y\",\"z\",]\n",
    "\n",
    "# Read character.metadata.tsv into a DataFrame\n",
    "character_metadata_df = pd.read_csv(\"../data/character.metadata.tsv\", sep='\\t', header=None, names=character_metadata_columns)\n"
   ]
  },
  {
   "cell_type": "markdown",
   "metadata": {},
   "source": [
    "### Let's explore the Movie Metadata dataset \n",
    "First we display the dataframe"
   ]
  },
  {
   "cell_type": "code",
   "execution_count": 95,
   "metadata": {},
   "outputs": [
    {
     "data": {
      "text/html": [
       "<div>\n",
       "<style scoped>\n",
       "    .dataframe tbody tr th:only-of-type {\n",
       "        vertical-align: middle;\n",
       "    }\n",
       "\n",
       "    .dataframe tbody tr th {\n",
       "        vertical-align: top;\n",
       "    }\n",
       "\n",
       "    .dataframe thead th {\n",
       "        text-align: right;\n",
       "    }\n",
       "</style>\n",
       "<table border=\"1\" class=\"dataframe\">\n",
       "  <thead>\n",
       "    <tr style=\"text-align: right;\">\n",
       "      <th></th>\n",
       "      <th>Wikipedia Movie ID</th>\n",
       "      <th>Freebase Movie ID</th>\n",
       "      <th>Movie name</th>\n",
       "      <th>Movie release date</th>\n",
       "      <th>Movie box office revenue</th>\n",
       "      <th>Movie runtime</th>\n",
       "      <th>Movie languages</th>\n",
       "      <th>Movie countries</th>\n",
       "      <th>Movie genres</th>\n",
       "    </tr>\n",
       "  </thead>\n",
       "  <tbody>\n",
       "    <tr>\n",
       "      <th>0</th>\n",
       "      <td>975900</td>\n",
       "      <td>/m/03vyhn</td>\n",
       "      <td>Ghosts of Mars</td>\n",
       "      <td>2001-08-24</td>\n",
       "      <td>14010832.0</td>\n",
       "      <td>98.0</td>\n",
       "      <td>{\"/m/02h40lc\": \"English Language\"}</td>\n",
       "      <td>{\"/m/09c7w0\": \"United States of America\"}</td>\n",
       "      <td>{\"/m/01jfsb\": \"Thriller\", \"/m/06n90\": \"Science...</td>\n",
       "    </tr>\n",
       "    <tr>\n",
       "      <th>1</th>\n",
       "      <td>3196793</td>\n",
       "      <td>/m/08yl5d</td>\n",
       "      <td>Getting Away with Murder: The JonBenét Ramsey ...</td>\n",
       "      <td>2000-02-16</td>\n",
       "      <td>NaN</td>\n",
       "      <td>95.0</td>\n",
       "      <td>{\"/m/02h40lc\": \"English Language\"}</td>\n",
       "      <td>{\"/m/09c7w0\": \"United States of America\"}</td>\n",
       "      <td>{\"/m/02n4kr\": \"Mystery\", \"/m/03bxz7\": \"Biograp...</td>\n",
       "    </tr>\n",
       "    <tr>\n",
       "      <th>2</th>\n",
       "      <td>28463795</td>\n",
       "      <td>/m/0crgdbh</td>\n",
       "      <td>Brun bitter</td>\n",
       "      <td>1988</td>\n",
       "      <td>NaN</td>\n",
       "      <td>83.0</td>\n",
       "      <td>{\"/m/05f_3\": \"Norwegian Language\"}</td>\n",
       "      <td>{\"/m/05b4w\": \"Norway\"}</td>\n",
       "      <td>{\"/m/0lsxr\": \"Crime Fiction\", \"/m/07s9rl0\": \"D...</td>\n",
       "    </tr>\n",
       "    <tr>\n",
       "      <th>3</th>\n",
       "      <td>9363483</td>\n",
       "      <td>/m/0285_cd</td>\n",
       "      <td>White Of The Eye</td>\n",
       "      <td>1987</td>\n",
       "      <td>NaN</td>\n",
       "      <td>110.0</td>\n",
       "      <td>{\"/m/02h40lc\": \"English Language\"}</td>\n",
       "      <td>{\"/m/07ssc\": \"United Kingdom\"}</td>\n",
       "      <td>{\"/m/01jfsb\": \"Thriller\", \"/m/0glj9q\": \"Erotic...</td>\n",
       "    </tr>\n",
       "    <tr>\n",
       "      <th>4</th>\n",
       "      <td>261236</td>\n",
       "      <td>/m/01mrr1</td>\n",
       "      <td>A Woman in Flames</td>\n",
       "      <td>1983</td>\n",
       "      <td>NaN</td>\n",
       "      <td>106.0</td>\n",
       "      <td>{\"/m/04306rv\": \"German Language\"}</td>\n",
       "      <td>{\"/m/0345h\": \"Germany\"}</td>\n",
       "      <td>{\"/m/07s9rl0\": \"Drama\"}</td>\n",
       "    </tr>\n",
       "  </tbody>\n",
       "</table>\n",
       "</div>"
      ],
      "text/plain": [
       "   Wikipedia Movie ID Freebase Movie ID  \\\n",
       "0              975900         /m/03vyhn   \n",
       "1             3196793         /m/08yl5d   \n",
       "2            28463795        /m/0crgdbh   \n",
       "3             9363483        /m/0285_cd   \n",
       "4              261236         /m/01mrr1   \n",
       "\n",
       "                                          Movie name Movie release date  \\\n",
       "0                                     Ghosts of Mars         2001-08-24   \n",
       "1  Getting Away with Murder: The JonBenét Ramsey ...         2000-02-16   \n",
       "2                                        Brun bitter               1988   \n",
       "3                                   White Of The Eye               1987   \n",
       "4                                  A Woman in Flames               1983   \n",
       "\n",
       "   Movie box office revenue  Movie runtime  \\\n",
       "0                14010832.0           98.0   \n",
       "1                       NaN           95.0   \n",
       "2                       NaN           83.0   \n",
       "3                       NaN          110.0   \n",
       "4                       NaN          106.0   \n",
       "\n",
       "                      Movie languages  \\\n",
       "0  {\"/m/02h40lc\": \"English Language\"}   \n",
       "1  {\"/m/02h40lc\": \"English Language\"}   \n",
       "2  {\"/m/05f_3\": \"Norwegian Language\"}   \n",
       "3  {\"/m/02h40lc\": \"English Language\"}   \n",
       "4   {\"/m/04306rv\": \"German Language\"}   \n",
       "\n",
       "                             Movie countries  \\\n",
       "0  {\"/m/09c7w0\": \"United States of America\"}   \n",
       "1  {\"/m/09c7w0\": \"United States of America\"}   \n",
       "2                     {\"/m/05b4w\": \"Norway\"}   \n",
       "3             {\"/m/07ssc\": \"United Kingdom\"}   \n",
       "4                    {\"/m/0345h\": \"Germany\"}   \n",
       "\n",
       "                                        Movie genres  \n",
       "0  {\"/m/01jfsb\": \"Thriller\", \"/m/06n90\": \"Science...  \n",
       "1  {\"/m/02n4kr\": \"Mystery\", \"/m/03bxz7\": \"Biograp...  \n",
       "2  {\"/m/0lsxr\": \"Crime Fiction\", \"/m/07s9rl0\": \"D...  \n",
       "3  {\"/m/01jfsb\": \"Thriller\", \"/m/0glj9q\": \"Erotic...  \n",
       "4                            {\"/m/07s9rl0\": \"Drama\"}  "
      ]
     },
     "execution_count": 95,
     "metadata": {},
     "output_type": "execute_result"
    }
   ],
   "source": [
    "movie_metadata_df.head(5)"
   ]
  },
  {
   "cell_type": "markdown",
   "metadata": {},
   "source": [
    "We can see that  `Movie languages`, `Movie countries` and `Movie genres` include a Freebase code ID. We want to remove this"
   ]
  },
  {
   "cell_type": "code",
   "execution_count": 96,
   "metadata": {},
   "outputs": [],
   "source": [
    "# Function to extract genre names without Freebase codes\n",
    "def extract_genre_names(genre_dict):\n",
    "    genre_names = []\n",
    "    for code, name in genre_dict.items():\n",
    "        genre_names.append(name)\n",
    "    return \", \".join(genre_names)\n",
    "\n",
    "# Clean the \"Movie genres\" column\n",
    "movie_metadata_df[\"Movie genres\"] = movie_metadata_df[\"Movie genres\"].apply(eval)  # Convert string representation of dictionary to actual dictionary\n",
    "movie_metadata_df[\"Movie genres\"] = movie_metadata_df[\"Movie genres\"].apply(extract_genre_names)\n",
    "\n",
    "# Clean the \"Movie languages\" column (assuming similar structure to genres column)\n",
    "movie_metadata_df[\"Movie languages\"] = movie_metadata_df[\"Movie languages\"].apply(eval)\n",
    "movie_metadata_df[\"Movie languages\"] = movie_metadata_df[\"Movie languages\"].apply(lambda x: \", \".join(x.values()))\n",
    "\n",
    "# Clean the \"Movie countries\" column (assuming similar structure to genres column)\n",
    "movie_metadata_df[\"Movie countries\"] = movie_metadata_df[\"Movie countries\"].apply(eval)\n",
    "movie_metadata_df[\"Movie countries\"] = movie_metadata_df[\"Movie countries\"].apply(lambda x: \", \".join(x.values()))\n"
   ]
  },
  {
   "cell_type": "markdown",
   "metadata": {},
   "source": [
    "Now the `movie_metadata_df` has been cleaned a little bit. Let's look at it "
   ]
  },
  {
   "cell_type": "code",
   "execution_count": 97,
   "metadata": {},
   "outputs": [
    {
     "data": {
      "text/html": [
       "<div>\n",
       "<style scoped>\n",
       "    .dataframe tbody tr th:only-of-type {\n",
       "        vertical-align: middle;\n",
       "    }\n",
       "\n",
       "    .dataframe tbody tr th {\n",
       "        vertical-align: top;\n",
       "    }\n",
       "\n",
       "    .dataframe thead th {\n",
       "        text-align: right;\n",
       "    }\n",
       "</style>\n",
       "<table border=\"1\" class=\"dataframe\">\n",
       "  <thead>\n",
       "    <tr style=\"text-align: right;\">\n",
       "      <th></th>\n",
       "      <th>Wikipedia Movie ID</th>\n",
       "      <th>Freebase Movie ID</th>\n",
       "      <th>Movie name</th>\n",
       "      <th>Movie release date</th>\n",
       "      <th>Movie box office revenue</th>\n",
       "      <th>Movie runtime</th>\n",
       "      <th>Movie languages</th>\n",
       "      <th>Movie countries</th>\n",
       "      <th>Movie genres</th>\n",
       "    </tr>\n",
       "  </thead>\n",
       "  <tbody>\n",
       "    <tr>\n",
       "      <th>0</th>\n",
       "      <td>975900</td>\n",
       "      <td>/m/03vyhn</td>\n",
       "      <td>Ghosts of Mars</td>\n",
       "      <td>2001-08-24</td>\n",
       "      <td>14010832.0</td>\n",
       "      <td>98.0</td>\n",
       "      <td>English Language</td>\n",
       "      <td>United States of America</td>\n",
       "      <td>Thriller, Science Fiction, Horror, Adventure, ...</td>\n",
       "    </tr>\n",
       "    <tr>\n",
       "      <th>1</th>\n",
       "      <td>3196793</td>\n",
       "      <td>/m/08yl5d</td>\n",
       "      <td>Getting Away with Murder: The JonBenét Ramsey ...</td>\n",
       "      <td>2000-02-16</td>\n",
       "      <td>NaN</td>\n",
       "      <td>95.0</td>\n",
       "      <td>English Language</td>\n",
       "      <td>United States of America</td>\n",
       "      <td>Mystery, Biographical film, Drama, Crime Drama</td>\n",
       "    </tr>\n",
       "    <tr>\n",
       "      <th>2</th>\n",
       "      <td>28463795</td>\n",
       "      <td>/m/0crgdbh</td>\n",
       "      <td>Brun bitter</td>\n",
       "      <td>1988</td>\n",
       "      <td>NaN</td>\n",
       "      <td>83.0</td>\n",
       "      <td>Norwegian Language</td>\n",
       "      <td>Norway</td>\n",
       "      <td>Crime Fiction, Drama</td>\n",
       "    </tr>\n",
       "    <tr>\n",
       "      <th>3</th>\n",
       "      <td>9363483</td>\n",
       "      <td>/m/0285_cd</td>\n",
       "      <td>White Of The Eye</td>\n",
       "      <td>1987</td>\n",
       "      <td>NaN</td>\n",
       "      <td>110.0</td>\n",
       "      <td>English Language</td>\n",
       "      <td>United Kingdom</td>\n",
       "      <td>Thriller, Erotic thriller, Psychological thriller</td>\n",
       "    </tr>\n",
       "    <tr>\n",
       "      <th>4</th>\n",
       "      <td>261236</td>\n",
       "      <td>/m/01mrr1</td>\n",
       "      <td>A Woman in Flames</td>\n",
       "      <td>1983</td>\n",
       "      <td>NaN</td>\n",
       "      <td>106.0</td>\n",
       "      <td>German Language</td>\n",
       "      <td>Germany</td>\n",
       "      <td>Drama</td>\n",
       "    </tr>\n",
       "  </tbody>\n",
       "</table>\n",
       "</div>"
      ],
      "text/plain": [
       "   Wikipedia Movie ID Freebase Movie ID  \\\n",
       "0              975900         /m/03vyhn   \n",
       "1             3196793         /m/08yl5d   \n",
       "2            28463795        /m/0crgdbh   \n",
       "3             9363483        /m/0285_cd   \n",
       "4              261236         /m/01mrr1   \n",
       "\n",
       "                                          Movie name Movie release date  \\\n",
       "0                                     Ghosts of Mars         2001-08-24   \n",
       "1  Getting Away with Murder: The JonBenét Ramsey ...         2000-02-16   \n",
       "2                                        Brun bitter               1988   \n",
       "3                                   White Of The Eye               1987   \n",
       "4                                  A Woman in Flames               1983   \n",
       "\n",
       "   Movie box office revenue  Movie runtime     Movie languages  \\\n",
       "0                14010832.0           98.0    English Language   \n",
       "1                       NaN           95.0    English Language   \n",
       "2                       NaN           83.0  Norwegian Language   \n",
       "3                       NaN          110.0    English Language   \n",
       "4                       NaN          106.0     German Language   \n",
       "\n",
       "            Movie countries                                       Movie genres  \n",
       "0  United States of America  Thriller, Science Fiction, Horror, Adventure, ...  \n",
       "1  United States of America     Mystery, Biographical film, Drama, Crime Drama  \n",
       "2                    Norway                               Crime Fiction, Drama  \n",
       "3            United Kingdom  Thriller, Erotic thriller, Psychological thriller  \n",
       "4                   Germany                                              Drama  "
      ]
     },
     "execution_count": 97,
     "metadata": {},
     "output_type": "execute_result"
    }
   ],
   "source": [
    "movie_metadata_df.head(5)"
   ]
  },
  {
   "cell_type": "markdown",
   "metadata": {},
   "source": [
    "Let's see if there is any date missing in the dataframe"
   ]
  },
  {
   "cell_type": "code",
   "execution_count": 98,
   "metadata": {},
   "outputs": [
    {
     "name": "stdout",
     "output_type": "stream",
     "text": [
      "NaNs for movie dataset\n",
      "Wikipedia Movie ID              0\n",
      "Freebase Movie ID               0\n",
      "Movie name                      0\n",
      "Movie release date           6902\n",
      "Movie box office revenue    73340\n",
      "Movie runtime               20450\n",
      "Movie languages                 0\n",
      "Movie countries                 0\n",
      "Movie genres                    0\n",
      "dtype: int64\n",
      "\n",
      " Percentage of NaNs for movie dataset\n",
      "Wikipedia Movie ID           0.000000\n",
      "Freebase Movie ID            0.000000\n",
      "Movie name                   0.000000\n",
      "Movie release date           8.443743\n",
      "Movie box office revenue    89.722416\n",
      "Movie runtime               25.018045\n",
      "Movie languages              0.000000\n",
      "Movie countries              0.000000\n",
      "Movie genres                 0.000000\n",
      "dtype: float64\n"
     ]
    }
   ],
   "source": [
    "print('NaNs for movie dataset')\n",
    "print(movie_metadata_df.isna().sum())\n",
    "\n",
    "print('\\n Percentage of NaNs for movie dataset')\n",
    "print(movie_metadata_df.isna().mean() * 100)"
   ]
  },
  {
   "cell_type": "markdown",
   "metadata": {},
   "source": [
    "It looks like we might have a problem with the `Movie release date`, `Movie box office revenue` and `Movie runtime` date. \n",
    "\n",
    "What can we do to mitigate this error. Let's first look at the release date."
   ]
  },
  {
   "cell_type": "markdown",
   "metadata": {},
   "source": [
    "**Movie release date**\n",
    "\n",
    "The movie release data has both entries where only the release year is given and entries where the release date is also given. \n",
    "\n",
    "We also have some missing data"
   ]
  },
  {
   "cell_type": "code",
   "execution_count": 99,
   "metadata": {},
   "outputs": [
    {
     "data": {
      "text/plain": [
       "0        2001-08-24\n",
       "1        2000-02-16\n",
       "2              1988\n",
       "3              1987\n",
       "4              1983\n",
       "            ...    \n",
       "81736    2011-03-19\n",
       "81737    2011-01-21\n",
       "81738    1972-09-22\n",
       "81739    1992-05-21\n",
       "81740          2002\n",
       "Name: Movie release date, Length: 81741, dtype: object"
      ]
     },
     "execution_count": 99,
     "metadata": {},
     "output_type": "execute_result"
    }
   ],
   "source": [
    "movie_metadata_df['Movie release date']"
   ]
  },
  {
   "cell_type": "code",
   "execution_count": 100,
   "metadata": {},
   "outputs": [
    {
     "data": {
      "text/html": [
       "<div>\n",
       "<style scoped>\n",
       "    .dataframe tbody tr th:only-of-type {\n",
       "        vertical-align: middle;\n",
       "    }\n",
       "\n",
       "    .dataframe tbody tr th {\n",
       "        vertical-align: top;\n",
       "    }\n",
       "\n",
       "    .dataframe thead th {\n",
       "        text-align: right;\n",
       "    }\n",
       "</style>\n",
       "<table border=\"1\" class=\"dataframe\">\n",
       "  <thead>\n",
       "    <tr style=\"text-align: right;\">\n",
       "      <th></th>\n",
       "      <th>Wikipedia Movie ID</th>\n",
       "      <th>Freebase Movie ID</th>\n",
       "      <th>Movie name</th>\n",
       "      <th>Movie release date</th>\n",
       "      <th>Movie box office revenue</th>\n",
       "      <th>Movie runtime</th>\n",
       "      <th>Movie languages</th>\n",
       "      <th>Movie countries</th>\n",
       "      <th>Movie genres</th>\n",
       "      <th>Movie release year</th>\n",
       "    </tr>\n",
       "  </thead>\n",
       "  <tbody>\n",
       "    <tr>\n",
       "      <th>0</th>\n",
       "      <td>975900</td>\n",
       "      <td>/m/03vyhn</td>\n",
       "      <td>Ghosts of Mars</td>\n",
       "      <td>2001-08-24</td>\n",
       "      <td>14010832.0</td>\n",
       "      <td>98.0</td>\n",
       "      <td>English Language</td>\n",
       "      <td>United States of America</td>\n",
       "      <td>Thriller, Science Fiction, Horror, Adventure, ...</td>\n",
       "      <td>2001</td>\n",
       "    </tr>\n",
       "    <tr>\n",
       "      <th>1</th>\n",
       "      <td>3196793</td>\n",
       "      <td>/m/08yl5d</td>\n",
       "      <td>Getting Away with Murder: The JonBenét Ramsey ...</td>\n",
       "      <td>2000-02-16</td>\n",
       "      <td>NaN</td>\n",
       "      <td>95.0</td>\n",
       "      <td>English Language</td>\n",
       "      <td>United States of America</td>\n",
       "      <td>Mystery, Biographical film, Drama, Crime Drama</td>\n",
       "      <td>2000</td>\n",
       "    </tr>\n",
       "    <tr>\n",
       "      <th>2</th>\n",
       "      <td>28463795</td>\n",
       "      <td>/m/0crgdbh</td>\n",
       "      <td>Brun bitter</td>\n",
       "      <td>1988</td>\n",
       "      <td>NaN</td>\n",
       "      <td>83.0</td>\n",
       "      <td>Norwegian Language</td>\n",
       "      <td>Norway</td>\n",
       "      <td>Crime Fiction, Drama</td>\n",
       "      <td>1988</td>\n",
       "    </tr>\n",
       "    <tr>\n",
       "      <th>3</th>\n",
       "      <td>9363483</td>\n",
       "      <td>/m/0285_cd</td>\n",
       "      <td>White Of The Eye</td>\n",
       "      <td>1987</td>\n",
       "      <td>NaN</td>\n",
       "      <td>110.0</td>\n",
       "      <td>English Language</td>\n",
       "      <td>United Kingdom</td>\n",
       "      <td>Thriller, Erotic thriller, Psychological thriller</td>\n",
       "      <td>1987</td>\n",
       "    </tr>\n",
       "    <tr>\n",
       "      <th>4</th>\n",
       "      <td>261236</td>\n",
       "      <td>/m/01mrr1</td>\n",
       "      <td>A Woman in Flames</td>\n",
       "      <td>1983</td>\n",
       "      <td>NaN</td>\n",
       "      <td>106.0</td>\n",
       "      <td>German Language</td>\n",
       "      <td>Germany</td>\n",
       "      <td>Drama</td>\n",
       "      <td>1983</td>\n",
       "    </tr>\n",
       "  </tbody>\n",
       "</table>\n",
       "</div>"
      ],
      "text/plain": [
       "   Wikipedia Movie ID Freebase Movie ID  \\\n",
       "0              975900         /m/03vyhn   \n",
       "1             3196793         /m/08yl5d   \n",
       "2            28463795        /m/0crgdbh   \n",
       "3             9363483        /m/0285_cd   \n",
       "4              261236         /m/01mrr1   \n",
       "\n",
       "                                          Movie name Movie release date  \\\n",
       "0                                     Ghosts of Mars         2001-08-24   \n",
       "1  Getting Away with Murder: The JonBenét Ramsey ...         2000-02-16   \n",
       "2                                        Brun bitter               1988   \n",
       "3                                   White Of The Eye               1987   \n",
       "4                                  A Woman in Flames               1983   \n",
       "\n",
       "   Movie box office revenue  Movie runtime     Movie languages  \\\n",
       "0                14010832.0           98.0    English Language   \n",
       "1                       NaN           95.0    English Language   \n",
       "2                       NaN           83.0  Norwegian Language   \n",
       "3                       NaN          110.0    English Language   \n",
       "4                       NaN          106.0     German Language   \n",
       "\n",
       "            Movie countries  \\\n",
       "0  United States of America   \n",
       "1  United States of America   \n",
       "2                    Norway   \n",
       "3            United Kingdom   \n",
       "4                   Germany   \n",
       "\n",
       "                                        Movie genres  Movie release year  \n",
       "0  Thriller, Science Fiction, Horror, Adventure, ...                2001  \n",
       "1     Mystery, Biographical film, Drama, Crime Drama                2000  \n",
       "2                               Crime Fiction, Drama                1988  \n",
       "3  Thriller, Erotic thriller, Psychological thriller                1987  \n",
       "4                                              Drama                1983  "
      ]
     },
     "execution_count": 100,
     "metadata": {},
     "output_type": "execute_result"
    }
   ],
   "source": [
    "# Extract year from release year \n",
    "movie_metadata_df[\"Movie release year\"] = movie_metadata_df[\"Movie release date\"].str.split('-').str[0].astype('Int64')\n",
    "\n",
    "movie_metadata_df.head(5)"
   ]
  },
  {
   "cell_type": "code",
   "execution_count": 113,
   "metadata": {},
   "outputs": [
    {
     "data": {
      "text/plain": [
       "array([0, 1010, 1888, 1889, 1890, 1891, 1892, 1893, 1894, 1895, 1896,\n",
       "       1897, 1898, 1899, 1900, 1901, 1902, 1903, 1904, 1905, 1906, 1907,\n",
       "       1908, 1909, 1910, 1911, 1912, 1913, 1914, 1915, 1916, 1917, 1918,\n",
       "       1919, 1920, 1921, 1922, 1923, 1924, 1925, 1926, 1927, 1928, 1929,\n",
       "       1930, 1931, 1932, 1933, 1934, 1935, 1936, 1937, 1938, 1939, 1940,\n",
       "       1941, 1942, 1943, 1944, 1945, 1946, 1947, 1948, 1949, 1950, 1951,\n",
       "       1952, 1953, 1954, 1955, 1956, 1957, 1958, 1959, 1960, 1961, 1962,\n",
       "       1963, 1964, 1965, 1966, 1967, 1968, 1969, 1970, 1971, 1972, 1973,\n",
       "       1974, 1975, 1976, 1977, 1978, 1979, 1980, 1981, 1982, 1983, 1984,\n",
       "       1985, 1986, 1987, 1988, 1989, 1990, 1991, 1992, 1993, 1994, 1995,\n",
       "       1996, 1997, 1998, 1999, 2000, 2001, 2002, 2003, 2004, 2005, 2006,\n",
       "       2007, 2008, 2009, 2010, 2011, 2012, 2013, 2014, 2015, 2016],\n",
       "      dtype=object)"
      ]
     },
     "execution_count": 113,
     "metadata": {},
     "output_type": "execute_result"
    }
   ],
   "source": [
    "# See years\n",
    "years = movie_metadata_df['Movie release year'].unique()\n",
    "np.sort(years.fillna(0))"
   ]
  },
  {
   "cell_type": "code",
   "execution_count": 114,
   "metadata": {},
   "outputs": [
    {
     "data": {
      "text/html": [
       "<div>\n",
       "<style scoped>\n",
       "    .dataframe tbody tr th:only-of-type {\n",
       "        vertical-align: middle;\n",
       "    }\n",
       "\n",
       "    .dataframe tbody tr th {\n",
       "        vertical-align: top;\n",
       "    }\n",
       "\n",
       "    .dataframe thead th {\n",
       "        text-align: right;\n",
       "    }\n",
       "</style>\n",
       "<table border=\"1\" class=\"dataframe\">\n",
       "  <thead>\n",
       "    <tr style=\"text-align: right;\">\n",
       "      <th></th>\n",
       "      <th>Wikipedia Movie ID</th>\n",
       "      <th>Freebase Movie ID</th>\n",
       "      <th>Movie name</th>\n",
       "      <th>Movie release date</th>\n",
       "      <th>Movie box office revenue</th>\n",
       "      <th>Movie runtime</th>\n",
       "      <th>Movie languages</th>\n",
       "      <th>Movie countries</th>\n",
       "      <th>Movie genres</th>\n",
       "      <th>Movie release year</th>\n",
       "    </tr>\n",
       "  </thead>\n",
       "  <tbody>\n",
       "    <tr>\n",
       "      <th>62836</th>\n",
       "      <td>29666067</td>\n",
       "      <td>/m/0fphzrf</td>\n",
       "      <td>Hunting Season</td>\n",
       "      <td>1010-12-02</td>\n",
       "      <td>12160978.0</td>\n",
       "      <td>140.0</td>\n",
       "      <td>Turkish Language, English Language</td>\n",
       "      <td>Turkey</td>\n",
       "      <td>Crime Fiction, Mystery, Drama, Thriller</td>\n",
       "      <td>1010</td>\n",
       "    </tr>\n",
       "  </tbody>\n",
       "</table>\n",
       "</div>"
      ],
      "text/plain": [
       "       Wikipedia Movie ID Freebase Movie ID      Movie name  \\\n",
       "62836            29666067        /m/0fphzrf  Hunting Season   \n",
       "\n",
       "      Movie release date  Movie box office revenue  Movie runtime  \\\n",
       "62836         1010-12-02                12160978.0          140.0   \n",
       "\n",
       "                          Movie languages Movie countries  \\\n",
       "62836  Turkish Language, English Language          Turkey   \n",
       "\n",
       "                                  Movie genres  Movie release year  \n",
       "62836  Crime Fiction, Mystery, Drama, Thriller                1010  "
      ]
     },
     "execution_count": 114,
     "metadata": {},
     "output_type": "execute_result"
    }
   ],
   "source": [
    "# Find movies from 1010\n",
    "movie_metadata_df[movie_metadata_df['Movie release year']==1010]"
   ]
  },
  {
   "cell_type": "code",
   "execution_count": 102,
   "metadata": {},
   "outputs": [],
   "source": [
    "# Replace 1010 with 2010\n",
    "\n",
    "#movie_metadata_df[movie_metadata_df['Movie release year'] == 1010] = 2010"
   ]
  },
  {
   "cell_type": "code",
   "execution_count": 103,
   "metadata": {},
   "outputs": [
    {
     "data": {
      "text/plain": [
       "Movie release year\n",
       "<NA>    6902\n",
       "2008    2465\n",
       "2006    2434\n",
       "2007    2389\n",
       "2009    2247\n",
       "        ... \n",
       "1904       1\n",
       "1893       1\n",
       "1889       1\n",
       "1888       1\n",
       "1010       1\n",
       "Name: count, Length: 131, dtype: Int64"
      ]
     },
     "execution_count": 103,
     "metadata": {},
     "output_type": "execute_result"
    }
   ],
   "source": [
    "movie_metadata_df['Movie release year'].value_counts(dropna=False)"
   ]
  },
  {
   "cell_type": "markdown",
   "metadata": {},
   "source": [
    "There might also be some missing data. Let's check. "
   ]
  },
  {
   "cell_type": "code",
   "execution_count": 104,
   "metadata": {},
   "outputs": [
    {
     "name": "stdout",
     "output_type": "stream",
     "text": [
      "Percentage of missing Movie release date data: 8.44 %\n",
      "Percentage of Movie release date data available: 91.56 %\n",
      "Movie release date data not available: 6902\n",
      "Movie release date data available: 74839\n"
     ]
    }
   ],
   "source": [
    "def missing_data(df, column):\n",
    "    percentage_data_missing = df[column].isna().sum()/df[column].shape[0]\n",
    "    print('Percentage of missing',column,'data:', round(percentage_data_missing *100,2),\"%\")\n",
    "    print('Percentage of',column,'data available:', round(100-percentage_data_missing *100,2),\"%\")\n",
    "    print(column,'data not available:',df[column].isna().sum())\n",
    "    print(column,'data available:',df[column].count())\n",
    "    \n",
    "    return \n",
    "\n",
    "missing_data(movie_metadata_df,'Movie release date')"
   ]
  },
  {
   "cell_type": "markdown",
   "metadata": {},
   "source": [
    "Indeed "
   ]
  },
  {
   "cell_type": "code",
   "execution_count": null,
   "metadata": {},
   "outputs": [],
   "source": []
  },
  {
   "cell_type": "code",
   "execution_count": null,
   "metadata": {},
   "outputs": [],
   "source": []
  },
  {
   "cell_type": "code",
   "execution_count": null,
   "metadata": {},
   "outputs": [],
   "source": []
  },
  {
   "cell_type": "code",
   "execution_count": 105,
   "metadata": {},
   "outputs": [
    {
     "data": {
      "text/plain": [
       "['2006',\n",
       " '2007',\n",
       " '2008',\n",
       " '2005',\n",
       " '2004',\n",
       " '2009',\n",
       " '2003',\n",
       " '2002',\n",
       " '2000',\n",
       " '2001',\n",
       " '2010',\n",
       " '1999',\n",
       " '1965',\n",
       " '1998',\n",
       " '1997',\n",
       " '1988',\n",
       " '1993',\n",
       " '1989',\n",
       " '1996',\n",
       " '1973']"
      ]
     },
     "execution_count": 105,
     "metadata": {},
     "output_type": "execute_result"
    }
   ],
   "source": [
    "# get top 10 most frequent names\n",
    "n = 20\n",
    "movie_metadata_df['Movie release date'].value_counts()[:n].index.tolist()"
   ]
  },
  {
   "cell_type": "code",
   "execution_count": null,
   "metadata": {},
   "outputs": [],
   "source": []
  },
  {
   "cell_type": "markdown",
   "metadata": {},
   "source": [
    "**Let's take a look at the `Movie box office revenue`**\n",
    "It looks like there is some missing data. Let´s count it"
   ]
  },
  {
   "cell_type": "code",
   "execution_count": 106,
   "metadata": {},
   "outputs": [
    {
     "name": "stdout",
     "output_type": "stream",
     "text": [
      "Percentage of missing Movie box office revenue data: 89.72 %\n",
      "Percentage of Movie box office revenue data available: 10.28 %\n",
      "Movie box office revenue data not available: 73340\n",
      "Movie box office revenue data available: 8401\n"
     ]
    }
   ],
   "source": [
    "missing_data(movie_metadata_df,'Movie box office revenue')"
   ]
  },
  {
   "cell_type": "markdown",
   "metadata": {},
   "source": [
    "We only have 8401 revenue data points. We can still try to analyse this data\n"
   ]
  },
  {
   "cell_type": "code",
   "execution_count": 107,
   "metadata": {},
   "outputs": [
    {
     "data": {
      "text/plain": [
       "count    8.401000e+03\n",
       "mean     4.799363e+07\n",
       "std      1.121753e+08\n",
       "min      1.000000e+04\n",
       "25%      2.083193e+06\n",
       "50%      1.063969e+07\n",
       "75%      4.071696e+07\n",
       "max      2.782275e+09\n",
       "Name: Movie box office revenue, dtype: float64"
      ]
     },
     "execution_count": 107,
     "metadata": {},
     "output_type": "execute_result"
    }
   ],
   "source": [
    "movie_metadata_df['Movie box office revenue'].describe()"
   ]
  },
  {
   "cell_type": "code",
   "execution_count": 108,
   "metadata": {},
   "outputs": [
    {
     "data": {
      "text/plain": [
       "<Axes: >"
      ]
     },
     "execution_count": 108,
     "metadata": {},
     "output_type": "execute_result"
    },
    {
     "data": {
      "image/png": "[encoded data removed]",
      "text/plain": [
       "<Figure size 640x480 with 1 Axes>"
      ]
     },
     "metadata": {},
     "output_type": "display_data"
    }
   ],
   "source": [
    "movie_metadata_df['Movie box office revenue'].hist(bins=100)"
   ]
  },
  {
   "cell_type": "code",
   "execution_count": 109,
   "metadata": {},
   "outputs": [
    {
     "data": {
      "text/plain": [
       "<Axes: >"
      ]
     },
     "execution_count": 109,
     "metadata": {},
     "output_type": "execute_result"
    },
    {
     "data": {
      "image/png": "[encoded data removed]",
      "text/plain": [
       "<Figure size 640x480 with 1 Axes>"
      ]
     },
     "metadata": {},
     "output_type": "display_data"
    }
   ],
   "source": [
    "box_office_revenue_filtered = movie_metadata_df.copy().dropna(subset = ['Movie box office revenue'])\n",
    "sns.boxplot(box_office_revenue_filtered['Movie box office revenue'])"
   ]
  },
  {
   "cell_type": "code",
   "execution_count": 110,
   "metadata": {},
   "outputs": [
    {
     "data": {
      "text/html": [
       "<div>\n",
       "<style scoped>\n",
       "    .dataframe tbody tr th:only-of-type {\n",
       "        vertical-align: middle;\n",
       "    }\n",
       "\n",
       "    .dataframe tbody tr th {\n",
       "        vertical-align: top;\n",
       "    }\n",
       "\n",
       "    .dataframe thead th {\n",
       "        text-align: right;\n",
       "    }\n",
       "</style>\n",
       "<table border=\"1\" class=\"dataframe\">\n",
       "  <thead>\n",
       "    <tr style=\"text-align: right;\">\n",
       "      <th></th>\n",
       "      <th>Wikipedia Movie ID</th>\n",
       "      <th>Freebase Movie ID</th>\n",
       "      <th>Movie name</th>\n",
       "      <th>Movie release date</th>\n",
       "      <th>Movie box office revenue</th>\n",
       "      <th>Movie runtime</th>\n",
       "      <th>Movie languages</th>\n",
       "      <th>Movie countries</th>\n",
       "      <th>Movie genres</th>\n",
       "      <th>Movie release year</th>\n",
       "    </tr>\n",
       "  </thead>\n",
       "  <tbody>\n",
       "    <tr>\n",
       "      <th>0</th>\n",
       "      <td>975900</td>\n",
       "      <td>/m/03vyhn</td>\n",
       "      <td>Ghosts of Mars</td>\n",
       "      <td>2001-08-24</td>\n",
       "      <td>14010832.0</td>\n",
       "      <td>98.0</td>\n",
       "      <td>English Language</td>\n",
       "      <td>United States of America</td>\n",
       "      <td>Thriller, Science Fiction, Horror, Adventure, ...</td>\n",
       "      <td>2001</td>\n",
       "    </tr>\n",
       "    <tr>\n",
       "      <th>7</th>\n",
       "      <td>10408933</td>\n",
       "      <td>/m/02qc0j7</td>\n",
       "      <td>Alexander's Ragtime Band</td>\n",
       "      <td>1938-08-16</td>\n",
       "      <td>3600000.0</td>\n",
       "      <td>106.0</td>\n",
       "      <td>English Language</td>\n",
       "      <td>United States of America</td>\n",
       "      <td>Musical, Comedy, Black-and-white</td>\n",
       "      <td>1938</td>\n",
       "    </tr>\n",
       "    <tr>\n",
       "      <th>13</th>\n",
       "      <td>171005</td>\n",
       "      <td>/m/016ywb</td>\n",
       "      <td>Henry V</td>\n",
       "      <td>1989-11-08</td>\n",
       "      <td>10161099.0</td>\n",
       "      <td>137.0</td>\n",
       "      <td>English Language</td>\n",
       "      <td>United Kingdom</td>\n",
       "      <td>Costume drama, War film, Epic, Period piece, D...</td>\n",
       "      <td>1989</td>\n",
       "    </tr>\n",
       "    <tr>\n",
       "      <th>17</th>\n",
       "      <td>77856</td>\n",
       "      <td>/m/0kcn7</td>\n",
       "      <td>Mary Poppins</td>\n",
       "      <td>1964-08-27</td>\n",
       "      <td>102272727.0</td>\n",
       "      <td>139.0</td>\n",
       "      <td>English Language</td>\n",
       "      <td>United States of America</td>\n",
       "      <td>Children's/Family, Musical, Fantasy, Comedy, D...</td>\n",
       "      <td>1964</td>\n",
       "    </tr>\n",
       "    <tr>\n",
       "      <th>21</th>\n",
       "      <td>612710</td>\n",
       "      <td>/m/02wjqm</td>\n",
       "      <td>New Rose Hotel</td>\n",
       "      <td>1999-10-01</td>\n",
       "      <td>21521.0</td>\n",
       "      <td>92.0</td>\n",
       "      <td>English Language</td>\n",
       "      <td>United States of America</td>\n",
       "      <td>Thriller, Science Fiction, Future noir, Indie,...</td>\n",
       "      <td>1999</td>\n",
       "    </tr>\n",
       "    <tr>\n",
       "      <th>...</th>\n",
       "      <td>...</td>\n",
       "      <td>...</td>\n",
       "      <td>...</td>\n",
       "      <td>...</td>\n",
       "      <td>...</td>\n",
       "      <td>...</td>\n",
       "      <td>...</td>\n",
       "      <td>...</td>\n",
       "      <td>...</td>\n",
       "      <td>...</td>\n",
       "    </tr>\n",
       "    <tr>\n",
       "      <th>81695</th>\n",
       "      <td>54540</td>\n",
       "      <td>/m/0f7hw</td>\n",
       "      <td>Coming to America</td>\n",
       "      <td>1988-06-29</td>\n",
       "      <td>288752301.0</td>\n",
       "      <td>117.0</td>\n",
       "      <td>English Language</td>\n",
       "      <td>United States of America</td>\n",
       "      <td>Romantic comedy, Comedy of manners, Drama, Com...</td>\n",
       "      <td>1988</td>\n",
       "    </tr>\n",
       "    <tr>\n",
       "      <th>81720</th>\n",
       "      <td>7761830</td>\n",
       "      <td>/m/0kvgqb</td>\n",
       "      <td>Spaced Invaders</td>\n",
       "      <td>1990</td>\n",
       "      <td>15369573.0</td>\n",
       "      <td>100.0</td>\n",
       "      <td>English Language</td>\n",
       "      <td>United States of America</td>\n",
       "      <td>Alien Film, Science Fiction, Family Film, Come...</td>\n",
       "      <td>1990</td>\n",
       "    </tr>\n",
       "    <tr>\n",
       "      <th>81725</th>\n",
       "      <td>1918494</td>\n",
       "      <td>/m/0660qx</td>\n",
       "      <td>State and Main</td>\n",
       "      <td>2000-08-26</td>\n",
       "      <td>6944471.0</td>\n",
       "      <td>106.0</td>\n",
       "      <td>Italian Language, English Language</td>\n",
       "      <td>France, United States of America</td>\n",
       "      <td>Parody, Americana, Comedy</td>\n",
       "      <td>2000</td>\n",
       "    </tr>\n",
       "    <tr>\n",
       "      <th>81726</th>\n",
       "      <td>664006</td>\n",
       "      <td>/m/030xw6</td>\n",
       "      <td>Guilty as Sin</td>\n",
       "      <td>1993-06-04</td>\n",
       "      <td>22886222.0</td>\n",
       "      <td>107.0</td>\n",
       "      <td></td>\n",
       "      <td>United States of America</td>\n",
       "      <td>Thriller, Erotic thriller, Psychological thril...</td>\n",
       "      <td>1993</td>\n",
       "    </tr>\n",
       "    <tr>\n",
       "      <th>81732</th>\n",
       "      <td>26482675</td>\n",
       "      <td>/m/0bbwngb</td>\n",
       "      <td>Eşrefpaşalılar</td>\n",
       "      <td>2010-03-05</td>\n",
       "      <td>1847671.0</td>\n",
       "      <td>NaN</td>\n",
       "      <td></td>\n",
       "      <td></td>\n",
       "      <td>Comedy film, Drama</td>\n",
       "      <td>2010</td>\n",
       "    </tr>\n",
       "  </tbody>\n",
       "</table>\n",
       "<p>8401 rows × 10 columns</p>\n",
       "</div>"
      ],
      "text/plain": [
       "       Wikipedia Movie ID Freebase Movie ID                Movie name  \\\n",
       "0                  975900         /m/03vyhn            Ghosts of Mars   \n",
       "7                10408933        /m/02qc0j7  Alexander's Ragtime Band   \n",
       "13                 171005         /m/016ywb                   Henry V   \n",
       "17                  77856          /m/0kcn7              Mary Poppins   \n",
       "21                 612710         /m/02wjqm            New Rose Hotel   \n",
       "...                   ...               ...                       ...   \n",
       "81695               54540          /m/0f7hw         Coming to America   \n",
       "81720             7761830         /m/0kvgqb           Spaced Invaders   \n",
       "81725             1918494         /m/0660qx            State and Main   \n",
       "81726              664006         /m/030xw6             Guilty as Sin   \n",
       "81732            26482675        /m/0bbwngb            Eşrefpaşalılar   \n",
       "\n",
       "      Movie release date  Movie box office revenue  Movie runtime  \\\n",
       "0             2001-08-24                14010832.0           98.0   \n",
       "7             1938-08-16                 3600000.0          106.0   \n",
       "13            1989-11-08                10161099.0          137.0   \n",
       "17            1964-08-27               102272727.0          139.0   \n",
       "21            1999-10-01                   21521.0           92.0   \n",
       "...                  ...                       ...            ...   \n",
       "81695         1988-06-29               288752301.0          117.0   \n",
       "81720               1990                15369573.0          100.0   \n",
       "81725         2000-08-26                 6944471.0          106.0   \n",
       "81726         1993-06-04                22886222.0          107.0   \n",
       "81732         2010-03-05                 1847671.0            NaN   \n",
       "\n",
       "                          Movie languages                   Movie countries  \\\n",
       "0                        English Language          United States of America   \n",
       "7                        English Language          United States of America   \n",
       "13                       English Language                    United Kingdom   \n",
       "17                       English Language          United States of America   \n",
       "21                       English Language          United States of America   \n",
       "...                                   ...                               ...   \n",
       "81695                    English Language          United States of America   \n",
       "81720                    English Language          United States of America   \n",
       "81725  Italian Language, English Language  France, United States of America   \n",
       "81726                                              United States of America   \n",
       "81732                                                                         \n",
       "\n",
       "                                            Movie genres  Movie release year  \n",
       "0      Thriller, Science Fiction, Horror, Adventure, ...                2001  \n",
       "7                       Musical, Comedy, Black-and-white                1938  \n",
       "13     Costume drama, War film, Epic, Period piece, D...                1989  \n",
       "17     Children's/Family, Musical, Fantasy, Comedy, D...                1964  \n",
       "21     Thriller, Science Fiction, Future noir, Indie,...                1999  \n",
       "...                                                  ...                 ...  \n",
       "81695  Romantic comedy, Comedy of manners, Drama, Com...                1988  \n",
       "81720  Alien Film, Science Fiction, Family Film, Come...                1990  \n",
       "81725                          Parody, Americana, Comedy                2000  \n",
       "81726  Thriller, Erotic thriller, Psychological thril...                1993  \n",
       "81732                                 Comedy film, Drama                2010  \n",
       "\n",
       "[8401 rows x 10 columns]"
      ]
     },
     "execution_count": 110,
     "metadata": {},
     "output_type": "execute_result"
    }
   ],
   "source": [
    "box_office_revenue_filtered"
   ]
  },
  {
   "cell_type": "markdown",
   "metadata": {},
   "source": [
    "**Movie genres**"
   ]
  },
  {
   "cell_type": "code",
   "execution_count": 111,
   "metadata": {},
   "outputs": [
    {
     "name": "stdout",
     "output_type": "stream",
     "text": [
      "Number of Movies per Genre:\n"
     ]
    },
    {
     "data": {
      "text/html": [
       "<div>\n",
       "<style scoped>\n",
       "    .dataframe tbody tr th:only-of-type {\n",
       "        vertical-align: middle;\n",
       "    }\n",
       "\n",
       "    .dataframe tbody tr th {\n",
       "        vertical-align: top;\n",
       "    }\n",
       "\n",
       "    .dataframe thead th {\n",
       "        text-align: right;\n",
       "    }\n",
       "</style>\n",
       "<table border=\"1\" class=\"dataframe\">\n",
       "  <thead>\n",
       "    <tr style=\"text-align: right;\">\n",
       "      <th></th>\n",
       "      <th>count</th>\n",
       "    </tr>\n",
       "    <tr>\n",
       "      <th>Movie genres</th>\n",
       "      <th></th>\n",
       "    </tr>\n",
       "  </thead>\n",
       "  <tbody>\n",
       "    <tr>\n",
       "      <th>Drama</th>\n",
       "      <td>34007</td>\n",
       "    </tr>\n",
       "    <tr>\n",
       "      <th>Comedy</th>\n",
       "      <td>16349</td>\n",
       "    </tr>\n",
       "    <tr>\n",
       "      <th>Romance Film</th>\n",
       "      <td>10234</td>\n",
       "    </tr>\n",
       "    <tr>\n",
       "      <th>Black-and-white</th>\n",
       "      <td>9094</td>\n",
       "    </tr>\n",
       "    <tr>\n",
       "      <th>Action</th>\n",
       "      <td>8798</td>\n",
       "    </tr>\n",
       "    <tr>\n",
       "      <th>...</th>\n",
       "      <td>...</td>\n",
       "    </tr>\n",
       "    <tr>\n",
       "      <th>Romantic thriller</th>\n",
       "      <td>1</td>\n",
       "    </tr>\n",
       "    <tr>\n",
       "      <th>Comdedy</th>\n",
       "      <td>1</td>\n",
       "    </tr>\n",
       "    <tr>\n",
       "      <th>C-Movie</th>\n",
       "      <td>1</td>\n",
       "    </tr>\n",
       "    <tr>\n",
       "      <th>Silhouette animation</th>\n",
       "      <td>1</td>\n",
       "    </tr>\n",
       "    <tr>\n",
       "      <th>Homoeroticism</th>\n",
       "      <td>1</td>\n",
       "    </tr>\n",
       "  </tbody>\n",
       "</table>\n",
       "<p>364 rows × 1 columns</p>\n",
       "</div>"
      ],
      "text/plain": [
       "                      count\n",
       "Movie genres               \n",
       "Drama                 34007\n",
       "Comedy                16349\n",
       "Romance Film          10234\n",
       "Black-and-white        9094\n",
       "Action                 8798\n",
       "...                     ...\n",
       "Romantic thriller         1\n",
       "Comdedy                   1\n",
       "C-Movie                   1\n",
       "Silhouette animation      1\n",
       "Homoeroticism             1\n",
       "\n",
       "[364 rows x 1 columns]"
      ]
     },
     "execution_count": 111,
     "metadata": {},
     "output_type": "execute_result"
    }
   ],
   "source": [
    "# Count the number of movies per genre\n",
    "genre_counts = pd.DataFrame(movie_metadata_df[\"Movie genres\"].str.split(\", \").explode().value_counts())\n",
    "\n",
    "print(\"Number of Movies per Genre:\")\n",
    "genre_counts"
   ]
  },
  {
   "cell_type": "code",
   "execution_count": 112,
   "metadata": {},
   "outputs": [
    {
     "data": {
      "text/html": [
       "<div>\n",
       "<style scoped>\n",
       "    .dataframe tbody tr th:only-of-type {\n",
       "        vertical-align: middle;\n",
       "    }\n",
       "\n",
       "    .dataframe tbody tr th {\n",
       "        vertical-align: top;\n",
       "    }\n",
       "\n",
       "    .dataframe thead th {\n",
       "        text-align: right;\n",
       "    }\n",
       "</style>\n",
       "<table border=\"1\" class=\"dataframe\">\n",
       "  <thead>\n",
       "    <tr style=\"text-align: right;\">\n",
       "      <th></th>\n",
       "      <th>count</th>\n",
       "    </tr>\n",
       "  </thead>\n",
       "  <tbody>\n",
       "    <tr>\n",
       "      <th>count</th>\n",
       "      <td>364.000000</td>\n",
       "    </tr>\n",
       "    <tr>\n",
       "      <th>mean</th>\n",
       "      <td>674.788462</td>\n",
       "    </tr>\n",
       "    <tr>\n",
       "      <th>std</th>\n",
       "      <td>2422.971760</td>\n",
       "    </tr>\n",
       "    <tr>\n",
       "      <th>min</th>\n",
       "      <td>1.000000</td>\n",
       "    </tr>\n",
       "    <tr>\n",
       "      <th>25%</th>\n",
       "      <td>13.000000</td>\n",
       "    </tr>\n",
       "    <tr>\n",
       "      <th>50%</th>\n",
       "      <td>65.500000</td>\n",
       "    </tr>\n",
       "    <tr>\n",
       "      <th>75%</th>\n",
       "      <td>287.000000</td>\n",
       "    </tr>\n",
       "    <tr>\n",
       "      <th>max</th>\n",
       "      <td>34007.000000</td>\n",
       "    </tr>\n",
       "  </tbody>\n",
       "</table>\n",
       "</div>"
      ],
      "text/plain": [
       "              count\n",
       "count    364.000000\n",
       "mean     674.788462\n",
       "std     2422.971760\n",
       "min        1.000000\n",
       "25%       13.000000\n",
       "50%       65.500000\n",
       "75%      287.000000\n",
       "max    34007.000000"
      ]
     },
     "execution_count": 112,
     "metadata": {},
     "output_type": "execute_result"
    }
   ],
   "source": [
    "genre_counts.describe()"
   ]
  },
  {
   "cell_type": "code",
   "execution_count": null,
   "metadata": {},
   "outputs": [],
   "source": []
  }
 ],
 "metadata": {
  "kernelspec": {
   "display_name": "byggemandbob",
   "language": "python",
   "name": "python3"
  },
  "language_info": {
   "codemirror_mode": {
    "name": "ipython",
    "version": 3
   },
   "file_extension": ".py",
   "mimetype": "text/x-python",
   "name": "python",
   "nbconvert_exporter": "python",
   "pygments_lexer": "ipython3",
   "version": "3.9.18"
  }
 },
 "nbformat": 4,
 "nbformat_minor": 2
}
