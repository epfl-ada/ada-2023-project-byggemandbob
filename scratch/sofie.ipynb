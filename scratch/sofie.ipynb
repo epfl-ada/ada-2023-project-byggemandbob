{
 "cells": [
  {
   "cell_type": "code",
   "execution_count": null,
   "metadata": {
    "collapsed": false
   },
   "outputs": [],
   "source": [
    "import pandas as pd\n",
    "import numpy as np\n",
    "import matplotlib.pyplot as plt\n",
    "from scipy import stats\n",
    "import seaborn as sns"
   ]
  },
  {
   "cell_type": "code",
   "execution_count": null,
   "metadata": {
    "collapsed": false
   },
   "outputs": [],
   "source": [
    "# Load datasets\n",
    "headers_character_metadata = ['Wikipedia Movie ID', 'Freebase Movie ID','Movie release date', 'Character name', 'Actor DOB', \n",
    "                              'Actor gender', 'Actor height', 'Actor ethnicity', 'Actor name',\n",
    "                              'Actor age at movie release', 'Freebase character map', 'what1', 'what2']\n",
    "character_metadata = pd.read_csv('../data/character.metadata.tsv', sep='\\t', names=headers_character_metadata)\n",
    "\n",
    "headers_movie_metadata = [\"Wikipedia Movie ID\", \"Freebase Movie ID\", \"Movie name\", \"Movie release date\",\n",
    "                          \"Movie box office revenue\", \"Movie runtime\", \"Movie languages\", \"Movie countries\",\n",
    "                          \"Movie genres\"]\n",
    "movie_metadata = pd.read_csv('../data/movie.metadata.tsv', sep='\\t', names=headers_movie_metadata)\n",
    "\n",
    "# Display datasets for inspection\n",
    "character_metadata.head()"
   ]
  },
  {
   "cell_type": "code",
   "execution_count": null,
   "metadata": {
    "collapsed": false
   },
   "outputs": [],
   "source": [
    "# Add a column of release year to get consistensy\n",
    "character_metadata['Movie release year'] = character_metadata['Movie release date'].str.split('-').str[0].astype('Int64')\n",
    "movie_metadata['Movie release year'] = movie_metadata['Movie release date'].str.split('-').str[0].astype('Int64')\n",
    "\n",
    "# Add a column of birth year to get consistensy\n",
    "character_metadata['Actor birth year'] = character_metadata['Actor DOB'].str.split('-').str[0].astype('Int64')\n"
   ]
  },
  {
   "cell_type": "markdown",
   "metadata": {
    "collapsed": false
   },
   "source": [
    "# Remove outliers"
   ]
  },
  {
   "cell_type": "markdown",
   "metadata": {
    "collapsed": false
   },
   "source": [
    "## Birth year"
   ]
  },
  {
   "cell_type": "code",
   "execution_count": null,
   "metadata": {
    "collapsed": false
   },
   "outputs": [],
   "source": [
    "years = character_metadata['Actor birth year'].unique()\n",
    "np.sort(years.fillna(0))"
   ]
  },
  {
   "cell_type": "code",
   "execution_count": null,
   "metadata": {
    "collapsed": false
   },
   "outputs": [],
   "source": [
    "# Define the condition to identify rows where 'Actor birth year' needs to be set to NaN\n",
    "condition = (character_metadata['Actor birth year'] < 1800) | (character_metadata['Actor birth year'] > 2030)\n",
    "\n",
    "# Use .loc to set the 'Actor birth year' to NaN for the selected rows\n",
    "character_metadata.loc[condition, 'Actor birth year'] = np.nan"
   ]
  },
  {
   "cell_type": "markdown",
   "metadata": {
    "collapsed": false
   },
   "source": [
    "## Movie release year"
   ]
  },
  {
   "cell_type": "code",
   "execution_count": null,
   "metadata": {
    "collapsed": false
   },
   "outputs": [],
   "source": [
    "# See years\n",
    "years = character_metadata['Movie release year'].unique()\n",
    "np.sort(years.fillna(0))"
   ]
  },
  {
   "cell_type": "code",
   "execution_count": null,
   "metadata": {
    "collapsed": false
   },
   "outputs": [],
   "source": [
    "# The movie with with year '1010' was made in 2010\n",
    "# Replace 1010 with 2010\n",
    "character_metadata[character_metadata['Movie release year'] == 1010] = 2010\n",
    "movie_metadata[movie_metadata['Movie release year'] == 1010] = 2010"
   ]
  },
  {
   "cell_type": "markdown",
   "metadata": {
    "collapsed": false
   },
   "source": [
    "## Height"
   ]
  },
  {
   "cell_type": "code",
   "execution_count": null,
   "metadata": {
    "collapsed": false
   },
   "outputs": [],
   "source": [
    "# Replace 'character_metadata' with your actual DataFrame name and 'Actor height' with the actual column name if needed\n",
    "height = character_metadata['Actor height'].unique()\n",
    "\n",
    "# Sort the unique height values in ascending order and round them to 2 decimal places\n",
    "sorted_height = np.sort(np.round(height, 2))\n",
    "\n",
    "# Find the 5 minimum and 5 maximum values\n",
    "min_values = sorted_height[:15]\n",
    "max_values = sorted_height[-15:]\n",
    "\n",
    "print(\"5 Minimum Values of Actor Height:\")\n",
    "print(min_values)\n",
    "\n",
    "print(\"5 Maximum Values of Actor Height:\")\n",
    "print(max_values)\n"
   ]
  },
  {
   "cell_type": "code",
   "execution_count": null,
   "metadata": {
    "collapsed": false
   },
   "outputs": [],
   "source": [
    "# Define the condition to identify rows where height needs to be set to NaN\n",
    "condition = (character_metadata['Actor height'] > 2.4)\n",
    "character_metadata.loc[condition, 'Actor height'] = np.nan\n",
    "\n",
    "# The small values are kids - maybe they should be removed ??"
   ]
  },
  {
   "cell_type": "markdown",
   "metadata": {
    "collapsed": false
   },
   "source": [
    "# Age"
   ]
  },
  {
   "cell_type": "code",
   "execution_count": null,
   "metadata": {
    "collapsed": false
   },
   "outputs": [],
   "source": [
    "age = character_metadata['Actor age at movie release'].unique()\n",
    "\n",
    "# Sort the unique height values in ascending order and round them to 2 decimal places\n",
    "sorted_age = np.sort(np.round(age, 2))\n",
    "\n",
    "# Find the 5 minimum and 5 maximum values\n",
    "min_values = sorted_age[:20]\n",
    "max_values = sorted_age[-20:]\n",
    "\n",
    "print(\"5 Minimum Values of Actor age:\")\n",
    "print(min_values)\n",
    "\n",
    "print(\"5 Maximum Values of Actor age:\")\n",
    "print(max_values)"
   ]
  },
  {
   "cell_type": "code",
   "execution_count": null,
   "metadata": {
    "collapsed": false
   },
   "outputs": [],
   "source": [
    "# Define the condition to identify rows where age needs to be set to NaN\n",
    "condition = (character_metadata['Actor age at movie release'] < 0) | (character_metadata['Actor age at movie release'] > 110)\n",
    "character_metadata.loc[condition, 'Actor age at movie release'] = np.nan"
   ]
  },
  {
   "cell_type": "markdown",
   "metadata": {
    "collapsed": false
   },
   "source": [
    "# Check dtypes and cnvert certain objects to floats for analysis"
   ]
  },
  {
   "cell_type": "code",
   "execution_count": null,
   "metadata": {
    "collapsed": false
   },
   "outputs": [],
   "source": [
    "character_metadata.dtypes"
   ]
  },
  {
   "cell_type": "code",
   "execution_count": null,
   "metadata": {
    "collapsed": false
   },
   "outputs": [],
   "source": [
    "character_metadata['Movie release year'] = pd.to_numeric(character_metadata['Movie release year'], errors='coerce').astype(float)\n",
    "character_metadata['Actor age at movie release'] = pd.to_numeric(character_metadata['Actor age at movie release'], errors='coerce').astype(float)"
   ]
  },
  {
   "cell_type": "markdown",
   "metadata": {
    "collapsed": false
   },
   "source": [
    "# NaNs\n",
    "\n",
    "Let's look at the amount of missing values in out data. For each attribute, the percentage of NaN's is calculated:"
   ]
  },
  {
   "cell_type": "code",
   "execution_count": null,
   "metadata": {
    "collapsed": false
   },
   "outputs": [],
   "source": [
    "# Percentage of missing datapoints for each column in both data set\n",
    "print('Percentage of NaNs for character dataset')\n",
    "print(character_metadata.isna().mean() * 100)\n",
    "print('\\n')\n",
    "print('Percentage of NaNs for movie dataset')\n",
    "print(movie_metadata.isna().mean() * 100)"
   ]
  },
  {
   "cell_type": "code",
   "execution_count": null,
   "metadata": {
    "collapsed": false
   },
   "outputs": [],
   "source": [
    "character_nan_percentages = character_metadata.isna().mean() * 100\n",
    "movie_nan_percentages = movie_metadata.isna().mean() * 100\n",
    "\n",
    "# Create a bar plot\n",
    "fig, ax = plt.subplots(figsize=(10, 5))\n",
    "\n",
    "# Plot the character dataset NaN percentages\n",
    "ax.bar(character_nan_percentages.index, character_nan_percentages, label='Character Dataset', alpha=0.5)\n",
    "\n",
    "# Plot the movie dataset NaN percentages\n",
    "ax.bar(movie_nan_percentages.index, movie_nan_percentages, label='Movie Dataset', alpha=0.5)\n",
    "\n",
    "ax.set_ylim(0,100)\n",
    "ax.set_xlabel('Columns')\n",
    "ax.set_ylabel('Percentage of NaN values')\n",
    "ax.set_title('Percentage of NaN Values in Character and Movie Dataset')\n",
    "ax.legend()\n",
    "plt.xticks(rotation=90) # rotate x-axis\n",
    "plt.show()\n"
   ]
  },
  {
   "cell_type": "markdown",
   "metadata": {
    "collapsed": false
   },
   "source": [
    "## Male vs female NaN (not relevant)\n",
    "Difference between male and female data. \n",
    "NOT IMPORTANT"
   ]
  },
  {
   "cell_type": "code",
   "execution_count": null,
   "metadata": {
    "collapsed": false
   },
   "outputs": [],
   "source": [
    "# Divide into female and male dataset\n",
    "female_characters = character_metadata[character_metadata['Actor gender'] == 'F'].copy()\n",
    "male_characters = character_metadata[character_metadata['Actor gender'] == 'M'].copy()\n",
    "\n",
    "print('Percentage of NaNs for female dataset')\n",
    "print(female_characters.isna().mean() * 100)\n",
    "print('\\n')\n",
    "print('Percentage of NaNs for male dataset')\n",
    "print(male_characters.isna().mean() * 100)"
   ]
  },
  {
   "cell_type": "code",
   "execution_count": null,
   "metadata": {
    "collapsed": false
   },
   "outputs": [],
   "source": [
    "female_nan_percentages = female_characters.isna().mean() * 100\n",
    "male_nan_percentages = male_characters.isna().mean() * 100\n",
    "\n",
    "# Find the common attributes\n",
    "common_attributes = female_nan_percentages.index.intersection(male_nan_percentages.index)\n",
    "\n",
    "# Create a bar plot with grouped bars for the common attributes\n",
    "width = 0.35  # Width of the bars\n",
    "\n",
    "fig, ax = plt.subplots(figsize=(12, 5))\n",
    "\n",
    "# Calculate the x-axis positions for bars\n",
    "x = np.arange(len(common_attributes))\n",
    "\n",
    "# Plot the percentage of NaN values for the female dataset\n",
    "ax.bar(x - width/2, female_nan_percentages[common_attributes], width, label='Female Dataset', color='red')\n",
    "# Plot the percentage of NaN values for the male dataset\n",
    "ax.bar(x + width/2, male_nan_percentages[common_attributes], width, label='Male Dataset', color='blue')\n",
    "\n",
    "# Set x-axis labels and title\n",
    "ax.set_xlabel('Attributes')\n",
    "ax.set_ylabel('Percentage of NaN values')\n",
    "ax.set_title('Percentage of NaN Values in Female and Male Character Datasets (Common Attributes)')\n",
    "\n",
    "# Set x-axis labels to be attribute names\n",
    "ax.set_xticks(x)\n",
    "ax.set_xticklabels(common_attributes, rotation=90)\n",
    "ax.legend()\n",
    "plt.show()\n"
   ]
  },
  {
   "cell_type": "markdown",
   "metadata": {
    "collapsed": false
   },
   "source": [
    "## Remove NaNs\n",
    "\n",
    "Here we could remove coloumns containing % NaNs above a threshold:"
   ]
  },
  {
   "cell_type": "code",
   "execution_count": null,
   "metadata": {
    "collapsed": false
   },
   "outputs": [],
   "source": [
    "# Define a threshold (e.g., 70%) for removing columns\n",
    "threshold = 70\n",
    "\n",
    "# Filter columns where NaN percentage is less than or equal to the threshold\n",
    "filtered_female_columns = female_characters.columns[female_characters.isna().mean() * 100 <= threshold]\n",
    "filtered_male_colums = male_characters.columns[male_characters.isna().mean() * 100 <= threshold]\n",
    "\n",
    "# Create a new DataFrame with only the filtered columns\n",
    "filtered_female_character = female_characters[filtered_female_columns].copy()\n",
    "filtered_male_character = male_characters[filtered_male_colums].copy()\n",
    "\n",
    "print('Percentage of NaNs for filtered female dataset')\n",
    "print(filtered_female_character.isna().mean() * 100)\n",
    "print('\\n')\n",
    "print('Percentage of NaNs for filtered male dataset')\n",
    "print(filtered_male_character.isna().mean() * 100)"
   ]
  },
  {
   "cell_type": "markdown",
   "metadata": {
    "collapsed": false
   },
   "source": [
    "# Male vs female actors in movies over time"
   ]
  },
  {
   "cell_type": "code",
   "execution_count": null,
   "metadata": {
    "collapsed": false
   },
   "outputs": [],
   "source": [
    "female_count = female_characters.groupby('Wikipedia Movie ID').size()\n",
    "male_count = male_characters.groupby('Wikipedia Movie ID').size()\n",
    "\n",
    "# Ensure that all Wikipedia Movie IDs in 'female_count' are represented in 'male_count'\n",
    "# Fill missing values with 0\n",
    "male_count = male_count.reindex(female_count.index, fill_value=0)\n",
    "\n",
    "# Calculate the percentage of female characters\n",
    "percentage_female = (female_count / (female_count + male_count)) * 100\n",
    "\n",
    "# Reset the index to have 'Wikipedia Movie ID' as a column\n",
    "percentage_female = percentage_female.reset_index()\n",
    "\n",
    "# Rename the columns for clarity\n",
    "percentage_female.columns = ['Wikipedia Movie ID', 'Percentage Female Characters']\n"
   ]
  },
  {
   "cell_type": "code",
   "execution_count": null,
   "metadata": {
    "collapsed": false
   },
   "outputs": [],
   "source": [
    "# Merge dataframes\n",
    "percentage_female_with_year = pd.merge(percentage_female, movie_metadata, on='Wikipedia Movie ID', how='left')\n",
    "\n",
    "# Calculate female percentage pr. year\n",
    "percentage_female_per_year = percentage_female_with_year.groupby('Movie release year')['Percentage Female Characters'].mean()\n",
    "percentage_female_per_year.columns = ['Movie release year', 'Percentage Female Characters']\n",
    "\n",
    "plt.plot(percentage_female_per_year.index, percentage_female_per_year)\n",
    "plt.title('Percentage of female actors in movies over time')\n",
    "plt.ylabel('Female actor percentage [%]')\n",
    "plt.xlabel('Year')"
   ]
  },
  {
   "cell_type": "code",
   "execution_count": null,
   "metadata": {
    "collapsed": false
   },
   "outputs": [],
   "source": [
    "percentage_female_with_year_nona = percentage_female_with_year[['Movie box office revenue', 'Percentage Female Characters']].dropna()"
   ]
  },
  {
   "cell_type": "code",
   "execution_count": null,
   "metadata": {
    "collapsed": false
   },
   "outputs": [],
   "source": [
    "import statsmodels.api as sm\n",
    "\n",
    "percentage_female_with_year_nooutlier = percentage_female_with_year_nona[percentage_female_with_year_nona[\"Movie box office revenue\"] < 1.3e+09]\n",
    "\n",
    "# Create a scatterplot with a regression line\n",
    "#sns.set(style=\"darkgrid\")\n",
    "sns.lmplot(x=\"Percentage Female Characters\", y=\"Movie box office revenue\", data=percentage_female_with_year_nooutlier)\n",
    "\n",
    "# Perform linear regression\n",
    "X = percentage_female_with_year_nooutlier[\"Percentage Female Characters\"]\n",
    "X = sm.add_constant(X)  # Add an intercept term\n",
    "y = percentage_female_with_year_nooutlier[\"Movie box office revenue\"]\n",
    "\n",
    "model = sm.OLS(y, X).fit()\n",
    "\n",
    "# Print the regression summary\n",
    "print(model.summary())\n",
    "\n",
    "# Show the plot\n",
    "plt.show()\n"
   ]
  },
  {
   "cell_type": "markdown",
   "metadata": {
    "collapsed": false
   },
   "source": [
    "# Number of movies over time\n",
    "\n",
    "There is a lot of newer movies"
   ]
  },
  {
   "cell_type": "code",
   "execution_count": null,
   "metadata": {
    "collapsed": false
   },
   "outputs": [],
   "source": [
    "# Calculate number of movies over time\n",
    "no_movies = movie_metadata.groupby('Movie release year').size()\n",
    "plt.plot(no_movies)\n",
    "plt.show()"
   ]
  },
  {
   "cell_type": "markdown",
   "metadata": {
    "collapsed": false
   },
   "source": [
    "# Distribution of variables"
   ]
  },
  {
   "cell_type": "code",
   "execution_count": null,
   "metadata": {
    "collapsed": false
   },
   "outputs": [],
   "source": [
    "import matplotlib.pyplot as plt\n",
    "\n",
    "# Variables of interest\n",
    "variables = ['Movie release year', 'Actor birth year', 'Actor height', 'Actor age at movie release']\n",
    "\n",
    "# Extract the specific columns from the female_characters and male_characters datasets\n",
    "female_data = [female_characters[var].dropna() for var in variables]\n",
    "male_data = [male_characters[var].dropna() for var in variables]\n",
    "\n",
    "# Create a figure with three subplots\n",
    "fig, axes = plt.subplots(1, 4, figsize=(15, 5))\n",
    "\n",
    "# Create box plots for each variable in each subplot\n",
    "for i, variable in enumerate(variables):\n",
    "    ax = axes[i]\n",
    "    \n",
    "    # Create the box plots for female and male characters for the current variable\n",
    "    width = 0.35  # Width of the boxes\n",
    "    \n",
    "    positions = [1, 2]\n",
    "    boxprops = dict(linewidth=2, color='black')\n",
    "    medianprops = dict(linewidth=2, color='black')\n",
    "    capprops = dict(color='black')\n",
    "    \n",
    "    # Set custom colors for the female and male box plots\n",
    "    box_colors = ['red', 'blue']\n",
    "    \n",
    "    bp_female = ax.boxplot([female_data[i]], positions=[positions[0]], widths=width, patch_artist=True,\n",
    "                           boxprops=boxprops, medianprops=medianprops, capprops=capprops)\n",
    "    bp_male = ax.boxplot([male_data[i]], positions=[positions[1]], widths=width, patch_artist=True,\n",
    "                         boxprops=boxprops, medianprops=medianprops, capprops=capprops)\n",
    "    \n",
    "    # Set colors for female and male box plots\n",
    "    for box, color in zip([bp_female, bp_male], box_colors):\n",
    "        for element in ['boxes', 'medians', 'caps']:\n",
    "            plt.setp(box[element], color=color)\n",
    "    \n",
    "    ax.set_ylabel('Values')\n",
    "    ax.set_title(variable)\n",
    "    ax.set_xticks(positions)\n",
    "    ax.set_xticklabels(['Female', 'Male'])\n",
    "\n",
    "# Adjust the layout to prevent overlapping\n",
    "plt.tight_layout()\n",
    "\n",
    "# Show the subplots\n",
    "plt.show()\n"
   ]
  },
  {
   "cell_type": "code",
   "execution_count": null,
   "metadata": {
    "collapsed": false
   },
   "outputs": [],
   "source": [
    "# Variables of interest\n",
    "variables = ['Movie release year', 'Actor birth year', 'Actor height', 'Actor age at movie release']\n",
    "\n",
    "# Create a figure with four subplots (one for each variable)\n",
    "fig, axes = plt.subplots(1, 4, figsize=(15, 5))\n",
    "\n",
    "# Create histograms for each variable in each subplot\n",
    "for i, variable in enumerate(variables):\n",
    "    ax = axes[i]\n",
    "\n",
    "    # Create histograms for female and male characters for the current variable\n",
    "    female_data = female_characters[variable].dropna()\n",
    "    male_data = male_characters[variable].dropna()\n",
    "\n",
    "    ax.hist(female_data, bins=20, alpha=0.5, color='red', label='Female')\n",
    "    ax.hist(male_data, bins=20, alpha=0.5, color='blue', label='Male')\n",
    "\n",
    "    ax.set_xlabel(variable)\n",
    "    ax.set_ylabel('Frequency')\n",
    "    ax.set_title(variable)\n",
    "    ax.legend()\n",
    "\n",
    "# Adjust the layout to prevent overlapping\n",
    "plt.tight_layout()\n",
    "\n",
    "# Show the subplots\n",
    "plt.show()\n"
   ]
  },
  {
   "cell_type": "code",
   "execution_count": null,
   "metadata": {
    "collapsed": false
   },
   "outputs": [],
   "source": [
    "# Age\n",
    "stats.ttest_ind(female_characters['Actor age at movie release'].dropna(), male_characters['Actor age at movie release'].dropna(), nan_policy='omit')"
   ]
  },
  {
   "cell_type": "code",
   "execution_count": null,
   "metadata": {
    "collapsed": false
   },
   "outputs": [],
   "source": [
    "# Movie release year\n",
    "female_birth_year = pd.to_numeric(female_characters['Actor birth year'], errors='coerce').astype('float64')\n",
    "male_birth_year = pd.to_numeric(male_characters['Actor birth year'], errors='coerce').astype('float64')\n",
    "\n",
    "stats.ttest_ind(female_birth_year.dropna(), male_birth_year.dropna())"
   ]
  },
  {
   "cell_type": "code",
   "execution_count": null,
   "metadata": {
    "collapsed": false
   },
   "outputs": [],
   "source": [
    "# Movie release year\n",
    "female_movie_release_years = pd.to_numeric(female_characters['Movie release year'], errors='coerce').astype('float64')\n",
    "male_movie_release_years = pd.to_numeric(male_characters['Movie release year'], errors='coerce').astype('float64')\n",
    "\n",
    "stats.ttest_ind(female_characters['Movie release year'].dropna(), male_characters['Movie release year'].dropna())"
   ]
  },
  {
   "cell_type": "code",
   "execution_count": null,
   "metadata": {
    "collapsed": false
   },
   "outputs": [],
   "source": [
    "# Remove nans from relevant columns\n",
    "character_metadata_nona = character_metadata[['Movie release year', 'Actor age at movie release', 'Actor gender']].dropna()\n",
    "\n",
    "sns.lineplot(x='Movie release year', y='Actor age at movie release', data=character_metadata_nona, hue=\"Actor gender\", err_style=\"band\")\n",
    "\n",
    "plt.title('Average age for actors at the movie release date')\n",
    "plt.xlabel('Year')\n",
    "plt.ylabel('Age')\n",
    "plt.tight_layout()\n",
    "plt.show()\n"
   ]
  }
 ],
 "metadata": {
  "language_info": {
   "name": "python"
  }
 },
 "nbformat": 4,
 "nbformat_minor": 2
}
