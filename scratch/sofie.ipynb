{
 "cells": [
  {
   "cell_type": "code",
   "execution_count": 22,
   "metadata": {},
   "outputs": [],
   "source": [
    "import pandas as pd\n",
    "import numpy as np\n",
    "import matplotlib.pyplot as plt"
   ]
  },
  {
   "cell_type": "code",
   "execution_count": 23,
   "metadata": {},
   "outputs": [
    {
     "data": {
      "text/html": [
       "<div>\n",
       "<style scoped>\n",
       "    .dataframe tbody tr th:only-of-type {\n",
       "        vertical-align: middle;\n",
       "    }\n",
       "\n",
       "    .dataframe tbody tr th {\n",
       "        vertical-align: top;\n",
       "    }\n",
       "\n",
       "    .dataframe thead th {\n",
       "        text-align: right;\n",
       "    }\n",
       "</style>\n",
       "<table border=\"1\" class=\"dataframe\">\n",
       "  <thead>\n",
       "    <tr style=\"text-align: right;\">\n",
       "      <th></th>\n",
       "      <th>Wikipedia Movie ID</th>\n",
       "      <th>Freebase Movie ID</th>\n",
       "      <th>Movie release date</th>\n",
       "      <th>Character name</th>\n",
       "      <th>Actor DOB</th>\n",
       "      <th>Actor gender</th>\n",
       "      <th>Actor height</th>\n",
       "      <th>Actor ethnicity</th>\n",
       "      <th>Actor name</th>\n",
       "      <th>Actor age a movie release</th>\n",
       "      <th>Freebase character map</th>\n",
       "      <th>what1</th>\n",
       "      <th>what2</th>\n",
       "    </tr>\n",
       "  </thead>\n",
       "  <tbody>\n",
       "    <tr>\n",
       "      <th>0</th>\n",
       "      <td>975900</td>\n",
       "      <td>/m/03vyhn</td>\n",
       "      <td>2001-08-24</td>\n",
       "      <td>Akooshay</td>\n",
       "      <td>1958-08-26</td>\n",
       "      <td>F</td>\n",
       "      <td>1.620</td>\n",
       "      <td>NaN</td>\n",
       "      <td>Wanda De Jesus</td>\n",
       "      <td>42.0</td>\n",
       "      <td>/m/0bgchxw</td>\n",
       "      <td>/m/0bgcj3x</td>\n",
       "      <td>/m/03wcfv7</td>\n",
       "    </tr>\n",
       "    <tr>\n",
       "      <th>1</th>\n",
       "      <td>975900</td>\n",
       "      <td>/m/03vyhn</td>\n",
       "      <td>2001-08-24</td>\n",
       "      <td>Lieutenant Melanie Ballard</td>\n",
       "      <td>1974-08-15</td>\n",
       "      <td>F</td>\n",
       "      <td>1.780</td>\n",
       "      <td>/m/044038p</td>\n",
       "      <td>Natasha Henstridge</td>\n",
       "      <td>27.0</td>\n",
       "      <td>/m/0jys3m</td>\n",
       "      <td>/m/0bgchn4</td>\n",
       "      <td>/m/0346l4</td>\n",
       "    </tr>\n",
       "    <tr>\n",
       "      <th>2</th>\n",
       "      <td>975900</td>\n",
       "      <td>/m/03vyhn</td>\n",
       "      <td>2001-08-24</td>\n",
       "      <td>Desolation Williams</td>\n",
       "      <td>1969-06-15</td>\n",
       "      <td>M</td>\n",
       "      <td>1.727</td>\n",
       "      <td>/m/0x67</td>\n",
       "      <td>Ice Cube</td>\n",
       "      <td>32.0</td>\n",
       "      <td>/m/0jys3g</td>\n",
       "      <td>/m/0bgchn_</td>\n",
       "      <td>/m/01vw26l</td>\n",
       "    </tr>\n",
       "    <tr>\n",
       "      <th>3</th>\n",
       "      <td>975900</td>\n",
       "      <td>/m/03vyhn</td>\n",
       "      <td>2001-08-24</td>\n",
       "      <td>Sgt Jericho Butler</td>\n",
       "      <td>1967-09-12</td>\n",
       "      <td>M</td>\n",
       "      <td>1.750</td>\n",
       "      <td>NaN</td>\n",
       "      <td>Jason Statham</td>\n",
       "      <td>33.0</td>\n",
       "      <td>/m/02vchl6</td>\n",
       "      <td>/m/0bgchnq</td>\n",
       "      <td>/m/034hyc</td>\n",
       "    </tr>\n",
       "    <tr>\n",
       "      <th>4</th>\n",
       "      <td>975900</td>\n",
       "      <td>/m/03vyhn</td>\n",
       "      <td>2001-08-24</td>\n",
       "      <td>Bashira Kincaid</td>\n",
       "      <td>1977-09-25</td>\n",
       "      <td>F</td>\n",
       "      <td>1.650</td>\n",
       "      <td>NaN</td>\n",
       "      <td>Clea DuVall</td>\n",
       "      <td>23.0</td>\n",
       "      <td>/m/02vbb3r</td>\n",
       "      <td>/m/0bgchp9</td>\n",
       "      <td>/m/01y9xg</td>\n",
       "    </tr>\n",
       "  </tbody>\n",
       "</table>\n",
       "</div>"
      ],
      "text/plain": [
       "   Wikipedia Movie ID Freebase Movie ID Movie release date  \\\n",
       "0              975900         /m/03vyhn         2001-08-24   \n",
       "1              975900         /m/03vyhn         2001-08-24   \n",
       "2              975900         /m/03vyhn         2001-08-24   \n",
       "3              975900         /m/03vyhn         2001-08-24   \n",
       "4              975900         /m/03vyhn         2001-08-24   \n",
       "\n",
       "               Character name   Actor DOB Actor gender  Actor height  \\\n",
       "0                    Akooshay  1958-08-26            F         1.620   \n",
       "1  Lieutenant Melanie Ballard  1974-08-15            F         1.780   \n",
       "2         Desolation Williams  1969-06-15            M         1.727   \n",
       "3          Sgt Jericho Butler  1967-09-12            M         1.750   \n",
       "4             Bashira Kincaid  1977-09-25            F         1.650   \n",
       "\n",
       "  Actor ethnicity          Actor name  Actor age a movie release  \\\n",
       "0             NaN      Wanda De Jesus                       42.0   \n",
       "1      /m/044038p  Natasha Henstridge                       27.0   \n",
       "2         /m/0x67            Ice Cube                       32.0   \n",
       "3             NaN       Jason Statham                       33.0   \n",
       "4             NaN         Clea DuVall                       23.0   \n",
       "\n",
       "  Freebase character map       what1       what2  \n",
       "0             /m/0bgchxw  /m/0bgcj3x  /m/03wcfv7  \n",
       "1              /m/0jys3m  /m/0bgchn4   /m/0346l4  \n",
       "2              /m/0jys3g  /m/0bgchn_  /m/01vw26l  \n",
       "3             /m/02vchl6  /m/0bgchnq   /m/034hyc  \n",
       "4             /m/02vbb3r  /m/0bgchp9   /m/01y9xg  "
      ]
     },
     "execution_count": 23,
     "metadata": {},
     "output_type": "execute_result"
    }
   ],
   "source": [
    "# Load datasets\n",
    "headers_character_metadata = ['Wikipedia Movie ID', 'Freebase Movie ID','Movie release date', 'Character name', 'Actor DOB', \n",
    "                              'Actor gender', 'Actor height', 'Actor ethnicity', 'Actor name',\n",
    "                              'Actor age a movie release', 'Freebase character map', 'what1', 'what2']\n",
    "character_metadata = pd.read_csv('../data/character.metadata.tsv', sep='\\t', names=headers_character_metadata)\n",
    "\n",
    "headers_movie_metadata = [\"Wikipedia Movie ID\", \"Freebase Movie ID\", \"Movie name\", \"Movie release date\",\n",
    "                          \"Movie box office revenue\", \"Movie runtime\", \"Movie languages\", \"Movie countries\",\n",
    "                          \"Movie genres\"]\n",
    "movie_metadata = pd.read_csv('../data/movie.metadata.tsv', sep='\\t', names=headers_movie_metadata)\n",
    "\n",
    "# Display datasets for inspection\n",
    "character_metadata.head()"
   ]
  },
  {
   "cell_type": "code",
   "execution_count": 24,
   "metadata": {},
   "outputs": [],
   "source": [
    "# Add a column of release year to get consistensy\n",
    "character_metadata['Movie release year'] = character_metadata['Movie release date'].str.split('-').str[0].astype('Int64')\n",
    "movie_metadata['Movie release year'] = movie_metadata['Movie release date'].str.split('-').str[0].astype('Int64')"
   ]
  },
  {
   "cell_type": "code",
   "execution_count": 25,
   "metadata": {},
   "outputs": [
    {
     "data": {
      "text/plain": [
       "array([0, 1010, 1888, 1891, 1893, 1894, 1895, 1896, 1897, 1898, 1899,\n",
       "       1900, 1901, 1902, 1903, 1904, 1905, 1906, 1907, 1908, 1909, 1910,\n",
       "       1911, 1912, 1913, 1914, 1915, 1916, 1917, 1918, 1919, 1920, 1921,\n",
       "       1922, 1923, 1924, 1925, 1926, 1927, 1928, 1929, 1930, 1931, 1932,\n",
       "       1933, 1934, 1935, 1936, 1937, 1938, 1939, 1940, 1941, 1942, 1943,\n",
       "       1944, 1945, 1946, 1947, 1948, 1949, 1950, 1951, 1952, 1953, 1954,\n",
       "       1955, 1956, 1957, 1958, 1959, 1960, 1961, 1962, 1963, 1964, 1965,\n",
       "       1966, 1967, 1968, 1969, 1970, 1971, 1972, 1973, 1974, 1975, 1976,\n",
       "       1977, 1978, 1979, 1980, 1981, 1982, 1983, 1984, 1985, 1986, 1987,\n",
       "       1988, 1989, 1990, 1991, 1992, 1993, 1994, 1995, 1996, 1997, 1998,\n",
       "       1999, 2000, 2001, 2002, 2003, 2004, 2005, 2006, 2007, 2008, 2009,\n",
       "       2010, 2011, 2012, 2013, 2014, 2015, 2016], dtype=object)"
      ]
     },
     "execution_count": 25,
     "metadata": {},
     "output_type": "execute_result"
    }
   ],
   "source": [
    "# See years\n",
    "years = character_metadata['Movie release year'].unique()\n",
    "np.sort(years.fillna(0))"
   ]
  },
  {
   "cell_type": "code",
   "execution_count": 34,
   "metadata": {},
   "outputs": [],
   "source": [
    "# Replace 1010 with 2020\n",
    "character_metadata[character_metadata['Movie release year'] == 1010] = 2010\n",
    "movie_metadata[movie_metadata['Movie release year'] == 1010] = 2010"
   ]
  },
  {
   "cell_type": "code",
   "execution_count": 27,
   "metadata": {},
   "outputs": [
    {
     "name": "stdout",
     "output_type": "stream",
     "text": [
      "Percentage of NaNs for character dataset\n",
      "Wikipedia Movie ID            0.000000\n",
      "Freebase Movie ID             0.000000\n",
      "Movie release date            2.217814\n",
      "Character name               57.220488\n",
      "Actor DOB                    23.550988\n",
      "Actor gender                 10.120288\n",
      "Actor height                 65.642412\n",
      "Actor ethnicity              76.463214\n",
      "Actor name                    0.272484\n",
      "Actor age a movie release    35.080736\n",
      "Freebase character map        0.000000\n",
      "what1                        57.218269\n",
      "what2                         0.180842\n",
      "Movie release year            2.217814\n",
      "dtype: float64\n",
      "\n",
      "\n",
      "Percentage of NaNs for movie dataset\n",
      "Wikipedia Movie ID           0.000000\n",
      "Freebase Movie ID            0.000000\n",
      "Movie name                   0.000000\n",
      "Movie release date           8.443743\n",
      "Movie box office revenue    89.722416\n",
      "Movie runtime               25.018045\n",
      "Movie languages              0.000000\n",
      "Movie countries              0.000000\n",
      "Movie genres                 0.000000\n",
      "Movie release year           8.443743\n",
      "dtype: float64\n"
     ]
    }
   ],
   "source": [
    "# Percentage of missing datapoints for each column in both data set\n",
    "print('Percentage of NaNs for character dataset')\n",
    "print(character_metadata.isna().mean() * 100)\n",
    "print('\\n')\n",
    "print('Percentage of NaNs for movie dataset')\n",
    "print(movie_metadata.isna().mean() * 100)"
   ]
  },
  {
   "cell_type": "code",
   "execution_count": 28,
   "metadata": {},
   "outputs": [
    {
     "name": "stdout",
     "output_type": "stream",
     "text": [
      "Percentage of NaNs for female dataset\n",
      "Wikipedia Movie ID            0.000000\n",
      "Freebase Movie ID             0.000000\n",
      "Movie release date            2.589801\n",
      "Character name               51.193638\n",
      "Actor DOB                    15.917150\n",
      "Actor gender                  0.000000\n",
      "Actor height                 58.074304\n",
      "Actor ethnicity              74.165047\n",
      "Actor name                    0.002226\n",
      "Actor age a movie release    26.374279\n",
      "Freebase character map        0.000000\n",
      "what1                        51.193638\n",
      "what2                         0.000000\n",
      "Movie release year            2.589801\n",
      "dtype: float64\n",
      "\n",
      "\n",
      "Percentage of NaNs for male dataset\n",
      "Wikipedia Movie ID            0.000000\n",
      "Freebase Movie ID             0.000000\n",
      "Movie release date            2.351552\n",
      "Character name               55.723468\n",
      "Actor DOB                    15.234582\n",
      "Actor gender                  0.000000\n",
      "Actor height                 63.682113\n",
      "Actor ethnicity              73.658912\n",
      "Actor name                    0.003330\n",
      "Actor age a movie release    29.130018\n",
      "Freebase character map        0.000000\n",
      "what1                        55.720508\n",
      "what2                         0.000000\n",
      "Movie release year            2.351552\n",
      "dtype: float64\n"
     ]
    }
   ],
   "source": [
    "# Divide into female and male dataset\n",
    "female_characters = character_metadata[character_metadata['Actor gender'] == 'F'].copy()\n",
    "male_characters = character_metadata[character_metadata['Actor gender'] == 'M'].copy()\n",
    "\n",
    "print('Percentage of NaNs for female dataset')\n",
    "print(female_characters.isna().mean() * 100)\n",
    "print('\\n')\n",
    "print('Percentage of NaNs for male dataset')\n",
    "print(male_characters.isna().mean() * 100)"
   ]
  },
  {
   "cell_type": "code",
   "execution_count": 29,
   "metadata": {},
   "outputs": [
    {
     "name": "stdout",
     "output_type": "stream",
     "text": [
      "Percentage of NaNs for filtered female dataset\n",
      "Wikipedia Movie ID            0.000000\n",
      "Freebase Movie ID             0.000000\n",
      "Movie release date            2.589801\n",
      "Character name               51.193638\n",
      "Actor DOB                    15.917150\n",
      "Actor gender                  0.000000\n",
      "Actor height                 58.074304\n",
      "Actor name                    0.002226\n",
      "Actor age a movie release    26.374279\n",
      "Freebase character map        0.000000\n",
      "what1                        51.193638\n",
      "what2                         0.000000\n",
      "Movie release year            2.589801\n",
      "dtype: float64\n",
      "\n",
      "\n",
      "Percentage of NaNs for filtered male dataset\n",
      "Wikipedia Movie ID            0.000000\n",
      "Freebase Movie ID             0.000000\n",
      "Movie release date            2.351552\n",
      "Character name               55.723468\n",
      "Actor DOB                    15.234582\n",
      "Actor gender                  0.000000\n",
      "Actor height                 63.682113\n",
      "Actor name                    0.003330\n",
      "Actor age a movie release    29.130018\n",
      "Freebase character map        0.000000\n",
      "what1                        55.720508\n",
      "what2                         0.000000\n",
      "Movie release year            2.351552\n",
      "dtype: float64\n"
     ]
    }
   ],
   "source": [
    "# Define a threshold (e.g., 70%) for removing columns\n",
    "threshold = 70\n",
    "\n",
    "# Filter columns where NaN percentage is less than or equal to the threshold\n",
    "filtered_female_columns = female_characters.columns[female_characters.isna().mean() * 100 <= threshold]\n",
    "filtered_male_colums = male_characters.columns[male_characters.isna().mean() * 100 <= threshold]\n",
    "\n",
    "# Create a new DataFrame with only the filtered columns\n",
    "filtered_female_character = female_characters[filtered_female_columns].copy()\n",
    "filtered_male_character = male_characters[filtered_male_colums].copy()\n",
    "\n",
    "print('Percentage of NaNs for filtered female dataset')\n",
    "print(filtered_female_character.isna().mean() * 100)\n",
    "print('\\n')\n",
    "print('Percentage of NaNs for filtered male dataset')\n",
    "print(filtered_male_character.isna().mean() * 100)"
   ]
  },
  {
   "cell_type": "code",
   "execution_count": 30,
   "metadata": {},
   "outputs": [],
   "source": [
    "female_count = female_characters.groupby('Wikipedia Movie ID').size()\n",
    "male_count = male_characters.groupby('Wikipedia Movie ID').size()\n",
    "\n",
    "# Ensure that all Wikipedia Movie IDs in 'female_count' are represented in 'male_count'\n",
    "# Fill missing values with 0\n",
    "male_count = male_count.reindex(female_count.index, fill_value=0)\n",
    "\n",
    "# Calculate the percentage of female characters\n",
    "percentage_female = (female_count / (female_count + male_count)) * 100\n",
    "\n",
    "# Reset the index to have 'Wikipedia Movie ID' as a column\n",
    "percentage_female = percentage_female.reset_index()\n",
    "\n",
    "# Rename the columns for clarity\n",
    "percentage_female.columns = ['Wikipedia Movie ID', 'Percentage Female Characters']\n"
   ]
  },
  {
   "cell_type": "code",
   "execution_count": 31,
   "metadata": {},
   "outputs": [
    {
     "data": {
      "text/plain": [
       "Text(0.5, 0, 'Year')"
      ]
     },
     "execution_count": 31,
     "metadata": {},
     "output_type": "execute_result"
    },
    {
     "data": {
      "image/png": "[encoded data removed]",
      "text/plain": [
       "<Figure size 640x480 with 1 Axes>"
      ]
     },
     "metadata": {},
     "output_type": "display_data"
    }
   ],
   "source": [
    "percentage_female_with_year = pd.merge(percentage_female, movie_metadata, on='Wikipedia Movie ID', how='left')\n",
    "percentage_female_per_year = percentage_female_with_year.groupby('Movie release year')['Percentage Female Characters'].mean()\n",
    "percentage_female_per_year.columns = ['Movie release year', 'Percentage Female Characters']\n",
    "\n",
    "plt.plot(percentage_female_per_year.index, percentage_female_per_year)\n",
    "plt.ylabel('Female percentage per year [%]')\n",
    "plt.xlabel('Year')"
   ]
  },
  {
   "cell_type": "code",
   "execution_count": 40,
   "metadata": {},
   "outputs": [
    {
     "data": {
      "image/png": "[encoded data removed]",
      "text/plain": [
       "<Figure size 640x480 with 1 Axes>"
      ]
     },
     "metadata": {},
     "output_type": "display_data"
    }
   ],
   "source": [
    "no_movies = movie_metadata.groupby('Movie release year').size()\n",
    "plt.plot(no_movies)\n",
    "plt.show()"
   ]
  },
  {
   "cell_type": "code",
   "execution_count": null,
   "metadata": {},
   "outputs": [],
   "source": []
  }
 ],
 "metadata": {
  "kernelspec": {
   "display_name": "ada",
   "language": "python",
   "name": "python3"
  },
  "language_info": {
   "codemirror_mode": {
    "name": "ipython",
    "version": 3
   },
   "file_extension": ".py",
   "mimetype": "text/x-python",
   "name": "python",
   "nbconvert_exporter": "python",
   "pygments_lexer": "ipython3",
   "version": "3.9.18"
  }
 },
 "nbformat": 4,
 "nbformat_minor": 2
}
