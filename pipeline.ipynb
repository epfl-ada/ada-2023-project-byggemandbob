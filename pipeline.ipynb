{
 "cells": [
  {
   "cell_type": "markdown",
   "source": [
    "# Encriching data\n",
    "#### 1. Adding data from www.themoviedb.org (TMDB)"
   ],
   "metadata": {
    "collapsed": false
   },
   "id": "69e082786ad5e1f"
  },
  {
   "cell_type": "markdown",
   "source": [
    "In this section we are going to be using the API of www.themoviedb.org (TMDB) to populate the existing dataframe with more information about the movie. The script is going to query the website with the movie name and match with the movie, where the release date is the closest. If no match is found the code skips the movie and goes to the next.\n",
    "\n",
    "This 1. step is most importantly adding the TMDB_ID which is a unique identifier for the movie which can be used to further enrich the data.\n",
    "\n",
    "This script was run separately in another file in /scratch/add_TMDB_movie_metadata.py as it needed to be run several times since the API was limited by 40 requests/s.\n",
    " \n"
   ],
   "metadata": {
    "collapsed": false
   },
   "id": "8d36fd8944cec23f"
  },
  {
   "cell_type": "code",
   "execution_count": null,
   "outputs": [],
   "source": [
    "import tmdbsimple as tmdb # Wrapper library for the API of themoviedb.org  (TMDB)\n",
    "from tqdm import tqdm # Progress bar for the script\n",
    "import pandas as pd\n",
    "from datetime import datetime # Used for comparing movie release dates\n",
    "from dotenv import load_dotenv # Makes keeping the API-key as local environment file simpler\n",
    "import os\n",
    "\n",
    "load_dotenv() # Loads .env files aka. the TMDB_API_KEY\n",
    "\n",
    "headers_movie_metadata = [\"Wikipedia Movie ID\", \"Freebase Movie ID\", \"Movie name\", \"Movie release date\",\n",
    "                          \"Movie box office revenue\", \"Movie runtime\", \"Movie languages\", \"Movie countries\",\n",
    "                          \"Movie genres\"]\n",
    "movie_metadata = pd.read_csv('../data/movie.metadata.tsv', sep=\"\\t\", names=headers_movie_metadata)\n",
    "\n",
    "\n",
    "# Load API key\n",
    "TMDB_API_KEY = os.environ.get(\"TMDB_API_KEY\")\n",
    "tmdb.API_KEY = TMDB_API_KEY\n",
    "tmdb.REQUESTS_TIMEOUT = 5  # Seconds, for both connect and read\n",
    "\n",
    "# Create a list to save progress\n",
    "saved_progress = []\n",
    "\n",
    "# Determine where to resume\n",
    "start_index = 28000\n",
    "\n",
    "# Progress file that can be used to resume\n",
    "#saved_progress = pd.read_json('progress.json')['index'].tolist()\n",
    "#start_index = saved_progress[-1] + 1  # Start from the next index\n",
    "\n",
    "# Create a DataFrame to store the data\n",
    "movie_metadata_TMDB = movie_metadata.copy()\n",
    "\n",
    "for index, row in tqdm(movie_metadata_TMDB.iterrows(), total=len(movie_metadata_TMDB), desc=\"Processing\"): # Wraps for loop in progress bar.\n",
    "    \n",
    "    # Skip previously processed indices - Commented out in favor of manual start_index\n",
    "    #if index in saved_progress:\n",
    "    #    continue\n",
    "    if index < start_index:\n",
    "        continue\n",
    "    try:\n",
    "        if not pd.isna(row[\"Movie release date\"]):\n",
    "            search = tmdb.Search()\n",
    "            response = search.movie(query=row[\"Movie name\"])\n",
    "\n",
    "            # Convert dataframe release date to datetime\n",
    "            movie_release_date_str = row[\"Movie release date\"]\n",
    "            if len(movie_release_date_str) == 4:  # Handle \"YYYY\" format\n",
    "                movie_release_date = datetime.strptime(movie_release_date_str, \"%Y\").date()\n",
    "            elif len(movie_release_date_str) == 7:  # Handle \"YYYY-DD\" format\n",
    "                movie_release_date = datetime.strptime(movie_release_date_str, \"%Y-%m\").date()\n",
    "            else:  # Assume it's in the format \"YYYY-MM-DD\"\n",
    "                movie_release_date = datetime.strptime(movie_release_date_str, \"%Y-%m-%d\").date()\n",
    "\n",
    "            # Handle if release_date is empty.\n",
    "            date_list_converted = [datetime.strptime(each_date['release_date'], \"%Y-%m-%d\").date() for each_date in\n",
    "                                   search.results if each_date.get('release_date')]\n",
    "\n",
    "            # Create list of differences in time\n",
    "            differences = [abs(movie_release_date - each_date) for each_date in date_list_converted]\n",
    "            \n",
    "            # If differences are empty = skip\n",
    "            if not differences:\n",
    "                continue\n",
    "            minimum_index = differences.index(min(differences))  # Index of the closest match\n",
    "            match = search.results[minimum_index]\n",
    "            # print(f\"Closest match: {match['title']} (Release Date: {match['release_date']})\")\n",
    "\n",
    "            # Add info in dataframe about the movie\n",
    "            movie_metadata_TMDB.loc[index, 'TMDB_id'] = match['id']\n",
    "            movie_metadata_TMDB.loc[index, 'TMDB_original_language'] = match['original_language']\n",
    "            movie_metadata_TMDB.loc[index, 'TMDB_original_title'] = match['original_title']\n",
    "            movie_metadata_TMDB.loc[index, 'TMDB_overview'] = match['overview']\n",
    "            movie_metadata_TMDB.loc[index, 'TMDB_popularity'] = match['popularity']\n",
    "            movie_metadata_TMDB.loc[index, 'TMDB_release_date'] = match['release_date']\n",
    "            movie_metadata_TMDB.loc[index, 'TMDB_title'] = match['title']\n",
    "            movie_metadata_TMDB.loc[index, 'TMDB_vote_average'] = match['vote_average']\n",
    "            movie_metadata_TMDB.loc[index, 'TMDB_vote_count'] = match['vote_count']\n",
    "            \n",
    "            # Save the index as progress\n",
    "            saved_progress.append(index)\n",
    "\n",
    "            # Save progress periodically (in case of interruption)\n",
    "            if index % 50 == 0:\n",
    "                progress_df = pd.DataFrame({'index': saved_progress})\n",
    "                progress_df.to_json('progress.json')\n",
    "                movie_metadata_TMDB.to_csv('movie_metadata_TMDB.csv', index=False)\n",
    "\n",
    "    except Exception as e:\n",
    "        print(f\"Error at index {index}: {str(e)}\")\n",
    "\n",
    "# Save final progress\n",
    "progress_df = pd.DataFrame({'index': saved_progress})\n",
    "progress_df.to_json('progress.json')\n",
    "\n",
    "# Save your final DataFrame\n",
    "movie_metadata_TMDB.to_csv('modified_data/movie_metadata_TMDB.csv')"
   ],
   "metadata": {
    "collapsed": false,
    "ExecuteTime": {
     "end_time": "2023-11-06T15:39:40.966708600Z",
     "start_time": "2023-11-06T15:39:40.965194900Z"
    }
   },
   "id": "3fdcaa618d558119"
  },
  {
   "cell_type": "code",
   "execution_count": null,
   "outputs": [],
   "source": [],
   "metadata": {
    "collapsed": false
   },
   "id": "162d1f169e7b3be4"
  }
 ],
 "metadata": {
  "kernelspec": {
   "display_name": "Python 3",
   "language": "python",
   "name": "python3"
  },
  "language_info": {
   "codemirror_mode": {
    "name": "ipython",
    "version": 2
   },
   "file_extension": ".py",
   "mimetype": "text/x-python",
   "name": "python",
   "nbconvert_exporter": "python",
   "pygments_lexer": "ipython2",
   "version": "2.7.6"
  }
 },
 "nbformat": 4,
 "nbformat_minor": 5
}
