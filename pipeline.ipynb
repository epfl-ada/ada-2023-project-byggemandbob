{
 "cells": [
  {
   "cell_type": "markdown",
   "source": [
    "# Enriching data\n",
    "#### 1. Adding data from www.themoviedb.org (TMDB)"
   ],
   "metadata": {
    "collapsed": false
   },
   "id": "69e082786ad5e1f"
  },
  {
   "cell_type": "markdown",
   "source": [
    "In this section we are going to be using the API of www.themoviedb.org (TMDB) to populate the existing dataframe with more information about the movie. The script is going to query the website with the movie name and match with the movie, where the release date is the closest. If no match is found the code skips the movie and goes to the next.\n",
    "\n",
    "This 1. step is most importantly adding the TMDB_ID which is a unique identifier for the movie which can be used to further enrich the data.\n",
    "\n",
    "This script was run separately in another file in /scratch/add_TMDB_movie_metadata.py as it needed to be run several times since the API was limited by 40 requests/s.\n",
    " \n"
   ],
   "metadata": {
    "collapsed": false
   },
   "id": "8d36fd8944cec23f"
  },
  {
   "cell_type": "code",
   "execution_count": 10,
   "outputs": [
    {
     "ename": "FileNotFoundError",
     "evalue": "[Errno 2] No such file or directory: '/data/movie.metadata.tsv'",
     "output_type": "error",
     "traceback": [
      "\u001B[1;31m---------------------------------------------------------------------------\u001B[0m",
      "\u001B[1;31mFileNotFoundError\u001B[0m                         Traceback (most recent call last)",
      "Cell \u001B[1;32mIn[10], line 13\u001B[0m\n\u001B[0;32m      8\u001B[0m load_dotenv() \u001B[38;5;66;03m# Loads .env files aka. the TMDB_API_KEY\u001B[39;00m\n\u001B[0;32m     10\u001B[0m headers_movie_metadata \u001B[38;5;241m=\u001B[39m [\u001B[38;5;124m\"\u001B[39m\u001B[38;5;124mWikipedia Movie ID\u001B[39m\u001B[38;5;124m\"\u001B[39m, \u001B[38;5;124m\"\u001B[39m\u001B[38;5;124mFreebase Movie ID\u001B[39m\u001B[38;5;124m\"\u001B[39m, \u001B[38;5;124m\"\u001B[39m\u001B[38;5;124mMovie name\u001B[39m\u001B[38;5;124m\"\u001B[39m, \u001B[38;5;124m\"\u001B[39m\u001B[38;5;124mMovie release date\u001B[39m\u001B[38;5;124m\"\u001B[39m,\n\u001B[0;32m     11\u001B[0m                           \u001B[38;5;124m\"\u001B[39m\u001B[38;5;124mMovie box office revenue\u001B[39m\u001B[38;5;124m\"\u001B[39m, \u001B[38;5;124m\"\u001B[39m\u001B[38;5;124mMovie runtime\u001B[39m\u001B[38;5;124m\"\u001B[39m, \u001B[38;5;124m\"\u001B[39m\u001B[38;5;124mMovie languages\u001B[39m\u001B[38;5;124m\"\u001B[39m, \u001B[38;5;124m\"\u001B[39m\u001B[38;5;124mMovie countries\u001B[39m\u001B[38;5;124m\"\u001B[39m,\n\u001B[0;32m     12\u001B[0m                           \u001B[38;5;124m\"\u001B[39m\u001B[38;5;124mMovie genres\u001B[39m\u001B[38;5;124m\"\u001B[39m]\n\u001B[1;32m---> 13\u001B[0m movie_metadata \u001B[38;5;241m=\u001B[39m pd\u001B[38;5;241m.\u001B[39mread_csv(\u001B[38;5;124m'\u001B[39m\u001B[38;5;124m/data/movie.metadata.tsv\u001B[39m\u001B[38;5;124m'\u001B[39m, sep\u001B[38;5;241m=\u001B[39m\u001B[38;5;124m\"\u001B[39m\u001B[38;5;130;01m\\t\u001B[39;00m\u001B[38;5;124m\"\u001B[39m, names\u001B[38;5;241m=\u001B[39mheaders_movie_metadata)\n\u001B[0;32m     16\u001B[0m \u001B[38;5;66;03m# Load API key\u001B[39;00m\n\u001B[0;32m     17\u001B[0m TMDB_API_KEY \u001B[38;5;241m=\u001B[39m os\u001B[38;5;241m.\u001B[39menviron\u001B[38;5;241m.\u001B[39mget(\u001B[38;5;124m\"\u001B[39m\u001B[38;5;124mTMDB_API_KEY\u001B[39m\u001B[38;5;124m\"\u001B[39m)\n",
      "File \u001B[1;32m~\\anaconda3\\envs\\ada\\Lib\\site-packages\\pandas\\io\\parsers\\readers.py:912\u001B[0m, in \u001B[0;36mread_csv\u001B[1;34m(filepath_or_buffer, sep, delimiter, header, names, index_col, usecols, dtype, engine, converters, true_values, false_values, skipinitialspace, skiprows, skipfooter, nrows, na_values, keep_default_na, na_filter, verbose, skip_blank_lines, parse_dates, infer_datetime_format, keep_date_col, date_parser, date_format, dayfirst, cache_dates, iterator, chunksize, compression, thousands, decimal, lineterminator, quotechar, quoting, doublequote, escapechar, comment, encoding, encoding_errors, dialect, on_bad_lines, delim_whitespace, low_memory, memory_map, float_precision, storage_options, dtype_backend)\u001B[0m\n\u001B[0;32m    899\u001B[0m kwds_defaults \u001B[38;5;241m=\u001B[39m _refine_defaults_read(\n\u001B[0;32m    900\u001B[0m     dialect,\n\u001B[0;32m    901\u001B[0m     delimiter,\n\u001B[1;32m   (...)\u001B[0m\n\u001B[0;32m    908\u001B[0m     dtype_backend\u001B[38;5;241m=\u001B[39mdtype_backend,\n\u001B[0;32m    909\u001B[0m )\n\u001B[0;32m    910\u001B[0m kwds\u001B[38;5;241m.\u001B[39mupdate(kwds_defaults)\n\u001B[1;32m--> 912\u001B[0m \u001B[38;5;28;01mreturn\u001B[39;00m _read(filepath_or_buffer, kwds)\n",
      "File \u001B[1;32m~\\anaconda3\\envs\\ada\\Lib\\site-packages\\pandas\\io\\parsers\\readers.py:577\u001B[0m, in \u001B[0;36m_read\u001B[1;34m(filepath_or_buffer, kwds)\u001B[0m\n\u001B[0;32m    574\u001B[0m _validate_names(kwds\u001B[38;5;241m.\u001B[39mget(\u001B[38;5;124m\"\u001B[39m\u001B[38;5;124mnames\u001B[39m\u001B[38;5;124m\"\u001B[39m, \u001B[38;5;28;01mNone\u001B[39;00m))\n\u001B[0;32m    576\u001B[0m \u001B[38;5;66;03m# Create the parser.\u001B[39;00m\n\u001B[1;32m--> 577\u001B[0m parser \u001B[38;5;241m=\u001B[39m TextFileReader(filepath_or_buffer, \u001B[38;5;241m*\u001B[39m\u001B[38;5;241m*\u001B[39mkwds)\n\u001B[0;32m    579\u001B[0m \u001B[38;5;28;01mif\u001B[39;00m chunksize \u001B[38;5;129;01mor\u001B[39;00m iterator:\n\u001B[0;32m    580\u001B[0m     \u001B[38;5;28;01mreturn\u001B[39;00m parser\n",
      "File \u001B[1;32m~\\anaconda3\\envs\\ada\\Lib\\site-packages\\pandas\\io\\parsers\\readers.py:1407\u001B[0m, in \u001B[0;36mTextFileReader.__init__\u001B[1;34m(self, f, engine, **kwds)\u001B[0m\n\u001B[0;32m   1404\u001B[0m     \u001B[38;5;28mself\u001B[39m\u001B[38;5;241m.\u001B[39moptions[\u001B[38;5;124m\"\u001B[39m\u001B[38;5;124mhas_index_names\u001B[39m\u001B[38;5;124m\"\u001B[39m] \u001B[38;5;241m=\u001B[39m kwds[\u001B[38;5;124m\"\u001B[39m\u001B[38;5;124mhas_index_names\u001B[39m\u001B[38;5;124m\"\u001B[39m]\n\u001B[0;32m   1406\u001B[0m \u001B[38;5;28mself\u001B[39m\u001B[38;5;241m.\u001B[39mhandles: IOHandles \u001B[38;5;241m|\u001B[39m \u001B[38;5;28;01mNone\u001B[39;00m \u001B[38;5;241m=\u001B[39m \u001B[38;5;28;01mNone\u001B[39;00m\n\u001B[1;32m-> 1407\u001B[0m \u001B[38;5;28mself\u001B[39m\u001B[38;5;241m.\u001B[39m_engine \u001B[38;5;241m=\u001B[39m \u001B[38;5;28mself\u001B[39m\u001B[38;5;241m.\u001B[39m_make_engine(f, \u001B[38;5;28mself\u001B[39m\u001B[38;5;241m.\u001B[39mengine)\n",
      "File \u001B[1;32m~\\anaconda3\\envs\\ada\\Lib\\site-packages\\pandas\\io\\parsers\\readers.py:1661\u001B[0m, in \u001B[0;36mTextFileReader._make_engine\u001B[1;34m(self, f, engine)\u001B[0m\n\u001B[0;32m   1659\u001B[0m     \u001B[38;5;28;01mif\u001B[39;00m \u001B[38;5;124m\"\u001B[39m\u001B[38;5;124mb\u001B[39m\u001B[38;5;124m\"\u001B[39m \u001B[38;5;129;01mnot\u001B[39;00m \u001B[38;5;129;01min\u001B[39;00m mode:\n\u001B[0;32m   1660\u001B[0m         mode \u001B[38;5;241m+\u001B[39m\u001B[38;5;241m=\u001B[39m \u001B[38;5;124m\"\u001B[39m\u001B[38;5;124mb\u001B[39m\u001B[38;5;124m\"\u001B[39m\n\u001B[1;32m-> 1661\u001B[0m \u001B[38;5;28mself\u001B[39m\u001B[38;5;241m.\u001B[39mhandles \u001B[38;5;241m=\u001B[39m get_handle(\n\u001B[0;32m   1662\u001B[0m     f,\n\u001B[0;32m   1663\u001B[0m     mode,\n\u001B[0;32m   1664\u001B[0m     encoding\u001B[38;5;241m=\u001B[39m\u001B[38;5;28mself\u001B[39m\u001B[38;5;241m.\u001B[39moptions\u001B[38;5;241m.\u001B[39mget(\u001B[38;5;124m\"\u001B[39m\u001B[38;5;124mencoding\u001B[39m\u001B[38;5;124m\"\u001B[39m, \u001B[38;5;28;01mNone\u001B[39;00m),\n\u001B[0;32m   1665\u001B[0m     compression\u001B[38;5;241m=\u001B[39m\u001B[38;5;28mself\u001B[39m\u001B[38;5;241m.\u001B[39moptions\u001B[38;5;241m.\u001B[39mget(\u001B[38;5;124m\"\u001B[39m\u001B[38;5;124mcompression\u001B[39m\u001B[38;5;124m\"\u001B[39m, \u001B[38;5;28;01mNone\u001B[39;00m),\n\u001B[0;32m   1666\u001B[0m     memory_map\u001B[38;5;241m=\u001B[39m\u001B[38;5;28mself\u001B[39m\u001B[38;5;241m.\u001B[39moptions\u001B[38;5;241m.\u001B[39mget(\u001B[38;5;124m\"\u001B[39m\u001B[38;5;124mmemory_map\u001B[39m\u001B[38;5;124m\"\u001B[39m, \u001B[38;5;28;01mFalse\u001B[39;00m),\n\u001B[0;32m   1667\u001B[0m     is_text\u001B[38;5;241m=\u001B[39mis_text,\n\u001B[0;32m   1668\u001B[0m     errors\u001B[38;5;241m=\u001B[39m\u001B[38;5;28mself\u001B[39m\u001B[38;5;241m.\u001B[39moptions\u001B[38;5;241m.\u001B[39mget(\u001B[38;5;124m\"\u001B[39m\u001B[38;5;124mencoding_errors\u001B[39m\u001B[38;5;124m\"\u001B[39m, \u001B[38;5;124m\"\u001B[39m\u001B[38;5;124mstrict\u001B[39m\u001B[38;5;124m\"\u001B[39m),\n\u001B[0;32m   1669\u001B[0m     storage_options\u001B[38;5;241m=\u001B[39m\u001B[38;5;28mself\u001B[39m\u001B[38;5;241m.\u001B[39moptions\u001B[38;5;241m.\u001B[39mget(\u001B[38;5;124m\"\u001B[39m\u001B[38;5;124mstorage_options\u001B[39m\u001B[38;5;124m\"\u001B[39m, \u001B[38;5;28;01mNone\u001B[39;00m),\n\u001B[0;32m   1670\u001B[0m )\n\u001B[0;32m   1671\u001B[0m \u001B[38;5;28;01massert\u001B[39;00m \u001B[38;5;28mself\u001B[39m\u001B[38;5;241m.\u001B[39mhandles \u001B[38;5;129;01mis\u001B[39;00m \u001B[38;5;129;01mnot\u001B[39;00m \u001B[38;5;28;01mNone\u001B[39;00m\n\u001B[0;32m   1672\u001B[0m f \u001B[38;5;241m=\u001B[39m \u001B[38;5;28mself\u001B[39m\u001B[38;5;241m.\u001B[39mhandles\u001B[38;5;241m.\u001B[39mhandle\n",
      "File \u001B[1;32m~\\anaconda3\\envs\\ada\\Lib\\site-packages\\pandas\\io\\common.py:859\u001B[0m, in \u001B[0;36mget_handle\u001B[1;34m(path_or_buf, mode, encoding, compression, memory_map, is_text, errors, storage_options)\u001B[0m\n\u001B[0;32m    854\u001B[0m \u001B[38;5;28;01melif\u001B[39;00m \u001B[38;5;28misinstance\u001B[39m(handle, \u001B[38;5;28mstr\u001B[39m):\n\u001B[0;32m    855\u001B[0m     \u001B[38;5;66;03m# Check whether the filename is to be opened in binary mode.\u001B[39;00m\n\u001B[0;32m    856\u001B[0m     \u001B[38;5;66;03m# Binary mode does not support 'encoding' and 'newline'.\u001B[39;00m\n\u001B[0;32m    857\u001B[0m     \u001B[38;5;28;01mif\u001B[39;00m ioargs\u001B[38;5;241m.\u001B[39mencoding \u001B[38;5;129;01mand\u001B[39;00m \u001B[38;5;124m\"\u001B[39m\u001B[38;5;124mb\u001B[39m\u001B[38;5;124m\"\u001B[39m \u001B[38;5;129;01mnot\u001B[39;00m \u001B[38;5;129;01min\u001B[39;00m ioargs\u001B[38;5;241m.\u001B[39mmode:\n\u001B[0;32m    858\u001B[0m         \u001B[38;5;66;03m# Encoding\u001B[39;00m\n\u001B[1;32m--> 859\u001B[0m         handle \u001B[38;5;241m=\u001B[39m \u001B[38;5;28mopen\u001B[39m(\n\u001B[0;32m    860\u001B[0m             handle,\n\u001B[0;32m    861\u001B[0m             ioargs\u001B[38;5;241m.\u001B[39mmode,\n\u001B[0;32m    862\u001B[0m             encoding\u001B[38;5;241m=\u001B[39mioargs\u001B[38;5;241m.\u001B[39mencoding,\n\u001B[0;32m    863\u001B[0m             errors\u001B[38;5;241m=\u001B[39merrors,\n\u001B[0;32m    864\u001B[0m             newline\u001B[38;5;241m=\u001B[39m\u001B[38;5;124m\"\u001B[39m\u001B[38;5;124m\"\u001B[39m,\n\u001B[0;32m    865\u001B[0m         )\n\u001B[0;32m    866\u001B[0m     \u001B[38;5;28;01melse\u001B[39;00m:\n\u001B[0;32m    867\u001B[0m         \u001B[38;5;66;03m# Binary mode\u001B[39;00m\n\u001B[0;32m    868\u001B[0m         handle \u001B[38;5;241m=\u001B[39m \u001B[38;5;28mopen\u001B[39m(handle, ioargs\u001B[38;5;241m.\u001B[39mmode)\n",
      "\u001B[1;31mFileNotFoundError\u001B[0m: [Errno 2] No such file or directory: '/data/movie.metadata.tsv'"
     ]
    }
   ],
   "source": [
    "import tmdbsimple as tmdb # Wrapper library for the API of themoviedb.org  (TMDB)\n",
    "from tqdm import tqdm # Progress bar for the script\n",
    "import pandas as pd\n",
    "from datetime import datetime # Used for comparing movie release dates\n",
    "from dotenv import load_dotenv # Makes keeping the API-key as local environment file simpler\n",
    "import os # Used for loading the .env file\n",
    "\n",
    "load_dotenv() # Loads .env files aka. the TMDB_API_KEY\n",
    "\n",
    "headers_movie_metadata = [\"Wikipedia Movie ID\", \"Freebase Movie ID\", \"Movie name\", \"Movie release date\",\n",
    "                          \"Movie box office revenue\", \"Movie runtime\", \"Movie languages\", \"Movie countries\",\n",
    "                          \"Movie genres\"]\n",
    "movie_metadata = pd.read_csv('/data/movie.metadata.tsv', sep=\"\\t\", names=headers_movie_metadata)\n",
    "\n",
    "\n",
    "# Load API key\n",
    "TMDB_API_KEY = os.environ.get(\"TMDB_API_KEY\")\n",
    "tmdb.API_KEY = TMDB_API_KEY\n",
    "tmdb.REQUESTS_TIMEOUT = 5  # Seconds, for both connect and read\n",
    "\n",
    "# Create a list to save progress\n",
    "saved_progress = []\n",
    "\n",
    "# Determine where to resume\n",
    "start_index = 28000\n",
    "\n",
    "# Progress file that can be used to resume\n",
    "#saved_progress = pd.read_json('progress.json')['index'].tolist()\n",
    "#start_index = saved_progress[-1] + 1  # Start from the next index\n",
    "\n",
    "# Create a DataFrame to store the data\n",
    "movie_metadata_TMDB = movie_metadata.copy()\n",
    "\n",
    "for index, row in tqdm(movie_metadata_TMDB.iterrows(), total=len(movie_metadata_TMDB), desc=\"Processing\"): # Wraps for loop in progress bar.\n",
    "    \n",
    "    # Skip previously processed indices - Commented out in favor of manual start_index\n",
    "    #if index in saved_progress:\n",
    "    #    continue\n",
    "    if index < start_index:\n",
    "        continue\n",
    "    try:\n",
    "        if not pd.isna(row[\"Movie release date\"]):\n",
    "            search = tmdb.Search()\n",
    "            response = search.movie(query=row[\"Movie name\"])\n",
    "\n",
    "            # Convert dataframe release date to datetime\n",
    "            movie_release_date_str = row[\"Movie release date\"]\n",
    "            if len(movie_release_date_str) == 4:  # Handle \"YYYY\" format\n",
    "                movie_release_date = datetime.strptime(movie_release_date_str, \"%Y\").date()\n",
    "            elif len(movie_release_date_str) == 7:  # Handle \"YYYY-DD\" format\n",
    "                movie_release_date = datetime.strptime(movie_release_date_str, \"%Y-%m\").date()\n",
    "            else:  # Assume it's in the format \"YYYY-MM-DD\"\n",
    "                movie_release_date = datetime.strptime(movie_release_date_str, \"%Y-%m-%d\").date()\n",
    "\n",
    "            # Handle if release_date is empty.\n",
    "            date_list_converted = [datetime.strptime(each_date['release_date'], \"%Y-%m-%d\").date() for each_date in\n",
    "                                   search.results if each_date.get('release_date')]\n",
    "\n",
    "            # Create list of differences in time\n",
    "            differences = [abs(movie_release_date - each_date) for each_date in date_list_converted]\n",
    "            \n",
    "            # If differences are empty = skip\n",
    "            if not differences:\n",
    "                continue\n",
    "            minimum_index = differences.index(min(differences))  # Index of the closest match\n",
    "            match = search.results[minimum_index]\n",
    "            # print(f\"Closest match: {match['title']} (Release Date: {match['release_date']})\")\n",
    "\n",
    "            # Add info in dataframe about the movie\n",
    "            movie_metadata_TMDB.loc[index, 'TMDB_id'] = match['id']\n",
    "            movie_metadata_TMDB.loc[index, 'TMDB_original_language'] = match['original_language']\n",
    "            movie_metadata_TMDB.loc[index, 'TMDB_original_title'] = match['original_title']\n",
    "            movie_metadata_TMDB.loc[index, 'TMDB_overview'] = match['overview']\n",
    "            movie_metadata_TMDB.loc[index, 'TMDB_popularity'] = match['popularity']\n",
    "            movie_metadata_TMDB.loc[index, 'TMDB_release_date'] = match['release_date']\n",
    "            movie_metadata_TMDB.loc[index, 'TMDB_title'] = match['title']\n",
    "            movie_metadata_TMDB.loc[index, 'TMDB_vote_average'] = match['vote_average']\n",
    "            movie_metadata_TMDB.loc[index, 'TMDB_vote_count'] = match['vote_count']\n",
    "            \n",
    "            # Save the index as progress\n",
    "            saved_progress.append(index)\n",
    "\n",
    "            # Save progress periodically (in case of interruption)\n",
    "            if index % 50 == 0:\n",
    "                progress_df = pd.DataFrame({'index': saved_progress})\n",
    "                progress_df.to_json('progress.json')\n",
    "                movie_metadata_TMDB.to_csv('movie_metadata_TMDB.csv', index=False)\n",
    "\n",
    "    except Exception as e:\n",
    "        print(f\"Error at index {index}: {str(e)}\")\n",
    "\n",
    "# Save final progress\n",
    "progress_df = pd.DataFrame({'index': saved_progress})\n",
    "progress_df.to_json('progress.json')\n",
    "\n",
    "# Save your final DataFrame\n",
    "movie_metadata_TMDB.to_csv('modified_data/movie_metadata_TMDB.csv')"
   ],
   "metadata": {
    "collapsed": false,
    "ExecuteTime": {
     "end_time": "2023-11-06T15:59:23.062785300Z",
     "start_time": "2023-11-06T15:59:22.985435200Z"
    }
   },
   "id": "3fdcaa618d558119"
  },
  {
   "cell_type": "code",
   "execution_count": 3,
   "outputs": [
    {
     "name": "stdout",
     "output_type": "stream",
     "text": [
      "Added TMDB ID to 68944 movies. Total movies: 81741. \n",
      " Percentage populated: 84.34%\n"
     ]
    }
   ],
   "source": [
    "# Comparing how many rows were populated in the enriching.\n",
    "import pandas as pd\n",
    "df = pd.read_csv('modified_data/movie_metadata_TMDB.csv')\n",
    "print(f\"Added TMDB ID to {df['TMDB_id'].count()} movies. Total movies: {df['Wikipedia Movie ID'].count()}. \\n Percentage populated: {round(df['TMDB_id'].count()/df['Wikipedia Movie ID'].count()*100,2)}%\")\n"
   ],
   "metadata": {
    "collapsed": false,
    "ExecuteTime": {
     "end_time": "2023-11-06T16:00:39.513370200Z",
     "start_time": "2023-11-06T16:00:38.240990600Z"
    }
   },
   "id": "162d1f169e7b3be4"
  },
  {
   "cell_type": "markdown",
   "source": [
    "#### 2. Adding Movie Revenue\n",
    "Many of the movies are missing their revenue and TMDB has that information.\n",
    "E.g.: https://www.themoviedb.org/movie/51284"
   ],
   "metadata": {
    "collapsed": false
   },
   "id": "3115afda8f5a0740"
  },
  {
   "cell_type": "code",
   "execution_count": 3,
   "outputs": [],
   "source": [],
   "metadata": {
    "collapsed": false,
    "ExecuteTime": {
     "end_time": "2023-11-06T16:07:08.695117700Z",
     "start_time": "2023-11-06T16:07:08.676047700Z"
    }
   },
   "id": "e40cc9605485cdd4"
  },
  {
   "cell_type": "code",
   "execution_count": null,
   "outputs": [],
   "source": [],
   "metadata": {
    "collapsed": false
   },
   "id": "fc0c254840e0c90d"
  }
 ],
 "metadata": {
  "kernelspec": {
   "display_name": "Python 3",
   "language": "python",
   "name": "python3"
  },
  "language_info": {
   "codemirror_mode": {
    "name": "ipython",
    "version": 2
   },
   "file_extension": ".py",
   "mimetype": "text/x-python",
   "name": "python",
   "nbconvert_exporter": "python",
   "pygments_lexer": "ipython2",
   "version": "2.7.6"
  }
 },
 "nbformat": 4,
 "nbformat_minor": 5
}
