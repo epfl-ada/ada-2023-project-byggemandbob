{
 "cells": [
  {
   "cell_type": "markdown",
   "metadata": {},
   "source": [
    "## Distribution of variables in the character dataset\n",
    "\n",
    "We now want to look at the distribution of the attributes of the characters metadata set. We divide the character dataset into male and female character dataset, and use box plots and histograms to look at the distribution on the attributes. We also perform a t-test for each of the attributes with the nul-hypothesis: there is no difference between male and female."
   ]
  },
  {
   "cell_type": "code",
   "execution_count": null,
   "metadata": {
    "vscode": {
     "languageId": "plaintext"
    }
   },
   "outputs": [],
   "source": [
    "# Variables of interest\n",
    "variables = ['Movie release year', 'Actor birth year', 'Actor height', 'Actor age at movie release']\n",
    "\n",
    "# Create a figure with four subplots\n",
    "fig, axes = plt.subplots(1, 4, figsize=(15, 5))\n",
    "\n",
    "# Create box plots for each variable in each subplot\n",
    "for i, variable in enumerate(variables):\n",
    "    ax = axes[i]\n",
    "\n",
    "    # Use sns.boxplot with 'Actor gender' as 'hue'\n",
    "    sns.boxplot(x='Actor gender', y=variable, data=character_metadata, ax=ax)\n",
    "\n",
    "    # Perform a t-test and get the p-value\n",
    "    female_data = character_metadata[character_metadata['Actor gender'] == 'F'][variable].dropna()\n",
    "    male_data = character_metadata[character_metadata['Actor gender'] == 'M'][variable].dropna()\n",
    "    t_stat, p_value = stats.ttest_ind(female_data, male_data)\n",
    "\n",
    "    # Annotate the plot with the p-value\n",
    "    ax.annotate(f'p-value: {p_value:.4f}', xy=(0.5, max(ax.get_ylim())), ha='center', va='center',\n",
    "                bbox=dict(boxstyle=\"round\", alpha=0.1),\n",
    "                fontsize=8, color='black')\n",
    "\n",
    "    ax.set_ylabel('Values')\n",
    "    ax.set_title(variable)\n",
    "\n",
    "# Adjust the layout to prevent overlapping\n",
    "plt.tight_layout()\n",
    "plt.show()\n"
   ]
  },
  {
   "cell_type": "markdown",
   "metadata": {},
   "source": [
    "The first box plots show us, that more movies have been released in the more revent years. Naturally, the birth years of the actor are also more recent therefore. These also show us, that there is a significant difference in **Movie release year** and **Actor birth year** for male and female actors, where female actors are more represented in recent years. We might want to log-transform these attributes, if they are used in further analysis.\n",
    "\n",
    "The height attribute shows that there is significant difference between the height of male and female, which makes sense, since men are naturally taller than woman.\n",
    "\n",
    "The last box plot shows us, that there is a significant difference in the **Actor age at movie release** for male and female actors. It indicates, that female actors generally are younger than male actors in movies.\n",
    "\n",
    "We also look at the distributions with a histogram:"
   ]
  },
  {
   "cell_type": "code",
   "execution_count": null,
   "metadata": {
    "vscode": {
     "languageId": "plaintext"
    }
   },
   "outputs": [],
   "source": [
    "# Variables of interest\n",
    "variables = ['Movie release year', 'Actor birth year', 'Actor height', 'Actor age at movie release']\n",
    "\n",
    "# Create a figure with four subplots (one for each variable)\n",
    "fig, axes = plt.subplots(1, 4, figsize=(15, 5))\n",
    "\n",
    "# Create histograms for each variable in each subplot\n",
    "for i, variable in enumerate(variables):\n",
    "    ax = axes[i]\n",
    "\n",
    "    # Create histograms for female and male characters for the current variable\n",
    "    sns.histplot(data=character_metadata, x=variable, bins=20, alpha=0.5, hue='Actor gender', multiple='layer', ax=ax)\n",
    "\n",
    "    ax.set_xlabel(variable)\n",
    "    ax.set_ylabel('Frequency')\n",
    "    ax.set_title(variable)\n",
    "\n",
    "# Adjust the layout to prevent overlapping\n",
    "plt.tight_layout()\n",
    "plt.show()\n"
   ]
  },
  {
   "cell_type": "markdown",
   "metadata": {},
   "source": [
    "The histogram backs up the claims made from the box plots.\n",
    "\n",
    "We might want to"
   ]
  }
 ],
 "metadata": {
  "language_info": {
   "name": "python"
  }
 },
 "nbformat": 4,
 "nbformat_minor": 2
}
