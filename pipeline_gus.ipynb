{
 "cells": [
  {
   "cell_type": "markdown",
   "source": [
    "# Enriching data\n",
    "#### 1. Adding data from www.themoviedb.org (TMDB)"
   ],
   "metadata": {
    "collapsed": false
   },
   "id": "7379b1837565ccec"
  },
  {
   "cell_type": "markdown",
   "source": [
    "In this section we are going to be using the API of www.themoviedb.org (TMDB) to populate the existing dataframe with more information about the movie. The script is going to query the website with the movie name and match with the movie, where the release date is the closest. If no match is found the code skips the movie and goes to the next.\n",
    "\n",
    "This 1. step is most importantly adding the TMDB_ID which is a unique identifier for the movie which can be used to further enrich the data.\n",
    "\n",
    "This script was run separately in another file in /scratch/add_TMDB_movie_metadata.py as it needed to be run several times since the API was limited by 40 requests/s.\n",
    " \n"
   ],
   "metadata": {
    "collapsed": false
   },
   "id": "94a14b26427b680f"
  },
  {
   "cell_type": "code",
   "execution_count": null,
   "outputs": [],
   "source": [],
   "metadata": {
    "collapsed": false
   },
   "id": "36108f48bc9b153"
  },
  {
   "cell_type": "code",
   "execution_count": 2,
   "outputs": [
    {
     "name": "stderr",
     "output_type": "stream",
     "text": [
      "Processing: 100%|██████████| 81741/81741 [00:03<00:00, 20657.45it/s]\n"
     ]
    }
   ],
   "source": [
    "import tmdbsimple as tmdb # Wrapper library for the API of themoviedb.org  (TMDB)\n",
    "from tqdm import tqdm # Progress bar for the script\n",
    "import pandas as pd\n",
    "from datetime import datetime # Used for comparing movie release dates\n",
    "from dotenv import load_dotenv # Makes keeping the API-key as local environment file simpler\n",
    "import os # Used for loading the .env file\n",
    "\n",
    "load_dotenv() # Loads .env files aka. the TMDB_API_KEY\n",
    "\n",
    "headers_movie_metadata = [\"Wikipedia Movie ID\", \"Freebase Movie ID\", \"Movie name\", \"Movie release date\",\n",
    "                          \"Movie box office revenue\", \"Movie runtime\", \"Movie languages\", \"Movie countries\",\n",
    "                          \"Movie genres\"]\n",
    "movie_metadata = pd.read_csv('data/movie.metadata.tsv', sep=\"\\t\", names=headers_movie_metadata)\n",
    "\n",
    "\n",
    "# Load API key\n",
    "TMDB_API_KEY = os.environ.get(\"TMDB_API_KEY\")\n",
    "tmdb.API_KEY = TMDB_API_KEY\n",
    "tmdb.REQUESTS_TIMEOUT = 5  # Seconds, for both connect and read\n",
    "\n",
    "# Create a list to save progress\n",
    "saved_progress = []\n",
    "\n",
    "# Determine where to resume\n",
    "start_index = 28000\n",
    "\n",
    "# Progress file that can be used to resume\n",
    "#saved_progress = pd.read_json('progress.json')['index'].tolist()\n",
    "#start_index = saved_progress[-1] + 1  # Start from the next index\n",
    "\n",
    "# Create a DataFrame to store the data\n",
    "movie_metadata_TMDB = movie_metadata.copy()\n",
    "\n",
    "for index, row in tqdm(movie_metadata_TMDB.iterrows(), total=len(movie_metadata_TMDB), desc=\"Processing\"): # Wraps for loop in progress bar.\n",
    "    \n",
    "    # Skip previously processed indices - Commented out in favor of manual start_index\n",
    "    #if index in saved_progress:\n",
    "    #    continue\n",
    "    if index < start_index:\n",
    "        continue\n",
    "    try:\n",
    "        if not pd.isna(row[\"Movie release date\"]):\n",
    "            search = tmdb.Search()\n",
    "            response = search.movie(query=row[\"Movie name\"])\n",
    "\n",
    "            # Convert dataframe release date to datetime\n",
    "            movie_release_date_str = row[\"Movie release date\"]\n",
    "            if len(movie_release_date_str) == 4:  # Handle \"YYYY\" format\n",
    "                movie_release_date = datetime.strptime(movie_release_date_str, \"%Y\").date()\n",
    "            elif len(movie_release_date_str) == 7:  # Handle \"YYYY-DD\" format\n",
    "                movie_release_date = datetime.strptime(movie_release_date_str, \"%Y-%m\").date()\n",
    "            else:  # Assume it's in the format \"YYYY-MM-DD\"\n",
    "                movie_release_date = datetime.strptime(movie_release_date_str, \"%Y-%m-%d\").date()\n",
    "\n",
    "            # Handle if release_date is empty.\n",
    "            date_list_converted = [datetime.strptime(each_date['release_date'], \"%Y-%m-%d\").date() for each_date in\n",
    "                                   search.results if each_date.get('release_date')]\n",
    "\n",
    "            # Create list of differences in time\n",
    "            differences = [abs(movie_release_date - each_date) for each_date in date_list_converted]\n",
    "            \n",
    "            # If differences are empty = skip\n",
    "            if not differences:\n",
    "                continue\n",
    "            minimum_index = differences.index(min(differences))  # Index of the closest match\n",
    "            match = search.results[minimum_index]\n",
    "            # print(f\"Closest match: {match['title']} (Release Date: {match['release_date']})\")\n",
    "\n",
    "            # Add info in dataframe about the movie\n",
    "            movie_metadata_TMDB.loc[index, 'TMDB_id'] = match['id']\n",
    "            movie_metadata_TMDB.loc[index, 'TMDB_original_language'] = match['original_language']\n",
    "            movie_metadata_TMDB.loc[index, 'TMDB_original_title'] = match['original_title']\n",
    "            movie_metadata_TMDB.loc[index, 'TMDB_overview'] = match['overview']\n",
    "            movie_metadata_TMDB.loc[index, 'TMDB_popularity'] = match['popularity']\n",
    "            movie_metadata_TMDB.loc[index, 'TMDB_release_date'] = match['release_date']\n",
    "            movie_metadata_TMDB.loc[index, 'TMDB_title'] = match['title']\n",
    "            movie_metadata_TMDB.loc[index, 'TMDB_vote_average'] = match['vote_average']\n",
    "            movie_metadata_TMDB.loc[index, 'TMDB_vote_count'] = match['vote_count']\n",
    "            \n",
    "            # Save the index as progress\n",
    "            saved_progress.append(index)\n",
    "\n",
    "            # Save progress periodically (in case of interruption)\n",
    "            if index % 50 == 0:\n",
    "                progress_df = pd.DataFrame({'index': saved_progress})\n",
    "                progress_df.to_json('progress.json')\n",
    "                movie_metadata_TMDB.to_csv('movie_metadata_TMDB.csv', index=False)\n",
    "\n",
    "    except Exception as e:\n",
    "        print(f\"Error at index {index}: {str(e)}\")\n",
    "\n",
    "# Save final progress\n",
    "progress_df = pd.DataFrame({'index': saved_progress})\n",
    "progress_df.to_json('progress.json')\n",
    "\n",
    "# Save your final DataFrame\n",
    "#movie_metadata_TMDB.to_csv('modified_data/movie_metadata_TMDB.csv') # Commented out to not overwrite existing file with blank data"
   ],
   "metadata": {
    "collapsed": false,
    "ExecuteTime": {
     "end_time": "2023-11-15T10:21:42.684012700Z",
     "start_time": "2023-11-15T10:21:37.353500100Z"
    }
   },
   "id": "386c21ad8d1087f6"
  },
  {
   "cell_type": "code",
   "execution_count": 3,
   "outputs": [
    {
     "name": "stdout",
     "output_type": "stream",
     "text": [
      "Added TMDB ID to 68944 movies. Total movies: 81741. \n",
      " Percentage populated: 84.34%\n"
     ]
    }
   ],
   "source": [
    "# Comparing how many rows were populated in the enriching.\n",
    "import pandas as pd\n",
    "df = pd.read_csv('modified_data/movie_metadata_TMDB.csv')\n",
    "print(f\"Added TMDB ID to {df['TMDB_id'].count()} movies. Total movies: {df['Wikipedia Movie ID'].count()}. \\n Percentage populated: {round(df['TMDB_id'].count()/df['Wikipedia Movie ID'].count()*100,2)}%\")\n"
   ],
   "metadata": {
    "collapsed": false
   },
   "id": "7989e2337cadbb"
  },
  {
   "cell_type": "markdown",
   "source": [
    "2 - Adding Movie Revenue\n",
    "Since the script above (enrich_v1) of the data collection used a 'query' method for TMDB, we are now going to be using the 'Movies' method to collect further data about the movies (enrich_v2). \n",
    "Since many of the movies are missing their revenue, TMDB might have that information for some movies.\n",
    "\n",
    "The same basis as for enrich_v1 is used to collect data. The data collected is: \n",
    "- revenue, budget, runtime, IMDB-id and genres.\n",
    "\n",
    "While our original dataset includes movie genres, it's always good to have more information and the two might differ for an interesting analysis further on.\n",
    "\n",
    "Like enrich_v1, enrich_v2 was run separately in another file: /scratch/add_TMDB_movie_metadata_V2.py as it needed to be run on several occasions since the API is limited."
   ],
   "metadata": {
    "collapsed": false
   },
   "id": "20ce707a4597922b"
  },
  {
   "cell_type": "code",
   "execution_count": null,
   "outputs": [],
   "source": [
    "import tmdbsimple as tmdb\n",
    "from tqdm import tqdm\n",
    "import pandas as pd\n",
    "from datetime import datetime\n",
    "import re\n",
    "from dotenv import load_dotenv\n",
    "import os\n",
    "\n",
    "load_dotenv()\n",
    "\n",
    "# Load v1, which was created in part 1 above\n",
    "movie_metadata_TMDB = pd.read_csv('modified_data/movie_metadata_TMDB.csv')\n",
    "movie_metadata_TMDB = movie_metadata_TMDB.dropna(subset=['TMDB_id'])\n",
    "\n",
    "# Load API key\n",
    "TMDB_API_KEY = os.environ.get(\"TMDB_API_KEY\")\n",
    "tmdb.API_KEY = TMDB_API_KEY\n",
    "tmdb.REQUESTS_TIMEOUT = 5  # seconds, for both connect and read\n",
    "\n",
    "# Create a list to save progress\n",
    "saved_progress = []\n",
    "# Determine where to resume\n",
    "start_index = 35000\n",
    "\n",
    "# Progress file that can be used to resume\n",
    "#saved_progress = pd.read_json('progress_v2.json')['index'].tolist()\n",
    "#start_index = saved_progress[-1] + 1  # Start from the next index\n",
    "\n",
    "for index, row in tqdm(movie_metadata_TMDB.iterrows(), total=len(movie_metadata_TMDB), desc=\"Processing\"): # Wraps for loop in progress bar\n",
    "    if index < start_index:\n",
    "        continue\n",
    "    try:\n",
    "        movie = tmdb.Movies(row['TMDB_id']) # The \"Movies\" method is used with the TMDB_id of the movie\n",
    "        movie_info = movie.info()\n",
    "        \n",
    "        # The dataframe is populated with data about: runtime, revenue, budget and IMDB_id.\n",
    "        movie_metadata_TMDB.loc[index,'TMDB_runtime'] = movie_info['runtime']\n",
    "        movie_metadata_TMDB.loc[index,'TMDB_revenue'] = movie_info['revenue']\n",
    "        movie_metadata_TMDB.loc[index,'TMDB_budget'] = movie_info['budget']\n",
    "        movie_metadata_TMDB.loc[index,'TMDB_IMDB_id'] = movie_info['imdb_id']\n",
    "\n",
    "        # Convert list of genres to a string representation for adding the values easily to the df\n",
    "        genres_str = ', '.join([genre['name'] for genre in movie_info['genres']])\n",
    "        # Assign values to DataFrame\n",
    "        movie_metadata_TMDB.loc[index, 'TMDB_genres'] = genres_str\n",
    "        \n",
    "        # Save the index as progress\n",
    "        saved_progress.append(index)\n",
    "\n",
    "        # Save progress periodically (in case of interruption)\n",
    "        if index % 50 == 0:\n",
    "            progress_df = pd.DataFrame({'index': saved_progress})\n",
    "            progress_df.to_json('progress_v2.json')\n",
    "            movie_metadata_TMDB.to_csv('movie_metadata_TMDB_v2.csv', index=False)\n",
    "\n",
    "    except Exception as e:\n",
    "        print(f\"Error at index {index}: {str(e)}\")\n",
    "\n",
    "# Save final progress\n",
    "progress_df = pd.DataFrame({'index': saved_progress})\n",
    "progress_df.to_json('progress_v2.json')\n",
    "\n",
    "# Save your final DataFrame\n",
    "movie_metadata_TMDB.to_csv('movie_metadata_TMDB_v2_DONE.csv', index=False)\n"
   ],
   "metadata": {
    "collapsed": false
   },
   "id": "bc6aaafef8edb0b"
  },
  {
   "cell_type": "markdown",
   "source": [
    "After data collection we now need to merge enrich_v2 with enrich_v1. This is to make sure we have a dataset that contains all the data and not only movies where a 'TMDB_id' is as in enrich_v2.\n"
   ],
   "metadata": {
    "collapsed": false
   },
   "id": "dc6cf20d4680bedc"
  },
  {
   "cell_type": "code",
   "execution_count": 18,
   "outputs": [
    {
     "name": "stderr",
     "output_type": "stream",
     "text": [
      "C:\\Users\\gusta\\AppData\\Local\\Temp\\ipykernel_9244\\1345791218.py:2: DtypeWarning: Columns (21,22) have mixed types. Specify dtype option on import or set low_memory=False.\n",
      "  movie_metadata_v2 = pd.read_csv('modified_data/movie_metadata_TMDB_v2.csv')\n"
     ]
    },
    {
     "data": {
      "text/plain": "       Wikipedia Movie ID Freebase Movie ID  \\\n0                  975900         /m/03vyhn   \n1                 3196793         /m/08yl5d   \n2                28463795        /m/0crgdbh   \n3                 9363483        /m/0285_cd   \n4                  261236         /m/01mrr1   \n...                   ...               ...   \n81736            35228177        /m/0j7hxnt   \n81737            34980460        /m/0g4pl34   \n81738             9971909        /m/02pygw1   \n81739              913762         /m/03pcrp   \n81740            12476867        /m/02w7zz8   \n\n                                              Movie name Movie release date  \\\n0                                         Ghosts of Mars         2001-08-24   \n1      Getting Away with Murder: The JonBenét Ramsey ...         2000-02-16   \n2                                            Brun bitter               1988   \n3                                       White Of The Eye               1987   \n4                                      A Woman in Flames               1983   \n...                                                  ...                ...   \n81736                           Mermaids: The Body Found         2011-03-19   \n81737                                            Knuckle         2011-01-21   \n81738                                  Another Nice Mess         1972-09-22   \n81739  The Super Dimension Fortress Macross II: Lover...         1992-05-21   \n81740                                            Spliced               2002   \n\n       Movie box office revenue  Movie runtime  \\\n0                    14010832.0           98.0   \n1                           NaN           95.0   \n2                           NaN           83.0   \n3                           NaN          110.0   \n4                           NaN          106.0   \n...                         ...            ...   \n81736                       NaN          120.0   \n81737                       NaN           96.0   \n81738                       NaN           66.0   \n81739                       NaN          150.0   \n81740                       NaN           86.0   \n\n                          Movie languages  \\\n0      {\"/m/02h40lc\": \"English Language\"}   \n1      {\"/m/02h40lc\": \"English Language\"}   \n2      {\"/m/05f_3\": \"Norwegian Language\"}   \n3      {\"/m/02h40lc\": \"English Language\"}   \n4       {\"/m/04306rv\": \"German Language\"}   \n...                                   ...   \n81736  {\"/m/02h40lc\": \"English Language\"}   \n81737  {\"/m/02h40lc\": \"English Language\"}   \n81738  {\"/m/02h40lc\": \"English Language\"}   \n81739   {\"/m/03_9r\": \"Japanese Language\"}   \n81740  {\"/m/02h40lc\": \"English Language\"}   \n\n                                         Movie countries  \\\n0              {\"/m/09c7w0\": \"United States of America\"}   \n1              {\"/m/09c7w0\": \"United States of America\"}   \n2                                 {\"/m/05b4w\": \"Norway\"}   \n3                         {\"/m/07ssc\": \"United Kingdom\"}   \n4                                {\"/m/0345h\": \"Germany\"}   \n...                                                  ...   \n81736          {\"/m/09c7w0\": \"United States of America\"}   \n81737  {\"/m/03rt9\": \"Ireland\", \"/m/07ssc\": \"United Ki...   \n81738          {\"/m/09c7w0\": \"United States of America\"}   \n81739                              {\"/m/03_3d\": \"Japan\"}   \n81740                            {\"/m/0d060g\": \"Canada\"}   \n\n                                            Movie genres   TMDB_id  \\\n0      {\"/m/01jfsb\": \"Thriller\", \"/m/06n90\": \"Science...   10016.0   \n1      {\"/m/02n4kr\": \"Mystery\", \"/m/03bxz7\": \"Biograp...  784579.0   \n2      {\"/m/0lsxr\": \"Crime Fiction\", \"/m/07s9rl0\": \"D...  396302.0   \n3      {\"/m/01jfsb\": \"Thriller\", \"/m/0glj9q\": \"Erotic...   33592.0   \n4                                {\"/m/07s9rl0\": \"Drama\"}   11192.0   \n...                                                  ...       ...   \n81736                            {\"/m/07s9rl0\": \"Drama\"}  117124.0   \n81737  {\"/m/03bxz7\": \"Biographical film\", \"/m/07s9rl0...   44946.0   \n81738       {\"/m/06nbt\": \"Satire\", \"/m/01z4y\": \"Comedy\"}  285337.0   \n81739  {\"/m/06n90\": \"Science Fiction\", \"/m/0gw5n2f\": ...       NaN   \n81740  {\"/m/01jfsb\": \"Thriller\", \"/m/03npn\": \"Horror\"...  344309.0   \n\n      TMDB_original_language  \\\n0                         en   \n1                         en   \n2                         no   \n3                         en   \n4                         de   \n...                      ...   \n81736                     en   \n81737                     en   \n81738                     en   \n81739                    NaN   \n81740                     en   \n\n                                     TMDB_original_title  \\\n0                                         Ghosts of Mars   \n1      Getting Away with Murder: The JonBenét Ramsey ...   \n2                                            Brun bitter   \n3                                       White of the Eye   \n4                                    Die flambierte Frau   \n...                                                  ...   \n81736                           Mermaids: The Body Found   \n81737                                        Knucklehead   \n81738                                  Another Nice Mess   \n81739                                                NaN   \n81740                                     Nearly Spliced   \n\n                                           TMDB_overview  TMDB_popularity  \\\n0      In 2176, a Martian police unit is sent to pick...           17.280   \n1      Dramatization of the story behind the murder o...            0.750   \n2      A stolen bicycle case ends with drunken detect...            0.600   \n3      In a wealthy and isolated desert community, a ...            7.336   \n4      Eva, an upper-class housewife, frustratedly le...            2.397   \n...                                                  ...              ...   \n81736  A story that imagines how these real-world phe...            5.098   \n81737  A fight promoter deeply in debt to his crooked...            9.789   \n81738        Nixon and Agnew played as Laurel and Hardy.            1.960   \n81739                                                NaN              NaN   \n81740  Leon Errol is a befuddled bridegroom about to ...            0.949   \n\n      TMDB_release_date                                         TMDB_title  \\\n0            2001-08-24                                     Ghosts of Mars   \n1            2000-02-16  Getting Away with Murder: The JonBenét Ramsey ...   \n2            1988-11-17                                    Hair of the Dog   \n3            1987-06-19                                   White of the Eye   \n4            1983-05-11                                  A Woman in Flames   \n...                 ...                                                ...   \n81736        2011-03-19                           Mermaids: The Body Found   \n81737        2010-10-22                                        Knucklehead   \n81738        1972-08-23                                  Another Nice Mess   \n81739               NaN                                                NaN   \n81740        1921-06-11                                     Nearly Spliced   \n\n       TMDB_vote_average  TMDB_vote_count  \n0                  5.123            980.0  \n1                  8.000              1.0  \n2                  0.000              0.0  \n3                  5.742             64.0  \n4                  5.300             13.0  \n...                  ...              ...  \n81736              4.500             20.0  \n81737              5.500             50.0  \n81738              0.000              0.0  \n81739                NaN              NaN  \n81740              6.000              1.0  \n\n[81741 rows x 18 columns]",
      "text/html": "<div>\n<style scoped>\n    .dataframe tbody tr th:only-of-type {\n        vertical-align: middle;\n    }\n\n    .dataframe tbody tr th {\n        vertical-align: top;\n    }\n\n    .dataframe thead th {\n        text-align: right;\n    }\n</style>\n<table border=\"1\" class=\"dataframe\">\n  <thead>\n    <tr style=\"text-align: right;\">\n      <th></th>\n      <th>Wikipedia Movie ID</th>\n      <th>Freebase Movie ID</th>\n      <th>Movie name</th>\n      <th>Movie release date</th>\n      <th>Movie box office revenue</th>\n      <th>Movie runtime</th>\n      <th>Movie languages</th>\n      <th>Movie countries</th>\n      <th>Movie genres</th>\n      <th>TMDB_id</th>\n      <th>TMDB_original_language</th>\n      <th>TMDB_original_title</th>\n      <th>TMDB_overview</th>\n      <th>TMDB_popularity</th>\n      <th>TMDB_release_date</th>\n      <th>TMDB_title</th>\n      <th>TMDB_vote_average</th>\n      <th>TMDB_vote_count</th>\n    </tr>\n  </thead>\n  <tbody>\n    <tr>\n      <th>0</th>\n      <td>975900</td>\n      <td>/m/03vyhn</td>\n      <td>Ghosts of Mars</td>\n      <td>2001-08-24</td>\n      <td>14010832.0</td>\n      <td>98.0</td>\n      <td>{\"/m/02h40lc\": \"English Language\"}</td>\n      <td>{\"/m/09c7w0\": \"United States of America\"}</td>\n      <td>{\"/m/01jfsb\": \"Thriller\", \"/m/06n90\": \"Science...</td>\n      <td>10016.0</td>\n      <td>en</td>\n      <td>Ghosts of Mars</td>\n      <td>In 2176, a Martian police unit is sent to pick...</td>\n      <td>17.280</td>\n      <td>2001-08-24</td>\n      <td>Ghosts of Mars</td>\n      <td>5.123</td>\n      <td>980.0</td>\n    </tr>\n    <tr>\n      <th>1</th>\n      <td>3196793</td>\n      <td>/m/08yl5d</td>\n      <td>Getting Away with Murder: The JonBenét Ramsey ...</td>\n      <td>2000-02-16</td>\n      <td>NaN</td>\n      <td>95.0</td>\n      <td>{\"/m/02h40lc\": \"English Language\"}</td>\n      <td>{\"/m/09c7w0\": \"United States of America\"}</td>\n      <td>{\"/m/02n4kr\": \"Mystery\", \"/m/03bxz7\": \"Biograp...</td>\n      <td>784579.0</td>\n      <td>en</td>\n      <td>Getting Away with Murder: The JonBenét Ramsey ...</td>\n      <td>Dramatization of the story behind the murder o...</td>\n      <td>0.750</td>\n      <td>2000-02-16</td>\n      <td>Getting Away with Murder: The JonBenét Ramsey ...</td>\n      <td>8.000</td>\n      <td>1.0</td>\n    </tr>\n    <tr>\n      <th>2</th>\n      <td>28463795</td>\n      <td>/m/0crgdbh</td>\n      <td>Brun bitter</td>\n      <td>1988</td>\n      <td>NaN</td>\n      <td>83.0</td>\n      <td>{\"/m/05f_3\": \"Norwegian Language\"}</td>\n      <td>{\"/m/05b4w\": \"Norway\"}</td>\n      <td>{\"/m/0lsxr\": \"Crime Fiction\", \"/m/07s9rl0\": \"D...</td>\n      <td>396302.0</td>\n      <td>no</td>\n      <td>Brun bitter</td>\n      <td>A stolen bicycle case ends with drunken detect...</td>\n      <td>0.600</td>\n      <td>1988-11-17</td>\n      <td>Hair of the Dog</td>\n      <td>0.000</td>\n      <td>0.0</td>\n    </tr>\n    <tr>\n      <th>3</th>\n      <td>9363483</td>\n      <td>/m/0285_cd</td>\n      <td>White Of The Eye</td>\n      <td>1987</td>\n      <td>NaN</td>\n      <td>110.0</td>\n      <td>{\"/m/02h40lc\": \"English Language\"}</td>\n      <td>{\"/m/07ssc\": \"United Kingdom\"}</td>\n      <td>{\"/m/01jfsb\": \"Thriller\", \"/m/0glj9q\": \"Erotic...</td>\n      <td>33592.0</td>\n      <td>en</td>\n      <td>White of the Eye</td>\n      <td>In a wealthy and isolated desert community, a ...</td>\n      <td>7.336</td>\n      <td>1987-06-19</td>\n      <td>White of the Eye</td>\n      <td>5.742</td>\n      <td>64.0</td>\n    </tr>\n    <tr>\n      <th>4</th>\n      <td>261236</td>\n      <td>/m/01mrr1</td>\n      <td>A Woman in Flames</td>\n      <td>1983</td>\n      <td>NaN</td>\n      <td>106.0</td>\n      <td>{\"/m/04306rv\": \"German Language\"}</td>\n      <td>{\"/m/0345h\": \"Germany\"}</td>\n      <td>{\"/m/07s9rl0\": \"Drama\"}</td>\n      <td>11192.0</td>\n      <td>de</td>\n      <td>Die flambierte Frau</td>\n      <td>Eva, an upper-class housewife, frustratedly le...</td>\n      <td>2.397</td>\n      <td>1983-05-11</td>\n      <td>A Woman in Flames</td>\n      <td>5.300</td>\n      <td>13.0</td>\n    </tr>\n    <tr>\n      <th>...</th>\n      <td>...</td>\n      <td>...</td>\n      <td>...</td>\n      <td>...</td>\n      <td>...</td>\n      <td>...</td>\n      <td>...</td>\n      <td>...</td>\n      <td>...</td>\n      <td>...</td>\n      <td>...</td>\n      <td>...</td>\n      <td>...</td>\n      <td>...</td>\n      <td>...</td>\n      <td>...</td>\n      <td>...</td>\n      <td>...</td>\n    </tr>\n    <tr>\n      <th>81736</th>\n      <td>35228177</td>\n      <td>/m/0j7hxnt</td>\n      <td>Mermaids: The Body Found</td>\n      <td>2011-03-19</td>\n      <td>NaN</td>\n      <td>120.0</td>\n      <td>{\"/m/02h40lc\": \"English Language\"}</td>\n      <td>{\"/m/09c7w0\": \"United States of America\"}</td>\n      <td>{\"/m/07s9rl0\": \"Drama\"}</td>\n      <td>117124.0</td>\n      <td>en</td>\n      <td>Mermaids: The Body Found</td>\n      <td>A story that imagines how these real-world phe...</td>\n      <td>5.098</td>\n      <td>2011-03-19</td>\n      <td>Mermaids: The Body Found</td>\n      <td>4.500</td>\n      <td>20.0</td>\n    </tr>\n    <tr>\n      <th>81737</th>\n      <td>34980460</td>\n      <td>/m/0g4pl34</td>\n      <td>Knuckle</td>\n      <td>2011-01-21</td>\n      <td>NaN</td>\n      <td>96.0</td>\n      <td>{\"/m/02h40lc\": \"English Language\"}</td>\n      <td>{\"/m/03rt9\": \"Ireland\", \"/m/07ssc\": \"United Ki...</td>\n      <td>{\"/m/03bxz7\": \"Biographical film\", \"/m/07s9rl0...</td>\n      <td>44946.0</td>\n      <td>en</td>\n      <td>Knucklehead</td>\n      <td>A fight promoter deeply in debt to his crooked...</td>\n      <td>9.789</td>\n      <td>2010-10-22</td>\n      <td>Knucklehead</td>\n      <td>5.500</td>\n      <td>50.0</td>\n    </tr>\n    <tr>\n      <th>81738</th>\n      <td>9971909</td>\n      <td>/m/02pygw1</td>\n      <td>Another Nice Mess</td>\n      <td>1972-09-22</td>\n      <td>NaN</td>\n      <td>66.0</td>\n      <td>{\"/m/02h40lc\": \"English Language\"}</td>\n      <td>{\"/m/09c7w0\": \"United States of America\"}</td>\n      <td>{\"/m/06nbt\": \"Satire\", \"/m/01z4y\": \"Comedy\"}</td>\n      <td>285337.0</td>\n      <td>en</td>\n      <td>Another Nice Mess</td>\n      <td>Nixon and Agnew played as Laurel and Hardy.</td>\n      <td>1.960</td>\n      <td>1972-08-23</td>\n      <td>Another Nice Mess</td>\n      <td>0.000</td>\n      <td>0.0</td>\n    </tr>\n    <tr>\n      <th>81739</th>\n      <td>913762</td>\n      <td>/m/03pcrp</td>\n      <td>The Super Dimension Fortress Macross II: Lover...</td>\n      <td>1992-05-21</td>\n      <td>NaN</td>\n      <td>150.0</td>\n      <td>{\"/m/03_9r\": \"Japanese Language\"}</td>\n      <td>{\"/m/03_3d\": \"Japan\"}</td>\n      <td>{\"/m/06n90\": \"Science Fiction\", \"/m/0gw5n2f\": ...</td>\n      <td>NaN</td>\n      <td>NaN</td>\n      <td>NaN</td>\n      <td>NaN</td>\n      <td>NaN</td>\n      <td>NaN</td>\n      <td>NaN</td>\n      <td>NaN</td>\n      <td>NaN</td>\n    </tr>\n    <tr>\n      <th>81740</th>\n      <td>12476867</td>\n      <td>/m/02w7zz8</td>\n      <td>Spliced</td>\n      <td>2002</td>\n      <td>NaN</td>\n      <td>86.0</td>\n      <td>{\"/m/02h40lc\": \"English Language\"}</td>\n      <td>{\"/m/0d060g\": \"Canada\"}</td>\n      <td>{\"/m/01jfsb\": \"Thriller\", \"/m/03npn\": \"Horror\"...</td>\n      <td>344309.0</td>\n      <td>en</td>\n      <td>Nearly Spliced</td>\n      <td>Leon Errol is a befuddled bridegroom about to ...</td>\n      <td>0.949</td>\n      <td>1921-06-11</td>\n      <td>Nearly Spliced</td>\n      <td>6.000</td>\n      <td>1.0</td>\n    </tr>\n  </tbody>\n</table>\n<p>81741 rows × 18 columns</p>\n</div>"
     },
     "metadata": {},
     "output_type": "display_data"
    },
    {
     "data": {
      "text/plain": "       Wikipedia Movie ID Freebase Movie ID  \\\n0                  975900         /m/03vyhn   \n1                 3196793         /m/08yl5d   \n2                28463795        /m/0crgdbh   \n3                 9363483        /m/0285_cd   \n4                  261236         /m/01mrr1   \n...                   ...               ...   \n68939            32468537        /m/0crwd9y   \n68940            35228177        /m/0j7hxnt   \n68941            34980460        /m/0g4pl34   \n68942             9971909        /m/02pygw1   \n68943            12476867        /m/02w7zz8   \n\n                                              Movie name Movie release date  \\\n0                                         Ghosts of Mars         2001-08-24   \n1      Getting Away with Murder: The JonBenét Ramsey ...         2000-02-16   \n2                                            Brun bitter               1988   \n3                                       White Of The Eye               1987   \n4                                      A Woman in Flames               1983   \n...                                                  ...                ...   \n68939                                    Shadow Boxing 2         2007-10-18   \n68940                           Mermaids: The Body Found         2011-03-19   \n68941                                            Knuckle         2011-01-21   \n68942                                  Another Nice Mess         1972-09-22   \n68943                                            Spliced               2002   \n\n       Movie box office revenue  Movie runtime  \\\n0                    14010832.0           98.0   \n1                           NaN           95.0   \n2                           NaN           83.0   \n3                           NaN          110.0   \n4                           NaN          106.0   \n...                         ...            ...   \n68939                       NaN          132.0   \n68940                       NaN          120.0   \n68941                       NaN           96.0   \n68942                       NaN           66.0   \n68943                       NaN           86.0   \n\n                                         Movie languages  \\\n0                     {\"/m/02h40lc\": \"English Language\"}   \n1                     {\"/m/02h40lc\": \"English Language\"}   \n2                     {\"/m/05f_3\": \"Norwegian Language\"}   \n3                     {\"/m/02h40lc\": \"English Language\"}   \n4                      {\"/m/04306rv\": \"German Language\"}   \n...                                                  ...   \n68939  {\"/m/06b_j\": \"Russian Language\", \"/m/02h40lc\":...   \n68940                 {\"/m/02h40lc\": \"English Language\"}   \n68941                 {\"/m/02h40lc\": \"English Language\"}   \n68942                 {\"/m/02h40lc\": \"English Language\"}   \n68943                 {\"/m/02h40lc\": \"English Language\"}   \n\n                                         Movie countries  \\\n0              {\"/m/09c7w0\": \"United States of America\"}   \n1              {\"/m/09c7w0\": \"United States of America\"}   \n2                                 {\"/m/05b4w\": \"Norway\"}   \n3                         {\"/m/07ssc\": \"United Kingdom\"}   \n4                                {\"/m/0345h\": \"Germany\"}   \n...                                                  ...   \n68939                             {\"/m/06bnz\": \"Russia\"}   \n68940          {\"/m/09c7w0\": \"United States of America\"}   \n68941  {\"/m/03rt9\": \"Ireland\", \"/m/07ssc\": \"United Ki...   \n68942          {\"/m/09c7w0\": \"United States of America\"}   \n68943                            {\"/m/0d060g\": \"Canada\"}   \n\n                                            Movie genres   TMDB_id  ...  \\\n0      {\"/m/01jfsb\": \"Thriller\", \"/m/06n90\": \"Science...   10016.0  ...   \n1      {\"/m/02n4kr\": \"Mystery\", \"/m/03bxz7\": \"Biograp...  784579.0  ...   \n2      {\"/m/0lsxr\": \"Crime Fiction\", \"/m/07s9rl0\": \"D...  396302.0  ...   \n3      {\"/m/01jfsb\": \"Thriller\", \"/m/0glj9q\": \"Erotic...   33592.0  ...   \n4                                {\"/m/07s9rl0\": \"Drama\"}   11192.0  ...   \n...                                                  ...       ...  ...   \n68939  {\"/m/01z02hx\": \"Sports\", \"/m/0lsxr\": \"Crime Fi...   56525.0  ...   \n68940                            {\"/m/07s9rl0\": \"Drama\"}  117124.0  ...   \n68941  {\"/m/03bxz7\": \"Biographical film\", \"/m/07s9rl0...   44946.0  ...   \n68942       {\"/m/06nbt\": \"Satire\", \"/m/01z4y\": \"Comedy\"}  285337.0  ...   \n68943  {\"/m/01jfsb\": \"Thriller\", \"/m/03npn\": \"Horror\"...  344309.0  ...   \n\n      TMDB_popularity TMDB_release_date  \\\n0              17.280        2001-08-24   \n1               0.750        2000-02-16   \n2               0.600        1988-11-17   \n3               7.336        1987-06-19   \n4               2.397        1983-05-11   \n...               ...               ...   \n68939           4.421        2007-10-18   \n68940           5.098        2011-03-19   \n68941           9.789        2010-10-22   \n68942           1.960        1972-08-23   \n68943           0.949        1921-06-11   \n\n                                              TMDB_title  TMDB_vote_average  \\\n0                                         Ghosts of Mars              5.123   \n1      Getting Away with Murder: The JonBenét Ramsey ...              8.000   \n2                                        Hair of the Dog              0.000   \n3                                       White of the Eye              5.742   \n4                                      A Woman in Flames              5.300   \n...                                                  ...                ...   \n68939                                            Revenge              5.607   \n68940                           Mermaids: The Body Found              4.500   \n68941                                        Knucklehead              5.500   \n68942                                  Another Nice Mess              0.000   \n68943                                     Nearly Spliced              6.000   \n\n      TMDB_vote_count TMDB_runtime  TMDB_revenue  TMDB_budget  TMDB_IMDB_id  \\\n0               980.0         98.0    14010832.0   28000000.0     tt0228333   \n1                 1.0         60.0           NaN          0.0     tt0245916   \n2                 0.0         83.0           NaN          0.0     tt0094806   \n3                64.0        111.0           NaN          0.0     tt0094320   \n4                13.0        106.0           NaN          0.0     tt0083949   \n...               ...          ...           ...          ...           ...   \n68939            28.0          NaN           NaN          NaN           NaN   \n68940            20.0          NaN           NaN          NaN           NaN   \n68941            50.0          NaN           NaN          NaN           NaN   \n68942             0.0          NaN           NaN          NaN           NaN   \n68943             1.0          NaN           NaN          NaN           NaN   \n\n                           TMDB_genres  \n0      Action, Horror, Science Fiction  \n1                         Drama, Crime  \n2                Mystery, Crime, Drama  \n3                     Horror, Thriller  \n4                                Drama  \n...                                ...  \n68939                              NaN  \n68940                              NaN  \n68941                              NaN  \n68942                              NaN  \n68943                              NaN  \n\n[68944 rows x 23 columns]",
      "text/html": "<div>\n<style scoped>\n    .dataframe tbody tr th:only-of-type {\n        vertical-align: middle;\n    }\n\n    .dataframe tbody tr th {\n        vertical-align: top;\n    }\n\n    .dataframe thead th {\n        text-align: right;\n    }\n</style>\n<table border=\"1\" class=\"dataframe\">\n  <thead>\n    <tr style=\"text-align: right;\">\n      <th></th>\n      <th>Wikipedia Movie ID</th>\n      <th>Freebase Movie ID</th>\n      <th>Movie name</th>\n      <th>Movie release date</th>\n      <th>Movie box office revenue</th>\n      <th>Movie runtime</th>\n      <th>Movie languages</th>\n      <th>Movie countries</th>\n      <th>Movie genres</th>\n      <th>TMDB_id</th>\n      <th>...</th>\n      <th>TMDB_popularity</th>\n      <th>TMDB_release_date</th>\n      <th>TMDB_title</th>\n      <th>TMDB_vote_average</th>\n      <th>TMDB_vote_count</th>\n      <th>TMDB_runtime</th>\n      <th>TMDB_revenue</th>\n      <th>TMDB_budget</th>\n      <th>TMDB_IMDB_id</th>\n      <th>TMDB_genres</th>\n    </tr>\n  </thead>\n  <tbody>\n    <tr>\n      <th>0</th>\n      <td>975900</td>\n      <td>/m/03vyhn</td>\n      <td>Ghosts of Mars</td>\n      <td>2001-08-24</td>\n      <td>14010832.0</td>\n      <td>98.0</td>\n      <td>{\"/m/02h40lc\": \"English Language\"}</td>\n      <td>{\"/m/09c7w0\": \"United States of America\"}</td>\n      <td>{\"/m/01jfsb\": \"Thriller\", \"/m/06n90\": \"Science...</td>\n      <td>10016.0</td>\n      <td>...</td>\n      <td>17.280</td>\n      <td>2001-08-24</td>\n      <td>Ghosts of Mars</td>\n      <td>5.123</td>\n      <td>980.0</td>\n      <td>98.0</td>\n      <td>14010832.0</td>\n      <td>28000000.0</td>\n      <td>tt0228333</td>\n      <td>Action, Horror, Science Fiction</td>\n    </tr>\n    <tr>\n      <th>1</th>\n      <td>3196793</td>\n      <td>/m/08yl5d</td>\n      <td>Getting Away with Murder: The JonBenét Ramsey ...</td>\n      <td>2000-02-16</td>\n      <td>NaN</td>\n      <td>95.0</td>\n      <td>{\"/m/02h40lc\": \"English Language\"}</td>\n      <td>{\"/m/09c7w0\": \"United States of America\"}</td>\n      <td>{\"/m/02n4kr\": \"Mystery\", \"/m/03bxz7\": \"Biograp...</td>\n      <td>784579.0</td>\n      <td>...</td>\n      <td>0.750</td>\n      <td>2000-02-16</td>\n      <td>Getting Away with Murder: The JonBenét Ramsey ...</td>\n      <td>8.000</td>\n      <td>1.0</td>\n      <td>60.0</td>\n      <td>NaN</td>\n      <td>0.0</td>\n      <td>tt0245916</td>\n      <td>Drama, Crime</td>\n    </tr>\n    <tr>\n      <th>2</th>\n      <td>28463795</td>\n      <td>/m/0crgdbh</td>\n      <td>Brun bitter</td>\n      <td>1988</td>\n      <td>NaN</td>\n      <td>83.0</td>\n      <td>{\"/m/05f_3\": \"Norwegian Language\"}</td>\n      <td>{\"/m/05b4w\": \"Norway\"}</td>\n      <td>{\"/m/0lsxr\": \"Crime Fiction\", \"/m/07s9rl0\": \"D...</td>\n      <td>396302.0</td>\n      <td>...</td>\n      <td>0.600</td>\n      <td>1988-11-17</td>\n      <td>Hair of the Dog</td>\n      <td>0.000</td>\n      <td>0.0</td>\n      <td>83.0</td>\n      <td>NaN</td>\n      <td>0.0</td>\n      <td>tt0094806</td>\n      <td>Mystery, Crime, Drama</td>\n    </tr>\n    <tr>\n      <th>3</th>\n      <td>9363483</td>\n      <td>/m/0285_cd</td>\n      <td>White Of The Eye</td>\n      <td>1987</td>\n      <td>NaN</td>\n      <td>110.0</td>\n      <td>{\"/m/02h40lc\": \"English Language\"}</td>\n      <td>{\"/m/07ssc\": \"United Kingdom\"}</td>\n      <td>{\"/m/01jfsb\": \"Thriller\", \"/m/0glj9q\": \"Erotic...</td>\n      <td>33592.0</td>\n      <td>...</td>\n      <td>7.336</td>\n      <td>1987-06-19</td>\n      <td>White of the Eye</td>\n      <td>5.742</td>\n      <td>64.0</td>\n      <td>111.0</td>\n      <td>NaN</td>\n      <td>0.0</td>\n      <td>tt0094320</td>\n      <td>Horror, Thriller</td>\n    </tr>\n    <tr>\n      <th>4</th>\n      <td>261236</td>\n      <td>/m/01mrr1</td>\n      <td>A Woman in Flames</td>\n      <td>1983</td>\n      <td>NaN</td>\n      <td>106.0</td>\n      <td>{\"/m/04306rv\": \"German Language\"}</td>\n      <td>{\"/m/0345h\": \"Germany\"}</td>\n      <td>{\"/m/07s9rl0\": \"Drama\"}</td>\n      <td>11192.0</td>\n      <td>...</td>\n      <td>2.397</td>\n      <td>1983-05-11</td>\n      <td>A Woman in Flames</td>\n      <td>5.300</td>\n      <td>13.0</td>\n      <td>106.0</td>\n      <td>NaN</td>\n      <td>0.0</td>\n      <td>tt0083949</td>\n      <td>Drama</td>\n    </tr>\n    <tr>\n      <th>...</th>\n      <td>...</td>\n      <td>...</td>\n      <td>...</td>\n      <td>...</td>\n      <td>...</td>\n      <td>...</td>\n      <td>...</td>\n      <td>...</td>\n      <td>...</td>\n      <td>...</td>\n      <td>...</td>\n      <td>...</td>\n      <td>...</td>\n      <td>...</td>\n      <td>...</td>\n      <td>...</td>\n      <td>...</td>\n      <td>...</td>\n      <td>...</td>\n      <td>...</td>\n      <td>...</td>\n    </tr>\n    <tr>\n      <th>68939</th>\n      <td>32468537</td>\n      <td>/m/0crwd9y</td>\n      <td>Shadow Boxing 2</td>\n      <td>2007-10-18</td>\n      <td>NaN</td>\n      <td>132.0</td>\n      <td>{\"/m/06b_j\": \"Russian Language\", \"/m/02h40lc\":...</td>\n      <td>{\"/m/06bnz\": \"Russia\"}</td>\n      <td>{\"/m/01z02hx\": \"Sports\", \"/m/0lsxr\": \"Crime Fi...</td>\n      <td>56525.0</td>\n      <td>...</td>\n      <td>4.421</td>\n      <td>2007-10-18</td>\n      <td>Revenge</td>\n      <td>5.607</td>\n      <td>28.0</td>\n      <td>NaN</td>\n      <td>NaN</td>\n      <td>NaN</td>\n      <td>NaN</td>\n      <td>NaN</td>\n    </tr>\n    <tr>\n      <th>68940</th>\n      <td>35228177</td>\n      <td>/m/0j7hxnt</td>\n      <td>Mermaids: The Body Found</td>\n      <td>2011-03-19</td>\n      <td>NaN</td>\n      <td>120.0</td>\n      <td>{\"/m/02h40lc\": \"English Language\"}</td>\n      <td>{\"/m/09c7w0\": \"United States of America\"}</td>\n      <td>{\"/m/07s9rl0\": \"Drama\"}</td>\n      <td>117124.0</td>\n      <td>...</td>\n      <td>5.098</td>\n      <td>2011-03-19</td>\n      <td>Mermaids: The Body Found</td>\n      <td>4.500</td>\n      <td>20.0</td>\n      <td>NaN</td>\n      <td>NaN</td>\n      <td>NaN</td>\n      <td>NaN</td>\n      <td>NaN</td>\n    </tr>\n    <tr>\n      <th>68941</th>\n      <td>34980460</td>\n      <td>/m/0g4pl34</td>\n      <td>Knuckle</td>\n      <td>2011-01-21</td>\n      <td>NaN</td>\n      <td>96.0</td>\n      <td>{\"/m/02h40lc\": \"English Language\"}</td>\n      <td>{\"/m/03rt9\": \"Ireland\", \"/m/07ssc\": \"United Ki...</td>\n      <td>{\"/m/03bxz7\": \"Biographical film\", \"/m/07s9rl0...</td>\n      <td>44946.0</td>\n      <td>...</td>\n      <td>9.789</td>\n      <td>2010-10-22</td>\n      <td>Knucklehead</td>\n      <td>5.500</td>\n      <td>50.0</td>\n      <td>NaN</td>\n      <td>NaN</td>\n      <td>NaN</td>\n      <td>NaN</td>\n      <td>NaN</td>\n    </tr>\n    <tr>\n      <th>68942</th>\n      <td>9971909</td>\n      <td>/m/02pygw1</td>\n      <td>Another Nice Mess</td>\n      <td>1972-09-22</td>\n      <td>NaN</td>\n      <td>66.0</td>\n      <td>{\"/m/02h40lc\": \"English Language\"}</td>\n      <td>{\"/m/09c7w0\": \"United States of America\"}</td>\n      <td>{\"/m/06nbt\": \"Satire\", \"/m/01z4y\": \"Comedy\"}</td>\n      <td>285337.0</td>\n      <td>...</td>\n      <td>1.960</td>\n      <td>1972-08-23</td>\n      <td>Another Nice Mess</td>\n      <td>0.000</td>\n      <td>0.0</td>\n      <td>NaN</td>\n      <td>NaN</td>\n      <td>NaN</td>\n      <td>NaN</td>\n      <td>NaN</td>\n    </tr>\n    <tr>\n      <th>68943</th>\n      <td>12476867</td>\n      <td>/m/02w7zz8</td>\n      <td>Spliced</td>\n      <td>2002</td>\n      <td>NaN</td>\n      <td>86.0</td>\n      <td>{\"/m/02h40lc\": \"English Language\"}</td>\n      <td>{\"/m/0d060g\": \"Canada\"}</td>\n      <td>{\"/m/01jfsb\": \"Thriller\", \"/m/03npn\": \"Horror\"...</td>\n      <td>344309.0</td>\n      <td>...</td>\n      <td>0.949</td>\n      <td>1921-06-11</td>\n      <td>Nearly Spliced</td>\n      <td>6.000</td>\n      <td>1.0</td>\n      <td>NaN</td>\n      <td>NaN</td>\n      <td>NaN</td>\n      <td>NaN</td>\n      <td>NaN</td>\n    </tr>\n  </tbody>\n</table>\n<p>68944 rows × 23 columns</p>\n</div>"
     },
     "metadata": {},
     "output_type": "display_data"
    },
    {
     "data": {
      "text/plain": "    Wikipedia Movie ID Freebase Movie ID                  Movie name  \\\n33             1364293         /m/04wy0v  They Knew What They Wanted   \n\n   Movie release date  Movie box office revenue  Movie runtime  \\\n33               1940                  932000.0           96.0   \n\n                       Movie languages  \\\n33  {\"/m/02h40lc\": \"English Language\"}   \n\n                              Movie countries  \\\n33  {\"/m/09c7w0\": \"United States of America\"}   \n\n                                         Movie genres  TMDB_id  ...  \\\n33  {\"/m/02l7c8\": \"Romance Film\", \"/m/0hj3nbk\": \"M...  95046.0  ...   \n\n   TMDB_popularity TMDB_release_date                  TMDB_title  \\\n33           2.534        1940-10-19  They Knew What They Wanted   \n\n    TMDB_vote_average TMDB_vote_count TMDB_runtime  TMDB_revenue  TMDB_budget  \\\n33                5.3             5.0         96.0           NaN          0.0   \n\n    TMDB_IMDB_id     TMDB_genres  \n33     tt0033150  Drama, Romance  \n\n[1 rows x 23 columns]",
      "text/html": "<div>\n<style scoped>\n    .dataframe tbody tr th:only-of-type {\n        vertical-align: middle;\n    }\n\n    .dataframe tbody tr th {\n        vertical-align: top;\n    }\n\n    .dataframe thead th {\n        text-align: right;\n    }\n</style>\n<table border=\"1\" class=\"dataframe\">\n  <thead>\n    <tr style=\"text-align: right;\">\n      <th></th>\n      <th>Wikipedia Movie ID</th>\n      <th>Freebase Movie ID</th>\n      <th>Movie name</th>\n      <th>Movie release date</th>\n      <th>Movie box office revenue</th>\n      <th>Movie runtime</th>\n      <th>Movie languages</th>\n      <th>Movie countries</th>\n      <th>Movie genres</th>\n      <th>TMDB_id</th>\n      <th>...</th>\n      <th>TMDB_popularity</th>\n      <th>TMDB_release_date</th>\n      <th>TMDB_title</th>\n      <th>TMDB_vote_average</th>\n      <th>TMDB_vote_count</th>\n      <th>TMDB_runtime</th>\n      <th>TMDB_revenue</th>\n      <th>TMDB_budget</th>\n      <th>TMDB_IMDB_id</th>\n      <th>TMDB_genres</th>\n    </tr>\n  </thead>\n  <tbody>\n    <tr>\n      <th>33</th>\n      <td>1364293</td>\n      <td>/m/04wy0v</td>\n      <td>They Knew What They Wanted</td>\n      <td>1940</td>\n      <td>932000.0</td>\n      <td>96.0</td>\n      <td>{\"/m/02h40lc\": \"English Language\"}</td>\n      <td>{\"/m/09c7w0\": \"United States of America\"}</td>\n      <td>{\"/m/02l7c8\": \"Romance Film\", \"/m/0hj3nbk\": \"M...</td>\n      <td>95046.0</td>\n      <td>...</td>\n      <td>2.534</td>\n      <td>1940-10-19</td>\n      <td>They Knew What They Wanted</td>\n      <td>5.3</td>\n      <td>5.0</td>\n      <td>96.0</td>\n      <td>NaN</td>\n      <td>0.0</td>\n      <td>tt0033150</td>\n      <td>Drama, Romance</td>\n    </tr>\n  </tbody>\n</table>\n<p>1 rows × 23 columns</p>\n</div>"
     },
     "metadata": {},
     "output_type": "display_data"
    },
    {
     "data": {
      "text/plain": "       Wikipedia Movie ID Freebase Movie ID  \\\n0                  975900         /m/03vyhn   \n1                 3196793         /m/08yl5d   \n2                28463795        /m/0crgdbh   \n3                 9363483        /m/0285_cd   \n4                  261236         /m/01mrr1   \n...                   ...               ...   \n81736            35228177        /m/0j7hxnt   \n81737            34980460        /m/0g4pl34   \n81738             9971909        /m/02pygw1   \n81739              913762         /m/03pcrp   \n81740            12476867        /m/02w7zz8   \n\n                                              Movie name Movie release date  \\\n0                                         Ghosts of Mars         2001-08-24   \n1      Getting Away with Murder: The JonBenét Ramsey ...         2000-02-16   \n2                                            Brun bitter               1988   \n3                                       White Of The Eye               1987   \n4                                      A Woman in Flames               1983   \n...                                                  ...                ...   \n81736                           Mermaids: The Body Found         2011-03-19   \n81737                                            Knuckle         2011-01-21   \n81738                                  Another Nice Mess         1972-09-22   \n81739  The Super Dimension Fortress Macross II: Lover...         1992-05-21   \n81740                                            Spliced               2002   \n\n       Movie box office revenue  Movie runtime  \\\n0                    14010832.0           98.0   \n1                           NaN           95.0   \n2                           NaN           83.0   \n3                           NaN          110.0   \n4                           NaN          106.0   \n...                         ...            ...   \n81736                       NaN          120.0   \n81737                       NaN           96.0   \n81738                       NaN           66.0   \n81739                       NaN          150.0   \n81740                       NaN           86.0   \n\n                          Movie languages  \\\n0      {\"/m/02h40lc\": \"English Language\"}   \n1      {\"/m/02h40lc\": \"English Language\"}   \n2      {\"/m/05f_3\": \"Norwegian Language\"}   \n3      {\"/m/02h40lc\": \"English Language\"}   \n4       {\"/m/04306rv\": \"German Language\"}   \n...                                   ...   \n81736  {\"/m/02h40lc\": \"English Language\"}   \n81737  {\"/m/02h40lc\": \"English Language\"}   \n81738  {\"/m/02h40lc\": \"English Language\"}   \n81739   {\"/m/03_9r\": \"Japanese Language\"}   \n81740  {\"/m/02h40lc\": \"English Language\"}   \n\n                                         Movie countries  \\\n0              {\"/m/09c7w0\": \"United States of America\"}   \n1              {\"/m/09c7w0\": \"United States of America\"}   \n2                                 {\"/m/05b4w\": \"Norway\"}   \n3                         {\"/m/07ssc\": \"United Kingdom\"}   \n4                                {\"/m/0345h\": \"Germany\"}   \n...                                                  ...   \n81736          {\"/m/09c7w0\": \"United States of America\"}   \n81737  {\"/m/03rt9\": \"Ireland\", \"/m/07ssc\": \"United Ki...   \n81738          {\"/m/09c7w0\": \"United States of America\"}   \n81739                              {\"/m/03_3d\": \"Japan\"}   \n81740                            {\"/m/0d060g\": \"Canada\"}   \n\n                                            Movie genres   TMDB_id  ...  \\\n0      {\"/m/01jfsb\": \"Thriller\", \"/m/06n90\": \"Science...   10016.0  ...   \n1      {\"/m/02n4kr\": \"Mystery\", \"/m/03bxz7\": \"Biograp...  784579.0  ...   \n2      {\"/m/0lsxr\": \"Crime Fiction\", \"/m/07s9rl0\": \"D...  396302.0  ...   \n3      {\"/m/01jfsb\": \"Thriller\", \"/m/0glj9q\": \"Erotic...   33592.0  ...   \n4                                {\"/m/07s9rl0\": \"Drama\"}   11192.0  ...   \n...                                                  ...       ...  ...   \n81736                            {\"/m/07s9rl0\": \"Drama\"}  117124.0  ...   \n81737  {\"/m/03bxz7\": \"Biographical film\", \"/m/07s9rl0...   44946.0  ...   \n81738       {\"/m/06nbt\": \"Satire\", \"/m/01z4y\": \"Comedy\"}  285337.0  ...   \n81739  {\"/m/06n90\": \"Science Fiction\", \"/m/0gw5n2f\": ...       NaN  ...   \n81740  {\"/m/01jfsb\": \"Thriller\", \"/m/03npn\": \"Horror\"...  344309.0  ...   \n\n      TMDB_popularity TMDB_release_date  \\\n0              17.280        2001-08-24   \n1               0.750        2000-02-16   \n2               0.600        1988-11-17   \n3               7.336        1987-06-19   \n4               2.397        1983-05-11   \n...               ...               ...   \n81736           5.098        2011-03-19   \n81737           9.789        2010-10-22   \n81738           1.960        1972-08-23   \n81739             NaN               NaN   \n81740           0.949        1921-06-11   \n\n                                              TMDB_title  TMDB_vote_average  \\\n0                                         Ghosts of Mars              5.123   \n1      Getting Away with Murder: The JonBenét Ramsey ...              8.000   \n2                                        Hair of the Dog              0.000   \n3                                       White of the Eye              5.742   \n4                                      A Woman in Flames              5.300   \n...                                                  ...                ...   \n81736                           Mermaids: The Body Found              4.500   \n81737                                        Knucklehead              5.500   \n81738                                  Another Nice Mess              0.000   \n81739                                                NaN                NaN   \n81740                                     Nearly Spliced              6.000   \n\n      TMDB_vote_count TMDB_runtime  TMDB_revenue  TMDB_budget  TMDB_IMDB_id  \\\n0               980.0         98.0    14010832.0   28000000.0     tt0228333   \n1                 1.0         60.0           NaN          0.0     tt0245916   \n2                 0.0         83.0           NaN          0.0     tt0094806   \n3                64.0        111.0           NaN          0.0     tt0094320   \n4                13.0        106.0           NaN          0.0     tt0083949   \n...               ...          ...           ...          ...           ...   \n81736            20.0          NaN           NaN          NaN           NaN   \n81737            50.0          NaN           NaN          NaN           NaN   \n81738             0.0          NaN           NaN          NaN           NaN   \n81739             NaN          NaN           NaN          NaN           NaN   \n81740             1.0          NaN           NaN          NaN           NaN   \n\n                           TMDB_genres  \n0      Action, Horror, Science Fiction  \n1                         Drama, Crime  \n2                Mystery, Crime, Drama  \n3                     Horror, Thriller  \n4                                Drama  \n...                                ...  \n81736                              NaN  \n81737                              NaN  \n81738                              NaN  \n81739                              NaN  \n81740                              NaN  \n\n[81741 rows x 23 columns]",
      "text/html": "<div>\n<style scoped>\n    .dataframe tbody tr th:only-of-type {\n        vertical-align: middle;\n    }\n\n    .dataframe tbody tr th {\n        vertical-align: top;\n    }\n\n    .dataframe thead th {\n        text-align: right;\n    }\n</style>\n<table border=\"1\" class=\"dataframe\">\n  <thead>\n    <tr style=\"text-align: right;\">\n      <th></th>\n      <th>Wikipedia Movie ID</th>\n      <th>Freebase Movie ID</th>\n      <th>Movie name</th>\n      <th>Movie release date</th>\n      <th>Movie box office revenue</th>\n      <th>Movie runtime</th>\n      <th>Movie languages</th>\n      <th>Movie countries</th>\n      <th>Movie genres</th>\n      <th>TMDB_id</th>\n      <th>...</th>\n      <th>TMDB_popularity</th>\n      <th>TMDB_release_date</th>\n      <th>TMDB_title</th>\n      <th>TMDB_vote_average</th>\n      <th>TMDB_vote_count</th>\n      <th>TMDB_runtime</th>\n      <th>TMDB_revenue</th>\n      <th>TMDB_budget</th>\n      <th>TMDB_IMDB_id</th>\n      <th>TMDB_genres</th>\n    </tr>\n  </thead>\n  <tbody>\n    <tr>\n      <th>0</th>\n      <td>975900</td>\n      <td>/m/03vyhn</td>\n      <td>Ghosts of Mars</td>\n      <td>2001-08-24</td>\n      <td>14010832.0</td>\n      <td>98.0</td>\n      <td>{\"/m/02h40lc\": \"English Language\"}</td>\n      <td>{\"/m/09c7w0\": \"United States of America\"}</td>\n      <td>{\"/m/01jfsb\": \"Thriller\", \"/m/06n90\": \"Science...</td>\n      <td>10016.0</td>\n      <td>...</td>\n      <td>17.280</td>\n      <td>2001-08-24</td>\n      <td>Ghosts of Mars</td>\n      <td>5.123</td>\n      <td>980.0</td>\n      <td>98.0</td>\n      <td>14010832.0</td>\n      <td>28000000.0</td>\n      <td>tt0228333</td>\n      <td>Action, Horror, Science Fiction</td>\n    </tr>\n    <tr>\n      <th>1</th>\n      <td>3196793</td>\n      <td>/m/08yl5d</td>\n      <td>Getting Away with Murder: The JonBenét Ramsey ...</td>\n      <td>2000-02-16</td>\n      <td>NaN</td>\n      <td>95.0</td>\n      <td>{\"/m/02h40lc\": \"English Language\"}</td>\n      <td>{\"/m/09c7w0\": \"United States of America\"}</td>\n      <td>{\"/m/02n4kr\": \"Mystery\", \"/m/03bxz7\": \"Biograp...</td>\n      <td>784579.0</td>\n      <td>...</td>\n      <td>0.750</td>\n      <td>2000-02-16</td>\n      <td>Getting Away with Murder: The JonBenét Ramsey ...</td>\n      <td>8.000</td>\n      <td>1.0</td>\n      <td>60.0</td>\n      <td>NaN</td>\n      <td>0.0</td>\n      <td>tt0245916</td>\n      <td>Drama, Crime</td>\n    </tr>\n    <tr>\n      <th>2</th>\n      <td>28463795</td>\n      <td>/m/0crgdbh</td>\n      <td>Brun bitter</td>\n      <td>1988</td>\n      <td>NaN</td>\n      <td>83.0</td>\n      <td>{\"/m/05f_3\": \"Norwegian Language\"}</td>\n      <td>{\"/m/05b4w\": \"Norway\"}</td>\n      <td>{\"/m/0lsxr\": \"Crime Fiction\", \"/m/07s9rl0\": \"D...</td>\n      <td>396302.0</td>\n      <td>...</td>\n      <td>0.600</td>\n      <td>1988-11-17</td>\n      <td>Hair of the Dog</td>\n      <td>0.000</td>\n      <td>0.0</td>\n      <td>83.0</td>\n      <td>NaN</td>\n      <td>0.0</td>\n      <td>tt0094806</td>\n      <td>Mystery, Crime, Drama</td>\n    </tr>\n    <tr>\n      <th>3</th>\n      <td>9363483</td>\n      <td>/m/0285_cd</td>\n      <td>White Of The Eye</td>\n      <td>1987</td>\n      <td>NaN</td>\n      <td>110.0</td>\n      <td>{\"/m/02h40lc\": \"English Language\"}</td>\n      <td>{\"/m/07ssc\": \"United Kingdom\"}</td>\n      <td>{\"/m/01jfsb\": \"Thriller\", \"/m/0glj9q\": \"Erotic...</td>\n      <td>33592.0</td>\n      <td>...</td>\n      <td>7.336</td>\n      <td>1987-06-19</td>\n      <td>White of the Eye</td>\n      <td>5.742</td>\n      <td>64.0</td>\n      <td>111.0</td>\n      <td>NaN</td>\n      <td>0.0</td>\n      <td>tt0094320</td>\n      <td>Horror, Thriller</td>\n    </tr>\n    <tr>\n      <th>4</th>\n      <td>261236</td>\n      <td>/m/01mrr1</td>\n      <td>A Woman in Flames</td>\n      <td>1983</td>\n      <td>NaN</td>\n      <td>106.0</td>\n      <td>{\"/m/04306rv\": \"German Language\"}</td>\n      <td>{\"/m/0345h\": \"Germany\"}</td>\n      <td>{\"/m/07s9rl0\": \"Drama\"}</td>\n      <td>11192.0</td>\n      <td>...</td>\n      <td>2.397</td>\n      <td>1983-05-11</td>\n      <td>A Woman in Flames</td>\n      <td>5.300</td>\n      <td>13.0</td>\n      <td>106.0</td>\n      <td>NaN</td>\n      <td>0.0</td>\n      <td>tt0083949</td>\n      <td>Drama</td>\n    </tr>\n    <tr>\n      <th>...</th>\n      <td>...</td>\n      <td>...</td>\n      <td>...</td>\n      <td>...</td>\n      <td>...</td>\n      <td>...</td>\n      <td>...</td>\n      <td>...</td>\n      <td>...</td>\n      <td>...</td>\n      <td>...</td>\n      <td>...</td>\n      <td>...</td>\n      <td>...</td>\n      <td>...</td>\n      <td>...</td>\n      <td>...</td>\n      <td>...</td>\n      <td>...</td>\n      <td>...</td>\n      <td>...</td>\n    </tr>\n    <tr>\n      <th>81736</th>\n      <td>35228177</td>\n      <td>/m/0j7hxnt</td>\n      <td>Mermaids: The Body Found</td>\n      <td>2011-03-19</td>\n      <td>NaN</td>\n      <td>120.0</td>\n      <td>{\"/m/02h40lc\": \"English Language\"}</td>\n      <td>{\"/m/09c7w0\": \"United States of America\"}</td>\n      <td>{\"/m/07s9rl0\": \"Drama\"}</td>\n      <td>117124.0</td>\n      <td>...</td>\n      <td>5.098</td>\n      <td>2011-03-19</td>\n      <td>Mermaids: The Body Found</td>\n      <td>4.500</td>\n      <td>20.0</td>\n      <td>NaN</td>\n      <td>NaN</td>\n      <td>NaN</td>\n      <td>NaN</td>\n      <td>NaN</td>\n    </tr>\n    <tr>\n      <th>81737</th>\n      <td>34980460</td>\n      <td>/m/0g4pl34</td>\n      <td>Knuckle</td>\n      <td>2011-01-21</td>\n      <td>NaN</td>\n      <td>96.0</td>\n      <td>{\"/m/02h40lc\": \"English Language\"}</td>\n      <td>{\"/m/03rt9\": \"Ireland\", \"/m/07ssc\": \"United Ki...</td>\n      <td>{\"/m/03bxz7\": \"Biographical film\", \"/m/07s9rl0...</td>\n      <td>44946.0</td>\n      <td>...</td>\n      <td>9.789</td>\n      <td>2010-10-22</td>\n      <td>Knucklehead</td>\n      <td>5.500</td>\n      <td>50.0</td>\n      <td>NaN</td>\n      <td>NaN</td>\n      <td>NaN</td>\n      <td>NaN</td>\n      <td>NaN</td>\n    </tr>\n    <tr>\n      <th>81738</th>\n      <td>9971909</td>\n      <td>/m/02pygw1</td>\n      <td>Another Nice Mess</td>\n      <td>1972-09-22</td>\n      <td>NaN</td>\n      <td>66.0</td>\n      <td>{\"/m/02h40lc\": \"English Language\"}</td>\n      <td>{\"/m/09c7w0\": \"United States of America\"}</td>\n      <td>{\"/m/06nbt\": \"Satire\", \"/m/01z4y\": \"Comedy\"}</td>\n      <td>285337.0</td>\n      <td>...</td>\n      <td>1.960</td>\n      <td>1972-08-23</td>\n      <td>Another Nice Mess</td>\n      <td>0.000</td>\n      <td>0.0</td>\n      <td>NaN</td>\n      <td>NaN</td>\n      <td>NaN</td>\n      <td>NaN</td>\n      <td>NaN</td>\n    </tr>\n    <tr>\n      <th>81739</th>\n      <td>913762</td>\n      <td>/m/03pcrp</td>\n      <td>The Super Dimension Fortress Macross II: Lover...</td>\n      <td>1992-05-21</td>\n      <td>NaN</td>\n      <td>150.0</td>\n      <td>{\"/m/03_9r\": \"Japanese Language\"}</td>\n      <td>{\"/m/03_3d\": \"Japan\"}</td>\n      <td>{\"/m/06n90\": \"Science Fiction\", \"/m/0gw5n2f\": ...</td>\n      <td>NaN</td>\n      <td>...</td>\n      <td>NaN</td>\n      <td>NaN</td>\n      <td>NaN</td>\n      <td>NaN</td>\n      <td>NaN</td>\n      <td>NaN</td>\n      <td>NaN</td>\n      <td>NaN</td>\n      <td>NaN</td>\n      <td>NaN</td>\n    </tr>\n    <tr>\n      <th>81740</th>\n      <td>12476867</td>\n      <td>/m/02w7zz8</td>\n      <td>Spliced</td>\n      <td>2002</td>\n      <td>NaN</td>\n      <td>86.0</td>\n      <td>{\"/m/02h40lc\": \"English Language\"}</td>\n      <td>{\"/m/0d060g\": \"Canada\"}</td>\n      <td>{\"/m/01jfsb\": \"Thriller\", \"/m/03npn\": \"Horror\"...</td>\n      <td>344309.0</td>\n      <td>...</td>\n      <td>0.949</td>\n      <td>1921-06-11</td>\n      <td>Nearly Spliced</td>\n      <td>6.000</td>\n      <td>1.0</td>\n      <td>NaN</td>\n      <td>NaN</td>\n      <td>NaN</td>\n      <td>NaN</td>\n      <td>NaN</td>\n    </tr>\n  </tbody>\n</table>\n<p>81741 rows × 23 columns</p>\n</div>"
     },
     "metadata": {},
     "output_type": "display_data"
    }
   ],
   "source": [
    "# The two datasets are loaded\n",
    "movie_metadata_v2 = pd.read_csv('modified_data/movie_metadata_TMDB_v2.csv')\n",
    "movie_metadata = pd.read_csv('modified_data/movie_metadata_TMDB.csv',index_col=0)\n",
    "\n",
    "# Datasets are inspected beforehand\n",
    "display(movie_metadata)\n",
    "display(movie_metadata_v2)\n",
    "\n",
    "# Datasets are merged with a left join on movie_metadata (the dataset we want to populate)\n",
    "merged_df = pd.merge(movie_metadata,movie_metadata_v2,how='left')\n",
    "\n",
    "display(merged_df) # The merged dataset is displayed and a successful merge is confirmed\n",
    "\n",
    "#merged_df.to_csv(\"modified_data/movie_metadata_TMDB_v3.csv\",index=False) # The merged dataset is saved as *_V3, and without the index as it is not important"
   ],
   "metadata": {
    "collapsed": false,
    "ExecuteTime": {
     "end_time": "2023-11-15T14:23:01.516619800Z",
     "start_time": "2023-11-15T14:22:56.602652100Z"
    }
   },
   "id": "bb9f3b5732f27b1e"
  },
  {
   "cell_type": "markdown",
   "source": [
    "The data collected is now analysed below."
   ],
   "metadata": {
    "collapsed": false
   },
   "id": "cedb4552cd8504f0"
  },
  {
   "cell_type": "code",
   "execution_count": 17,
   "outputs": [
    {
     "name": "stderr",
     "output_type": "stream",
     "text": [
      "C:\\Users\\gusta\\AppData\\Local\\Temp\\ipykernel_9244\\3343969349.py:4: DtypeWarning: Columns (21,22) have mixed types. Specify dtype option on import or set low_memory=False.\n",
      "  movie_metadata_v3 = pd.read_csv('modified_data/movie_metadata_TMDB_v3.csv')\n"
     ]
    },
    {
     "data": {
      "text/plain": "                       Movie name  Movie box office revenue  TMDB_revenue\n36     They Knew What They Wanted                  932000.0           NaN\n47                 Daddy and Them                       NaN        6718.0\n53                   Rudo y Cursi                11091868.0           NaN\n57                      Innocence                       NaN       37598.0\n60        The Great New Wonderful                  172055.0           NaN\n...                           ...                       ...           ...\n81695           Coming to America               288752301.0           NaN\n81720             Spaced Invaders                15369573.0           NaN\n81725              State and Main                 6944471.0           NaN\n81726               Guilty as Sin                22886222.0           NaN\n81732              Eşrefpaşalılar                 1847671.0           NaN\n\n[7657 rows x 3 columns]",
      "text/html": "<div>\n<style scoped>\n    .dataframe tbody tr th:only-of-type {\n        vertical-align: middle;\n    }\n\n    .dataframe tbody tr th {\n        vertical-align: top;\n    }\n\n    .dataframe thead th {\n        text-align: right;\n    }\n</style>\n<table border=\"1\" class=\"dataframe\">\n  <thead>\n    <tr style=\"text-align: right;\">\n      <th></th>\n      <th>Movie name</th>\n      <th>Movie box office revenue</th>\n      <th>TMDB_revenue</th>\n    </tr>\n  </thead>\n  <tbody>\n    <tr>\n      <th>36</th>\n      <td>They Knew What They Wanted</td>\n      <td>932000.0</td>\n      <td>NaN</td>\n    </tr>\n    <tr>\n      <th>47</th>\n      <td>Daddy and Them</td>\n      <td>NaN</td>\n      <td>6718.0</td>\n    </tr>\n    <tr>\n      <th>53</th>\n      <td>Rudo y Cursi</td>\n      <td>11091868.0</td>\n      <td>NaN</td>\n    </tr>\n    <tr>\n      <th>57</th>\n      <td>Innocence</td>\n      <td>NaN</td>\n      <td>37598.0</td>\n    </tr>\n    <tr>\n      <th>60</th>\n      <td>The Great New Wonderful</td>\n      <td>172055.0</td>\n      <td>NaN</td>\n    </tr>\n    <tr>\n      <th>...</th>\n      <td>...</td>\n      <td>...</td>\n      <td>...</td>\n    </tr>\n    <tr>\n      <th>81695</th>\n      <td>Coming to America</td>\n      <td>288752301.0</td>\n      <td>NaN</td>\n    </tr>\n    <tr>\n      <th>81720</th>\n      <td>Spaced Invaders</td>\n      <td>15369573.0</td>\n      <td>NaN</td>\n    </tr>\n    <tr>\n      <th>81725</th>\n      <td>State and Main</td>\n      <td>6944471.0</td>\n      <td>NaN</td>\n    </tr>\n    <tr>\n      <th>81726</th>\n      <td>Guilty as Sin</td>\n      <td>22886222.0</td>\n      <td>NaN</td>\n    </tr>\n    <tr>\n      <th>81732</th>\n      <td>Eşrefpaşalılar</td>\n      <td>1847671.0</td>\n      <td>NaN</td>\n    </tr>\n  </tbody>\n</table>\n<p>7657 rows × 3 columns</p>\n</div>"
     },
     "metadata": {},
     "output_type": "display_data"
    },
    {
     "name": "stdout",
     "output_type": "stream",
     "text": [
      "Original revenue NaN: 60666\n",
      "New revenue NaN: 64966\n",
      "Difference -4300\n"
     ]
    },
    {
     "ename": "NameError",
     "evalue": "name 'movie_metadata_v2' is not defined",
     "output_type": "error",
     "traceback": [
      "\u001B[1;31m---------------------------------------------------------------------------\u001B[0m",
      "\u001B[1;31mNameError\u001B[0m                                 Traceback (most recent call last)",
      "Cell \u001B[1;32mIn[17], line 22\u001B[0m\n\u001B[0;32m     19\u001B[0m \u001B[38;5;28mprint\u001B[39m(\u001B[38;5;124m\"\u001B[39m\u001B[38;5;124mNew revenue NaN:\u001B[39m\u001B[38;5;124m\"\u001B[39m,tmdb_v3_revenue)\n\u001B[0;32m     20\u001B[0m \u001B[38;5;28mprint\u001B[39m(\u001B[38;5;124m\"\u001B[39m\u001B[38;5;124mDifference\u001B[39m\u001B[38;5;124m\"\u001B[39m, original_revenue\u001B[38;5;241m-\u001B[39mtmdb_v3_revenue)\n\u001B[1;32m---> 22\u001B[0m display(movie_metadata_v2)\n",
      "\u001B[1;31mNameError\u001B[0m: name 'movie_metadata_v2' is not defined"
     ]
    }
   ],
   "source": [
    "import numpy as np\n",
    "import pandas as pd\n",
    "\n",
    "movie_metadata_v3 = pd.read_csv('modified_data/movie_metadata_TMDB_v3.csv')\n",
    "\n",
    "#display(movie_metadata_v3[['Movie box office revenue','TMDB_revenue']].sample(50))\n",
    "\n",
    "\n",
    "filtered_df = movie_metadata_v3[(movie_metadata_v3['Movie box office revenue'].isna() | movie_metadata_v3['TMDB_revenue'].isna()) & ~(movie_metadata_v3['Movie box office revenue'].isna() & movie_metadata_v3['TMDB_revenue'].isna())]\n",
    "display(filtered_df[['Movie name','Movie box office revenue','TMDB_revenue']])\n",
    "\n",
    "\n",
    "\n",
    "\n",
    "original_revenue = movie_metadata_v3.dropna(subset=['TMDB_id'])['Movie box office revenue'].isnull().sum() # Calculate the total NaN values are in the provided datasets revenue\n",
    "tmdb_v3_revenue = movie_metadata_v3.dropna(subset=['TMDB_id'])['TMDB_revenue'].isnull().sum() # Calculate total NaN values for v2\n",
    "\n",
    "print(\"Original revenue NaN:\", original_revenue)\n",
    "print(\"New revenue NaN:\",tmdb_v3_revenue)\n",
    "print(\"Difference\", original_revenue-tmdb_v3_revenue)\n",
    "\n",
    "display(movie_metadata_v2)"
   ],
   "metadata": {
    "collapsed": false,
    "ExecuteTime": {
     "end_time": "2023-11-15T14:21:48.725521Z",
     "start_time": "2023-11-15T14:21:47.220244500Z"
    }
   },
   "id": "8ff3e7e5c0b808b6"
  },
  {
   "cell_type": "markdown",
   "source": [
    "It seems like the original dataset contained much of the information available about the movie revenue.\n",
    "However, for 701 movies the revenue was added, which is quite a lot still in the context of ~40000 movies with plot summaries.\n",
    "\n"
   ],
   "metadata": {
    "collapsed": false
   },
   "id": "6e9add630c680fc0"
  },
  {
   "cell_type": "markdown",
   "source": [
    "2.1 - combining revenue columns into a single one.\n",
    "In this section we're going to combine the original movie revenue data with the collected data in enrich_v2.\n"
   ],
   "metadata": {
    "collapsed": false
   },
   "id": "dce58167648125bd"
  },
  {
   "cell_type": "code",
   "execution_count": 35,
   "outputs": [
    {
     "name": "stdout",
     "output_type": "stream",
     "text": [
      "OLD rev 60666\n",
      "NEW rev: 59965\n"
     ]
    },
    {
     "data": {
      "text/plain": "       Unnamed: 0.1  Unnamed: 0  Wikipedia Movie ID Freebase Movie ID  \\\n0                 0           0              975900         /m/03vyhn   \n1                 1           1             3196793         /m/08yl5d   \n2                 2           2            28463795        /m/0crgdbh   \n3                 3           3             9363483        /m/0285_cd   \n4                 4           4              261236         /m/01mrr1   \n...             ...         ...                 ...               ...   \n68939         68939       81735            32468537        /m/0crwd9y   \n68940         68940       81736            35228177        /m/0j7hxnt   \n68941         68941       81737            34980460        /m/0g4pl34   \n68942         68942       81738             9971909        /m/02pygw1   \n68943         68943       81740            12476867        /m/02w7zz8   \n\n                                              Movie name Movie release date  \\\n0                                         Ghosts of Mars         2001-08-24   \n1      Getting Away with Murder: The JonBenét Ramsey ...         2000-02-16   \n2                                            Brun bitter               1988   \n3                                       White Of The Eye               1987   \n4                                      A Woman in Flames               1983   \n...                                                  ...                ...   \n68939                                    Shadow Boxing 2         2007-10-18   \n68940                           Mermaids: The Body Found         2011-03-19   \n68941                                            Knuckle         2011-01-21   \n68942                                  Another Nice Mess         1972-09-22   \n68943                                            Spliced               2002   \n\n       Movie box office revenue  Movie runtime  \\\n0                    14010832.0           98.0   \n1                           NaN           95.0   \n2                           NaN           83.0   \n3                           NaN          110.0   \n4                           NaN          106.0   \n...                         ...            ...   \n68939                       NaN          132.0   \n68940                       NaN          120.0   \n68941                       NaN           96.0   \n68942                       NaN           66.0   \n68943                       NaN           86.0   \n\n                                         Movie languages  \\\n0                     {\"/m/02h40lc\": \"English Language\"}   \n1                     {\"/m/02h40lc\": \"English Language\"}   \n2                     {\"/m/05f_3\": \"Norwegian Language\"}   \n3                     {\"/m/02h40lc\": \"English Language\"}   \n4                      {\"/m/04306rv\": \"German Language\"}   \n...                                                  ...   \n68939  {\"/m/06b_j\": \"Russian Language\", \"/m/02h40lc\":...   \n68940                 {\"/m/02h40lc\": \"English Language\"}   \n68941                 {\"/m/02h40lc\": \"English Language\"}   \n68942                 {\"/m/02h40lc\": \"English Language\"}   \n68943                 {\"/m/02h40lc\": \"English Language\"}   \n\n                                         Movie countries  ...  \\\n0              {\"/m/09c7w0\": \"United States of America\"}  ...   \n1              {\"/m/09c7w0\": \"United States of America\"}  ...   \n2                                 {\"/m/05b4w\": \"Norway\"}  ...   \n3                         {\"/m/07ssc\": \"United Kingdom\"}  ...   \n4                                {\"/m/0345h\": \"Germany\"}  ...   \n...                                                  ...  ...   \n68939                             {\"/m/06bnz\": \"Russia\"}  ...   \n68940          {\"/m/09c7w0\": \"United States of America\"}  ...   \n68941  {\"/m/03rt9\": \"Ireland\", \"/m/07ssc\": \"United Ki...  ...   \n68942          {\"/m/09c7w0\": \"United States of America\"}  ...   \n68943                            {\"/m/0d060g\": \"Canada\"}  ...   \n\n      TMDB_release_date                                         TMDB_title  \\\n0            2001-08-24                                     Ghosts of Mars   \n1            2000-02-16  Getting Away with Murder: The JonBenét Ramsey ...   \n2            1988-11-17                                    Hair of the Dog   \n3            1987-06-19                                   White of the Eye   \n4            1983-05-11                                  A Woman in Flames   \n...                 ...                                                ...   \n68939        2007-10-18                                            Revenge   \n68940        2011-03-19                           Mermaids: The Body Found   \n68941        2010-10-22                                        Knucklehead   \n68942        1972-08-23                                  Another Nice Mess   \n68943        1921-06-11                                     Nearly Spliced   \n\n      TMDB_vote_average TMDB_vote_count TMDB_runtime  TMDB_revenue  \\\n0                 5.123           980.0         98.0    14010832.0   \n1                 8.000             1.0         60.0           NaN   \n2                 0.000             0.0         83.0           NaN   \n3                 5.742            64.0        111.0           NaN   \n4                 5.300            13.0        106.0           NaN   \n...                 ...             ...          ...           ...   \n68939             5.607            28.0        135.0    11171900.0   \n68940             4.500            20.0         82.0           NaN   \n68941             5.500            50.0        100.0           NaN   \n68942             0.000             0.0         66.0           NaN   \n68943             6.000             1.0          0.0           NaN   \n\n      TMDB_budget TMDB_IMDB_id                      TMDB_genres  \\\n0      28000000.0    tt0228333  Action, Horror, Science Fiction   \n1             0.0    tt0245916                     Drama, Crime   \n2             0.0    tt0094806            Mystery, Crime, Drama   \n3             0.0    tt0094320                 Horror, Thriller   \n4             0.0    tt0083949                            Drama   \n...           ...          ...                              ...   \n68939   6000000.0    tt0459759           Action, Drama, Mystery   \n68940         0.0    tt1816585                  Science Fiction   \n68941         0.0    tt1524131                    Drama, Comedy   \n68942         0.0    tt0362411                           Comedy   \n68943         0.0    tt1263758                           Comedy   \n\n       Movie box office revenue enriched  \n0                             14010832.0  \n1                                    NaN  \n2                                    NaN  \n3                                    NaN  \n4                                    NaN  \n...                                  ...  \n68939                                NaN  \n68940                                NaN  \n68941                                NaN  \n68942                                NaN  \n68943                                NaN  \n\n[68944 rows x 26 columns]",
      "text/html": "<div>\n<style scoped>\n    .dataframe tbody tr th:only-of-type {\n        vertical-align: middle;\n    }\n\n    .dataframe tbody tr th {\n        vertical-align: top;\n    }\n\n    .dataframe thead th {\n        text-align: right;\n    }\n</style>\n<table border=\"1\" class=\"dataframe\">\n  <thead>\n    <tr style=\"text-align: right;\">\n      <th></th>\n      <th>Unnamed: 0.1</th>\n      <th>Unnamed: 0</th>\n      <th>Wikipedia Movie ID</th>\n      <th>Freebase Movie ID</th>\n      <th>Movie name</th>\n      <th>Movie release date</th>\n      <th>Movie box office revenue</th>\n      <th>Movie runtime</th>\n      <th>Movie languages</th>\n      <th>Movie countries</th>\n      <th>...</th>\n      <th>TMDB_release_date</th>\n      <th>TMDB_title</th>\n      <th>TMDB_vote_average</th>\n      <th>TMDB_vote_count</th>\n      <th>TMDB_runtime</th>\n      <th>TMDB_revenue</th>\n      <th>TMDB_budget</th>\n      <th>TMDB_IMDB_id</th>\n      <th>TMDB_genres</th>\n      <th>Movie box office revenue enriched</th>\n    </tr>\n  </thead>\n  <tbody>\n    <tr>\n      <th>0</th>\n      <td>0</td>\n      <td>0</td>\n      <td>975900</td>\n      <td>/m/03vyhn</td>\n      <td>Ghosts of Mars</td>\n      <td>2001-08-24</td>\n      <td>14010832.0</td>\n      <td>98.0</td>\n      <td>{\"/m/02h40lc\": \"English Language\"}</td>\n      <td>{\"/m/09c7w0\": \"United States of America\"}</td>\n      <td>...</td>\n      <td>2001-08-24</td>\n      <td>Ghosts of Mars</td>\n      <td>5.123</td>\n      <td>980.0</td>\n      <td>98.0</td>\n      <td>14010832.0</td>\n      <td>28000000.0</td>\n      <td>tt0228333</td>\n      <td>Action, Horror, Science Fiction</td>\n      <td>14010832.0</td>\n    </tr>\n    <tr>\n      <th>1</th>\n      <td>1</td>\n      <td>1</td>\n      <td>3196793</td>\n      <td>/m/08yl5d</td>\n      <td>Getting Away with Murder: The JonBenét Ramsey ...</td>\n      <td>2000-02-16</td>\n      <td>NaN</td>\n      <td>95.0</td>\n      <td>{\"/m/02h40lc\": \"English Language\"}</td>\n      <td>{\"/m/09c7w0\": \"United States of America\"}</td>\n      <td>...</td>\n      <td>2000-02-16</td>\n      <td>Getting Away with Murder: The JonBenét Ramsey ...</td>\n      <td>8.000</td>\n      <td>1.0</td>\n      <td>60.0</td>\n      <td>NaN</td>\n      <td>0.0</td>\n      <td>tt0245916</td>\n      <td>Drama, Crime</td>\n      <td>NaN</td>\n    </tr>\n    <tr>\n      <th>2</th>\n      <td>2</td>\n      <td>2</td>\n      <td>28463795</td>\n      <td>/m/0crgdbh</td>\n      <td>Brun bitter</td>\n      <td>1988</td>\n      <td>NaN</td>\n      <td>83.0</td>\n      <td>{\"/m/05f_3\": \"Norwegian Language\"}</td>\n      <td>{\"/m/05b4w\": \"Norway\"}</td>\n      <td>...</td>\n      <td>1988-11-17</td>\n      <td>Hair of the Dog</td>\n      <td>0.000</td>\n      <td>0.0</td>\n      <td>83.0</td>\n      <td>NaN</td>\n      <td>0.0</td>\n      <td>tt0094806</td>\n      <td>Mystery, Crime, Drama</td>\n      <td>NaN</td>\n    </tr>\n    <tr>\n      <th>3</th>\n      <td>3</td>\n      <td>3</td>\n      <td>9363483</td>\n      <td>/m/0285_cd</td>\n      <td>White Of The Eye</td>\n      <td>1987</td>\n      <td>NaN</td>\n      <td>110.0</td>\n      <td>{\"/m/02h40lc\": \"English Language\"}</td>\n      <td>{\"/m/07ssc\": \"United Kingdom\"}</td>\n      <td>...</td>\n      <td>1987-06-19</td>\n      <td>White of the Eye</td>\n      <td>5.742</td>\n      <td>64.0</td>\n      <td>111.0</td>\n      <td>NaN</td>\n      <td>0.0</td>\n      <td>tt0094320</td>\n      <td>Horror, Thriller</td>\n      <td>NaN</td>\n    </tr>\n    <tr>\n      <th>4</th>\n      <td>4</td>\n      <td>4</td>\n      <td>261236</td>\n      <td>/m/01mrr1</td>\n      <td>A Woman in Flames</td>\n      <td>1983</td>\n      <td>NaN</td>\n      <td>106.0</td>\n      <td>{\"/m/04306rv\": \"German Language\"}</td>\n      <td>{\"/m/0345h\": \"Germany\"}</td>\n      <td>...</td>\n      <td>1983-05-11</td>\n      <td>A Woman in Flames</td>\n      <td>5.300</td>\n      <td>13.0</td>\n      <td>106.0</td>\n      <td>NaN</td>\n      <td>0.0</td>\n      <td>tt0083949</td>\n      <td>Drama</td>\n      <td>NaN</td>\n    </tr>\n    <tr>\n      <th>...</th>\n      <td>...</td>\n      <td>...</td>\n      <td>...</td>\n      <td>...</td>\n      <td>...</td>\n      <td>...</td>\n      <td>...</td>\n      <td>...</td>\n      <td>...</td>\n      <td>...</td>\n      <td>...</td>\n      <td>...</td>\n      <td>...</td>\n      <td>...</td>\n      <td>...</td>\n      <td>...</td>\n      <td>...</td>\n      <td>...</td>\n      <td>...</td>\n      <td>...</td>\n      <td>...</td>\n    </tr>\n    <tr>\n      <th>68939</th>\n      <td>68939</td>\n      <td>81735</td>\n      <td>32468537</td>\n      <td>/m/0crwd9y</td>\n      <td>Shadow Boxing 2</td>\n      <td>2007-10-18</td>\n      <td>NaN</td>\n      <td>132.0</td>\n      <td>{\"/m/06b_j\": \"Russian Language\", \"/m/02h40lc\":...</td>\n      <td>{\"/m/06bnz\": \"Russia\"}</td>\n      <td>...</td>\n      <td>2007-10-18</td>\n      <td>Revenge</td>\n      <td>5.607</td>\n      <td>28.0</td>\n      <td>135.0</td>\n      <td>11171900.0</td>\n      <td>6000000.0</td>\n      <td>tt0459759</td>\n      <td>Action, Drama, Mystery</td>\n      <td>NaN</td>\n    </tr>\n    <tr>\n      <th>68940</th>\n      <td>68940</td>\n      <td>81736</td>\n      <td>35228177</td>\n      <td>/m/0j7hxnt</td>\n      <td>Mermaids: The Body Found</td>\n      <td>2011-03-19</td>\n      <td>NaN</td>\n      <td>120.0</td>\n      <td>{\"/m/02h40lc\": \"English Language\"}</td>\n      <td>{\"/m/09c7w0\": \"United States of America\"}</td>\n      <td>...</td>\n      <td>2011-03-19</td>\n      <td>Mermaids: The Body Found</td>\n      <td>4.500</td>\n      <td>20.0</td>\n      <td>82.0</td>\n      <td>NaN</td>\n      <td>0.0</td>\n      <td>tt1816585</td>\n      <td>Science Fiction</td>\n      <td>NaN</td>\n    </tr>\n    <tr>\n      <th>68941</th>\n      <td>68941</td>\n      <td>81737</td>\n      <td>34980460</td>\n      <td>/m/0g4pl34</td>\n      <td>Knuckle</td>\n      <td>2011-01-21</td>\n      <td>NaN</td>\n      <td>96.0</td>\n      <td>{\"/m/02h40lc\": \"English Language\"}</td>\n      <td>{\"/m/03rt9\": \"Ireland\", \"/m/07ssc\": \"United Ki...</td>\n      <td>...</td>\n      <td>2010-10-22</td>\n      <td>Knucklehead</td>\n      <td>5.500</td>\n      <td>50.0</td>\n      <td>100.0</td>\n      <td>NaN</td>\n      <td>0.0</td>\n      <td>tt1524131</td>\n      <td>Drama, Comedy</td>\n      <td>NaN</td>\n    </tr>\n    <tr>\n      <th>68942</th>\n      <td>68942</td>\n      <td>81738</td>\n      <td>9971909</td>\n      <td>/m/02pygw1</td>\n      <td>Another Nice Mess</td>\n      <td>1972-09-22</td>\n      <td>NaN</td>\n      <td>66.0</td>\n      <td>{\"/m/02h40lc\": \"English Language\"}</td>\n      <td>{\"/m/09c7w0\": \"United States of America\"}</td>\n      <td>...</td>\n      <td>1972-08-23</td>\n      <td>Another Nice Mess</td>\n      <td>0.000</td>\n      <td>0.0</td>\n      <td>66.0</td>\n      <td>NaN</td>\n      <td>0.0</td>\n      <td>tt0362411</td>\n      <td>Comedy</td>\n      <td>NaN</td>\n    </tr>\n    <tr>\n      <th>68943</th>\n      <td>68943</td>\n      <td>81740</td>\n      <td>12476867</td>\n      <td>/m/02w7zz8</td>\n      <td>Spliced</td>\n      <td>2002</td>\n      <td>NaN</td>\n      <td>86.0</td>\n      <td>{\"/m/02h40lc\": \"English Language\"}</td>\n      <td>{\"/m/0d060g\": \"Canada\"}</td>\n      <td>...</td>\n      <td>1921-06-11</td>\n      <td>Nearly Spliced</td>\n      <td>6.000</td>\n      <td>1.0</td>\n      <td>0.0</td>\n      <td>NaN</td>\n      <td>0.0</td>\n      <td>tt1263758</td>\n      <td>Comedy</td>\n      <td>NaN</td>\n    </tr>\n  </tbody>\n</table>\n<p>68944 rows × 26 columns</p>\n</div>"
     },
     "metadata": {},
     "output_type": "display_data"
    }
   ],
   "source": [
    "print('OLD rev',movie_metadata_v2['Movie box office revenue'].isnull().sum())\n",
    "print('NEW rev:',movie_metadata_v2['TMDB_revenue'].isnull().sum())\n",
    "\n",
    "movie_metadata_v2['Movie box office revenue enriched'] = movie_metadata_v2['Movie box office revenue']\n",
    "movie_metadata_v2['Movie box office revenue enriched'].fillna(movie_metadata_v2['TMDB_revenue'])\n",
    "#movie_metadata_v2.drop(columns=['TMDB_revenue','Movie box office revenue'])\n",
    "\n",
    "display(movie_metadata_v2)\n",
    "\n",
    "\n"
   ],
   "metadata": {
    "collapsed": false,
    "ExecuteTime": {
     "end_time": "2023-11-15T12:42:05.287689800Z",
     "start_time": "2023-11-15T12:42:05.218678800Z"
    }
   },
   "id": "901a7becec0e58e1"
  }
 ],
 "metadata": {
  "kernelspec": {
   "display_name": "Python 3",
   "language": "python",
   "name": "python3"
  },
  "language_info": {
   "codemirror_mode": {
    "name": "ipython",
    "version": 2
   },
   "file_extension": ".py",
   "mimetype": "text/x-python",
   "name": "python",
   "nbconvert_exporter": "python",
   "pygments_lexer": "ipython2",
   "version": "2.7.6"
  }
 },
 "nbformat": 4,
 "nbformat_minor": 5
}
