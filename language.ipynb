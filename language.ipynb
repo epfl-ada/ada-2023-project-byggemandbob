{
 "cells": [
  {
   "cell_type": "code",
   "execution_count": null,
   "metadata": {},
   "outputs": [],
   "source": [
    "movie_metadata = pd.read_csv('data_cleaned/movie_cleaned.csv', sep=',')\n",
    "\n"
   ]
  }
 ],
 "metadata": {
  "language_info": {
   "name": "python"
  }
 },
 "nbformat": 4,
 "nbformat_minor": 2
}
