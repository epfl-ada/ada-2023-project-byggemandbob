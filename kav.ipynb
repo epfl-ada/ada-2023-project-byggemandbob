{
 "cells": [
  {
   "cell_type": "code",
   "execution_count": 1,
   "id": "8f830b99-3cf0-4377-8794-01724339e31d",
   "metadata": {
    "tags": []
   },
   "outputs": [],
   "source": [
    "# Data wrangling\n",
    "import pandas as pd\n",
    "import numpy as np\n",
    "import matplotlib.pyplot as plt\n",
    "from scipy import stats\n",
    "import seaborn as sns\n",
    "import statsmodels.api as sm"
   ]
  },
  {
   "cell_type": "markdown",
   "id": "d504749a-f39f-4770-a4a9-ff5ed2ab2e45",
   "metadata": {},
   "source": [
    "## DATA WRANGLING"
   ]
  },
  {
   "cell_type": "code",
   "execution_count": 2,
   "id": "2a7443b2-f75d-4285-a48e-915df2fb3b0f",
   "metadata": {
    "tags": []
   },
   "outputs": [
    {
     "name": "stderr",
     "output_type": "stream",
     "text": [
      "C:\\Users\\kavus\\AppData\\Local\\Temp\\ipykernel_5328\\317216633.py:11: DtypeWarning: Columns (19,20) have mixed types. Specify dtype option on import or set low_memory=False.\n",
      "  movie_metadata = pd.read_csv(modified_data_folder +'movie_metadata_TMDB_FINAL.csv', sep=',')\n"
     ]
    }
   ],
   "source": [
    "# Load datasets\n",
    "data_folder = './data/'\n",
    "modified_data_folder = './modified_data/'\n",
    "\n",
    "headers_character_metadata = ['Wikipedia Movie ID', 'Freebase Movie ID','Movie release date', 'Character name', 'Actor DOB', \n",
    "                              'Actor gender', 'Actor height', 'Actor ethnicity', 'Actor name',\n",
    "                              'Actor age at movie release', 'Freebase character map', 'Freebase character ID', 'Freebase actor ID']\n",
    "character_metadata = pd.read_csv(data_folder + 'character.metadata.tsv', sep='\\t', names=headers_character_metadata)\n",
    "\n",
    "\n",
    "movie_metadata = pd.read_csv(modified_data_folder +'movie_metadata_TMDB_FINAL.csv', sep=',')\n",
    "movie_metadata.rename(columns={'Movie box office revenue enriched':'Movie box office revenue'}, inplace=True)"
   ]
  },
  {
   "cell_type": "code",
   "execution_count": 3,
   "id": "3056100c-2e84-4cf7-b899-b848e0006e56",
   "metadata": {
    "tags": []
   },
   "outputs": [],
   "source": [
    "# Add a column of release year to get consistency\n",
    "character_metadata['Movie release year'] = character_metadata['Movie release date'].str.split('-').str[0].astype('float')\n",
    "movie_metadata['Movie release year'] = movie_metadata['Movie release date'].str.split('-').str[0].astype('float')\n",
    "\n",
    "# Add a column of birth year to get consistency\n",
    "character_metadata['Actor birth year'] = character_metadata['Actor DOB'].str.split('-').str[0].astype('float')"
   ]
  },
  {
   "cell_type": "code",
   "execution_count": 4,
   "id": "25d6ccef-c321-48d5-88cd-779d9f47b31d",
   "metadata": {
    "tags": []
   },
   "outputs": [],
   "source": [
    "condition1 = (character_metadata['Movie release year'] < 1800)\n",
    "condition2 = (movie_metadata['Movie release year'] < 1800)\n",
    "\n",
    "character_metadata.loc[condition1, 'Movie release year'] = np.nan\n",
    "movie_metadata.loc[condition2, 'Movie release year'] = np.nan"
   ]
  },
  {
   "cell_type": "code",
   "execution_count": 5,
   "id": "01ca6bd5-7a92-42ca-8c7d-6236c6eef44f",
   "metadata": {
    "tags": []
   },
   "outputs": [],
   "source": [
    "# Define the condition to identify rows where 'Actor birth year' needs to be set to NaN\n",
    "condition = (character_metadata['Actor birth year'] < 1700) | (character_metadata['Actor birth year'] > 2016)\n",
    "character_metadata.loc[condition, 'Actor birth year'] = np.nan"
   ]
  },
  {
   "cell_type": "code",
   "execution_count": 6,
   "id": "bbe95e58-bfb2-45db-aebb-f89ed96ddfeb",
   "metadata": {
    "tags": []
   },
   "outputs": [],
   "source": [
    "# Define the condition to identify rows where height needs to be set to NaN\n",
    "condition = (character_metadata['Actor height'] > 2.4)\n",
    "character_metadata.loc[condition, 'Actor height'] = np.nan"
   ]
  },
  {
   "cell_type": "code",
   "execution_count": 7,
   "id": "31052e12-39cb-41c8-8957-7e1f0b0d7364",
   "metadata": {},
   "outputs": [],
   "source": [
    "# Define the condition to identify rows where age needs to be set to NaN\n",
    "condition = (character_metadata['Actor age at movie release'] < 0) | (character_metadata['Actor age at movie release'] > 110)\n",
    "character_metadata.loc[condition, 'Actor age at movie release'] = np.nan"
   ]
  },
  {
   "cell_type": "code",
   "execution_count": 8,
   "id": "c642eab9-c55d-4cb6-afe6-dc7cead33eaf",
   "metadata": {},
   "outputs": [],
   "source": [
    "condition = (movie_metadata['Movie runtime'] > 5*60)\n",
    "movie_metadata.loc[condition, 'Movie runtime'] = np.nan"
   ]
  },
  {
   "cell_type": "code",
   "execution_count": 9,
   "id": "4fe3d96e-3a08-42bf-a46b-6676c80ece20",
   "metadata": {
    "tags": []
   },
   "outputs": [],
   "source": [
    "# Function to extract genre names without Freebase codes\n",
    "def extract_genre_names(genre_dict):\n",
    "    genre_names = []\n",
    "    for code, name in genre_dict.items():\n",
    "        genre_names.append(name)\n",
    "    return \", \".join(genre_names)\n",
    "\n",
    "# Clean the \"Movie genres\" column\n",
    "movie_metadata[\"Movie genres\"] = movie_metadata[\"Movie genres\"].apply(eval)  # Convert string representation of dictionary to actual dictionary\n",
    "movie_metadata[\"Movie genres\"] = movie_metadata[\"Movie genres\"].apply(extract_genre_names)\n",
    "\n",
    "# Clean the \"Movie languages\" column (assuming similar structure to genres column)\n",
    "movie_metadata[\"Movie languages\"] = movie_metadata[\"Movie languages\"].apply(eval)\n",
    "movie_metadata[\"Movie languages\"] = movie_metadata[\"Movie languages\"].apply(lambda x: \", \".join(x.values()))\n",
    "\n",
    "# Clean the \"Movie countries\" column (assuming similar structure to genres column)\n",
    "movie_metadata[\"Movie countries\"] = movie_metadata[\"Movie countries\"].apply(eval)\n",
    "movie_metadata[\"Movie countries\"] = movie_metadata[\"Movie countries\"].apply(lambda x: \", \".join(x.values()))"
   ]
  }
 ],
 "metadata": {
  "kernelspec": {
   "display_name": "Python 3 (ipykernel)",
   "language": "python",
   "name": "python3"
  },
  "language_info": {
   "codemirror_mode": {
    "name": "ipython",
    "version": 3
   },
   "file_extension": ".py",
   "mimetype": "text/x-python",
   "name": "python",
   "nbconvert_exporter": "python",
   "pygments_lexer": "ipython3",
   "version": "3.9.18"
  }
 },
 "nbformat": 4,
 "nbformat_minor": 5
}
